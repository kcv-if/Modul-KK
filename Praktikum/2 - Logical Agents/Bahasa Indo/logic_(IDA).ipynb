{
  "cells": [
    {
      "cell_type": "code",
      "source": [
        "%pip install ipythonblocks\n",
        "%pip install qpsolvers"
      ],
      "metadata": {
        "colab": {
          "base_uri": "https://localhost:8080/"
        },
        "id": "OPeubuqSWtsi",
        "outputId": "a9518fda-6588-4685-fd13-cf7eeccf0724"
      },
      "execution_count": 1,
      "outputs": [
        {
          "output_type": "stream",
          "name": "stdout",
          "text": [
            "Collecting ipythonblocks\n",
            "  Downloading ipythonblocks-1.9.1-py2.py3-none-any.whl.metadata (4.4 kB)\n",
            "Requirement already satisfied: ipython>=4.0 in /usr/local/lib/python3.12/dist-packages (from ipythonblocks) (7.34.0)\n",
            "Requirement already satisfied: notebook>=4.0 in /usr/local/lib/python3.12/dist-packages (from ipythonblocks) (6.5.7)\n",
            "Requirement already satisfied: requests>=1.0 in /usr/local/lib/python3.12/dist-packages (from ipythonblocks) (2.32.4)\n",
            "Requirement already satisfied: setuptools>=18.5 in /usr/local/lib/python3.12/dist-packages (from ipython>=4.0->ipythonblocks) (75.2.0)\n",
            "Collecting jedi>=0.16 (from ipython>=4.0->ipythonblocks)\n",
            "  Downloading jedi-0.19.2-py2.py3-none-any.whl.metadata (22 kB)\n",
            "Requirement already satisfied: decorator in /usr/local/lib/python3.12/dist-packages (from ipython>=4.0->ipythonblocks) (4.4.2)\n",
            "Requirement already satisfied: pickleshare in /usr/local/lib/python3.12/dist-packages (from ipython>=4.0->ipythonblocks) (0.7.5)\n",
            "Requirement already satisfied: traitlets>=4.2 in /usr/local/lib/python3.12/dist-packages (from ipython>=4.0->ipythonblocks) (5.7.1)\n",
            "Requirement already satisfied: prompt-toolkit!=3.0.0,!=3.0.1,<3.1.0,>=2.0.0 in /usr/local/lib/python3.12/dist-packages (from ipython>=4.0->ipythonblocks) (3.0.52)\n",
            "Requirement already satisfied: pygments in /usr/local/lib/python3.12/dist-packages (from ipython>=4.0->ipythonblocks) (2.19.2)\n",
            "Requirement already satisfied: backcall in /usr/local/lib/python3.12/dist-packages (from ipython>=4.0->ipythonblocks) (0.2.0)\n",
            "Requirement already satisfied: matplotlib-inline in /usr/local/lib/python3.12/dist-packages (from ipython>=4.0->ipythonblocks) (0.1.7)\n",
            "Requirement already satisfied: pexpect>4.3 in /usr/local/lib/python3.12/dist-packages (from ipython>=4.0->ipythonblocks) (4.9.0)\n",
            "Requirement already satisfied: jinja2 in /usr/local/lib/python3.12/dist-packages (from notebook>=4.0->ipythonblocks) (3.1.6)\n",
            "Requirement already satisfied: tornado>=6.1 in /usr/local/lib/python3.12/dist-packages (from notebook>=4.0->ipythonblocks) (6.4.2)\n",
            "Requirement already satisfied: pyzmq>=17 in /usr/local/lib/python3.12/dist-packages (from notebook>=4.0->ipythonblocks) (26.2.1)\n",
            "Requirement already satisfied: argon2-cffi in /usr/local/lib/python3.12/dist-packages (from notebook>=4.0->ipythonblocks) (25.1.0)\n",
            "Requirement already satisfied: jupyter-core>=4.6.1 in /usr/local/lib/python3.12/dist-packages (from notebook>=4.0->ipythonblocks) (5.8.1)\n",
            "Requirement already satisfied: jupyter-client<8,>=5.3.4 in /usr/local/lib/python3.12/dist-packages (from notebook>=4.0->ipythonblocks) (7.4.9)\n",
            "Requirement already satisfied: ipython-genutils in /usr/local/lib/python3.12/dist-packages (from notebook>=4.0->ipythonblocks) (0.2.0)\n",
            "Requirement already satisfied: nbformat in /usr/local/lib/python3.12/dist-packages (from notebook>=4.0->ipythonblocks) (5.10.4)\n",
            "Requirement already satisfied: nbconvert>=5 in /usr/local/lib/python3.12/dist-packages (from notebook>=4.0->ipythonblocks) (7.16.6)\n",
            "Requirement already satisfied: nest-asyncio>=1.5 in /usr/local/lib/python3.12/dist-packages (from notebook>=4.0->ipythonblocks) (1.6.0)\n",
            "Requirement already satisfied: ipykernel in /usr/local/lib/python3.12/dist-packages (from notebook>=4.0->ipythonblocks) (6.17.1)\n",
            "Requirement already satisfied: Send2Trash>=1.8.0 in /usr/local/lib/python3.12/dist-packages (from notebook>=4.0->ipythonblocks) (1.8.3)\n",
            "Requirement already satisfied: terminado>=0.8.3 in /usr/local/lib/python3.12/dist-packages (from notebook>=4.0->ipythonblocks) (0.18.1)\n",
            "Requirement already satisfied: prometheus-client in /usr/local/lib/python3.12/dist-packages (from notebook>=4.0->ipythonblocks) (0.22.1)\n",
            "Requirement already satisfied: nbclassic>=0.4.7 in /usr/local/lib/python3.12/dist-packages (from notebook>=4.0->ipythonblocks) (1.3.1)\n",
            "Requirement already satisfied: charset_normalizer<4,>=2 in /usr/local/lib/python3.12/dist-packages (from requests>=1.0->ipythonblocks) (3.4.3)\n",
            "Requirement already satisfied: idna<4,>=2.5 in /usr/local/lib/python3.12/dist-packages (from requests>=1.0->ipythonblocks) (3.10)\n",
            "Requirement already satisfied: urllib3<3,>=1.21.1 in /usr/local/lib/python3.12/dist-packages (from requests>=1.0->ipythonblocks) (2.5.0)\n",
            "Requirement already satisfied: certifi>=2017.4.17 in /usr/local/lib/python3.12/dist-packages (from requests>=1.0->ipythonblocks) (2025.8.3)\n",
            "Requirement already satisfied: parso<0.9.0,>=0.8.4 in /usr/local/lib/python3.12/dist-packages (from jedi>=0.16->ipython>=4.0->ipythonblocks) (0.8.5)\n",
            "Requirement already satisfied: entrypoints in /usr/local/lib/python3.12/dist-packages (from jupyter-client<8,>=5.3.4->notebook>=4.0->ipythonblocks) (0.4)\n",
            "Requirement already satisfied: python-dateutil>=2.8.2 in /usr/local/lib/python3.12/dist-packages (from jupyter-client<8,>=5.3.4->notebook>=4.0->ipythonblocks) (2.9.0.post0)\n",
            "Requirement already satisfied: platformdirs>=2.5 in /usr/local/lib/python3.12/dist-packages (from jupyter-core>=4.6.1->notebook>=4.0->ipythonblocks) (4.4.0)\n",
            "Requirement already satisfied: notebook-shim>=0.2.3 in /usr/local/lib/python3.12/dist-packages (from nbclassic>=0.4.7->notebook>=4.0->ipythonblocks) (0.2.4)\n",
            "Requirement already satisfied: beautifulsoup4 in /usr/local/lib/python3.12/dist-packages (from nbconvert>=5->notebook>=4.0->ipythonblocks) (4.13.5)\n",
            "Requirement already satisfied: bleach!=5.0.0 in /usr/local/lib/python3.12/dist-packages (from bleach[css]!=5.0.0->nbconvert>=5->notebook>=4.0->ipythonblocks) (6.2.0)\n",
            "Requirement already satisfied: defusedxml in /usr/local/lib/python3.12/dist-packages (from nbconvert>=5->notebook>=4.0->ipythonblocks) (0.7.1)\n",
            "Requirement already satisfied: jupyterlab-pygments in /usr/local/lib/python3.12/dist-packages (from nbconvert>=5->notebook>=4.0->ipythonblocks) (0.3.0)\n",
            "Requirement already satisfied: markupsafe>=2.0 in /usr/local/lib/python3.12/dist-packages (from nbconvert>=5->notebook>=4.0->ipythonblocks) (3.0.2)\n",
            "Requirement already satisfied: mistune<4,>=2.0.3 in /usr/local/lib/python3.12/dist-packages (from nbconvert>=5->notebook>=4.0->ipythonblocks) (3.1.4)\n",
            "Requirement already satisfied: nbclient>=0.5.0 in /usr/local/lib/python3.12/dist-packages (from nbconvert>=5->notebook>=4.0->ipythonblocks) (0.10.2)\n",
            "Requirement already satisfied: packaging in /usr/local/lib/python3.12/dist-packages (from nbconvert>=5->notebook>=4.0->ipythonblocks) (25.0)\n",
            "Requirement already satisfied: pandocfilters>=1.4.1 in /usr/local/lib/python3.12/dist-packages (from nbconvert>=5->notebook>=4.0->ipythonblocks) (1.5.1)\n",
            "Requirement already satisfied: fastjsonschema>=2.15 in /usr/local/lib/python3.12/dist-packages (from nbformat->notebook>=4.0->ipythonblocks) (2.21.2)\n",
            "Requirement already satisfied: jsonschema>=2.6 in /usr/local/lib/python3.12/dist-packages (from nbformat->notebook>=4.0->ipythonblocks) (4.25.1)\n",
            "Requirement already satisfied: ptyprocess>=0.5 in /usr/local/lib/python3.12/dist-packages (from pexpect>4.3->ipython>=4.0->ipythonblocks) (0.7.0)\n",
            "Requirement already satisfied: wcwidth in /usr/local/lib/python3.12/dist-packages (from prompt-toolkit!=3.0.0,!=3.0.1,<3.1.0,>=2.0.0->ipython>=4.0->ipythonblocks) (0.2.13)\n",
            "Requirement already satisfied: argon2-cffi-bindings in /usr/local/lib/python3.12/dist-packages (from argon2-cffi->notebook>=4.0->ipythonblocks) (25.1.0)\n",
            "Requirement already satisfied: debugpy>=1.0 in /usr/local/lib/python3.12/dist-packages (from ipykernel->notebook>=4.0->ipythonblocks) (1.8.15)\n",
            "Requirement already satisfied: psutil in /usr/local/lib/python3.12/dist-packages (from ipykernel->notebook>=4.0->ipythonblocks) (5.9.5)\n",
            "Requirement already satisfied: webencodings in /usr/local/lib/python3.12/dist-packages (from bleach!=5.0.0->bleach[css]!=5.0.0->nbconvert>=5->notebook>=4.0->ipythonblocks) (0.5.1)\n",
            "Requirement already satisfied: tinycss2<1.5,>=1.1.0 in /usr/local/lib/python3.12/dist-packages (from bleach[css]!=5.0.0->nbconvert>=5->notebook>=4.0->ipythonblocks) (1.4.0)\n",
            "Requirement already satisfied: attrs>=22.2.0 in /usr/local/lib/python3.12/dist-packages (from jsonschema>=2.6->nbformat->notebook>=4.0->ipythonblocks) (25.3.0)\n",
            "Requirement already satisfied: jsonschema-specifications>=2023.03.6 in /usr/local/lib/python3.12/dist-packages (from jsonschema>=2.6->nbformat->notebook>=4.0->ipythonblocks) (2025.4.1)\n",
            "Requirement already satisfied: referencing>=0.28.4 in /usr/local/lib/python3.12/dist-packages (from jsonschema>=2.6->nbformat->notebook>=4.0->ipythonblocks) (0.36.2)\n",
            "Requirement already satisfied: rpds-py>=0.7.1 in /usr/local/lib/python3.12/dist-packages (from jsonschema>=2.6->nbformat->notebook>=4.0->ipythonblocks) (0.27.1)\n",
            "Requirement already satisfied: jupyter-server<3,>=1.8 in /usr/local/lib/python3.12/dist-packages (from notebook-shim>=0.2.3->nbclassic>=0.4.7->notebook>=4.0->ipythonblocks) (2.14.0)\n",
            "Requirement already satisfied: six>=1.5 in /usr/local/lib/python3.12/dist-packages (from python-dateutil>=2.8.2->jupyter-client<8,>=5.3.4->notebook>=4.0->ipythonblocks) (1.17.0)\n",
            "Requirement already satisfied: cffi>=1.0.1 in /usr/local/lib/python3.12/dist-packages (from argon2-cffi-bindings->argon2-cffi->notebook>=4.0->ipythonblocks) (1.17.1)\n",
            "Requirement already satisfied: soupsieve>1.2 in /usr/local/lib/python3.12/dist-packages (from beautifulsoup4->nbconvert>=5->notebook>=4.0->ipythonblocks) (2.8)\n",
            "Requirement already satisfied: typing-extensions>=4.0.0 in /usr/local/lib/python3.12/dist-packages (from beautifulsoup4->nbconvert>=5->notebook>=4.0->ipythonblocks) (4.15.0)\n",
            "Requirement already satisfied: pycparser in /usr/local/lib/python3.12/dist-packages (from cffi>=1.0.1->argon2-cffi-bindings->argon2-cffi->notebook>=4.0->ipythonblocks) (2.22)\n",
            "Requirement already satisfied: anyio>=3.1.0 in /usr/local/lib/python3.12/dist-packages (from jupyter-server<3,>=1.8->notebook-shim>=0.2.3->nbclassic>=0.4.7->notebook>=4.0->ipythonblocks) (4.10.0)\n",
            "Requirement already satisfied: jupyter-events>=0.9.0 in /usr/local/lib/python3.12/dist-packages (from jupyter-server<3,>=1.8->notebook-shim>=0.2.3->nbclassic>=0.4.7->notebook>=4.0->ipythonblocks) (0.12.0)\n",
            "Requirement already satisfied: jupyter-server-terminals>=0.4.4 in /usr/local/lib/python3.12/dist-packages (from jupyter-server<3,>=1.8->notebook-shim>=0.2.3->nbclassic>=0.4.7->notebook>=4.0->ipythonblocks) (0.5.3)\n",
            "Requirement already satisfied: overrides>=5.0 in /usr/local/lib/python3.12/dist-packages (from jupyter-server<3,>=1.8->notebook-shim>=0.2.3->nbclassic>=0.4.7->notebook>=4.0->ipythonblocks) (7.7.0)\n",
            "Requirement already satisfied: websocket-client>=1.7 in /usr/local/lib/python3.12/dist-packages (from jupyter-server<3,>=1.8->notebook-shim>=0.2.3->nbclassic>=0.4.7->notebook>=4.0->ipythonblocks) (1.8.0)\n",
            "Requirement already satisfied: sniffio>=1.1 in /usr/local/lib/python3.12/dist-packages (from anyio>=3.1.0->jupyter-server<3,>=1.8->notebook-shim>=0.2.3->nbclassic>=0.4.7->notebook>=4.0->ipythonblocks) (1.3.1)\n",
            "Requirement already satisfied: python-json-logger>=2.0.4 in /usr/local/lib/python3.12/dist-packages (from jupyter-events>=0.9.0->jupyter-server<3,>=1.8->notebook-shim>=0.2.3->nbclassic>=0.4.7->notebook>=4.0->ipythonblocks) (3.3.0)\n",
            "Requirement already satisfied: pyyaml>=5.3 in /usr/local/lib/python3.12/dist-packages (from jupyter-events>=0.9.0->jupyter-server<3,>=1.8->notebook-shim>=0.2.3->nbclassic>=0.4.7->notebook>=4.0->ipythonblocks) (6.0.2)\n",
            "Requirement already satisfied: rfc3339-validator in /usr/local/lib/python3.12/dist-packages (from jupyter-events>=0.9.0->jupyter-server<3,>=1.8->notebook-shim>=0.2.3->nbclassic>=0.4.7->notebook>=4.0->ipythonblocks) (0.1.4)\n",
            "Requirement already satisfied: rfc3986-validator>=0.1.1 in /usr/local/lib/python3.12/dist-packages (from jupyter-events>=0.9.0->jupyter-server<3,>=1.8->notebook-shim>=0.2.3->nbclassic>=0.4.7->notebook>=4.0->ipythonblocks) (0.1.1)\n",
            "Requirement already satisfied: fqdn in /usr/local/lib/python3.12/dist-packages (from jsonschema[format-nongpl]>=4.18.0->jupyter-events>=0.9.0->jupyter-server<3,>=1.8->notebook-shim>=0.2.3->nbclassic>=0.4.7->notebook>=4.0->ipythonblocks) (1.5.1)\n",
            "Requirement already satisfied: isoduration in /usr/local/lib/python3.12/dist-packages (from jsonschema[format-nongpl]>=4.18.0->jupyter-events>=0.9.0->jupyter-server<3,>=1.8->notebook-shim>=0.2.3->nbclassic>=0.4.7->notebook>=4.0->ipythonblocks) (20.11.0)\n",
            "Requirement already satisfied: jsonpointer>1.13 in /usr/local/lib/python3.12/dist-packages (from jsonschema[format-nongpl]>=4.18.0->jupyter-events>=0.9.0->jupyter-server<3,>=1.8->notebook-shim>=0.2.3->nbclassic>=0.4.7->notebook>=4.0->ipythonblocks) (3.0.0)\n",
            "Requirement already satisfied: rfc3987-syntax>=1.1.0 in /usr/local/lib/python3.12/dist-packages (from jsonschema[format-nongpl]>=4.18.0->jupyter-events>=0.9.0->jupyter-server<3,>=1.8->notebook-shim>=0.2.3->nbclassic>=0.4.7->notebook>=4.0->ipythonblocks) (1.1.0)\n",
            "Requirement already satisfied: uri-template in /usr/local/lib/python3.12/dist-packages (from jsonschema[format-nongpl]>=4.18.0->jupyter-events>=0.9.0->jupyter-server<3,>=1.8->notebook-shim>=0.2.3->nbclassic>=0.4.7->notebook>=4.0->ipythonblocks) (1.3.0)\n",
            "Requirement already satisfied: webcolors>=24.6.0 in /usr/local/lib/python3.12/dist-packages (from jsonschema[format-nongpl]>=4.18.0->jupyter-events>=0.9.0->jupyter-server<3,>=1.8->notebook-shim>=0.2.3->nbclassic>=0.4.7->notebook>=4.0->ipythonblocks) (24.11.1)\n",
            "Requirement already satisfied: lark>=1.2.2 in /usr/local/lib/python3.12/dist-packages (from rfc3987-syntax>=1.1.0->jsonschema[format-nongpl]>=4.18.0->jupyter-events>=0.9.0->jupyter-server<3,>=1.8->notebook-shim>=0.2.3->nbclassic>=0.4.7->notebook>=4.0->ipythonblocks) (1.2.2)\n",
            "Requirement already satisfied: arrow>=0.15.0 in /usr/local/lib/python3.12/dist-packages (from isoduration->jsonschema[format-nongpl]>=4.18.0->jupyter-events>=0.9.0->jupyter-server<3,>=1.8->notebook-shim>=0.2.3->nbclassic>=0.4.7->notebook>=4.0->ipythonblocks) (1.3.0)\n",
            "Requirement already satisfied: types-python-dateutil>=2.8.10 in /usr/local/lib/python3.12/dist-packages (from arrow>=0.15.0->isoduration->jsonschema[format-nongpl]>=4.18.0->jupyter-events>=0.9.0->jupyter-server<3,>=1.8->notebook-shim>=0.2.3->nbclassic>=0.4.7->notebook>=4.0->ipythonblocks) (2.9.0.20250822)\n",
            "Downloading ipythonblocks-1.9.1-py2.py3-none-any.whl (14 kB)\n",
            "Downloading jedi-0.19.2-py2.py3-none-any.whl (1.6 MB)\n",
            "\u001b[2K   \u001b[90m━━━━━━━━━━━━━━━━━━━━━━━━━━━━━━━━━━━━━━━━\u001b[0m \u001b[32m1.6/1.6 MB\u001b[0m \u001b[31m24.5 MB/s\u001b[0m eta \u001b[36m0:00:00\u001b[0m\n",
            "\u001b[?25hInstalling collected packages: jedi, ipythonblocks\n",
            "Successfully installed ipythonblocks-1.9.1 jedi-0.19.2\n",
            "Collecting qpsolvers\n",
            "  Downloading qpsolvers-4.8.1-py3-none-any.whl.metadata (12 kB)\n",
            "Requirement already satisfied: numpy>=1.15.4 in /usr/local/lib/python3.12/dist-packages (from qpsolvers) (2.0.2)\n",
            "Requirement already satisfied: scipy>=1.2.0 in /usr/local/lib/python3.12/dist-packages (from qpsolvers) (1.16.1)\n",
            "Downloading qpsolvers-4.8.1-py3-none-any.whl (92 kB)\n",
            "\u001b[2K   \u001b[90m━━━━━━━━━━━━━━━━━━━━━━━━━━━━━━━━━━━━━━━━\u001b[0m \u001b[32m92.1/92.1 kB\u001b[0m \u001b[31m2.8 MB/s\u001b[0m eta \u001b[36m0:00:00\u001b[0m\n",
            "\u001b[?25hInstalling collected packages: qpsolvers\n",
            "Successfully installed qpsolvers-4.8.1\n"
          ]
        }
      ]
    },
    {
      "cell_type": "code",
      "source": [
        "!git clone https://github.com/bscpnu/Praktikum-Kecerdasan-Komputasional.git"
      ],
      "metadata": {
        "colab": {
          "base_uri": "https://localhost:8080/"
        },
        "id": "k4xUYmWmWPJR",
        "outputId": "f98310c3-d52a-4e48-c637-f33c7c7e078f"
      },
      "execution_count": 2,
      "outputs": [
        {
          "output_type": "stream",
          "name": "stdout",
          "text": [
            "Cloning into 'Praktikum-Kecerdasan-Komputasional'...\n",
            "remote: Enumerating objects: 494, done.\u001b[K\n",
            "remote: Counting objects: 100% (45/45), done.\u001b[K\n",
            "remote: Compressing objects: 100% (37/37), done.\u001b[K\n",
            "remote: Total 494 (delta 19), reused 24 (delta 8), pack-reused 449 (from 1)\u001b[K\n",
            "Receiving objects: 100% (494/494), 52.87 MiB | 11.94 MiB/s, done.\n",
            "Resolving deltas: 100% (122/122), done.\n"
          ]
        }
      ]
    },
    {
      "cell_type": "code",
      "source": [
        "%cd \"/content/Praktikum-Kecerdasan-Komputasional/Praktikum/2 - Logical Agents\""
      ],
      "metadata": {
        "colab": {
          "base_uri": "https://localhost:8080/"
        },
        "id": "W5J5JEN5cCZx",
        "outputId": "1decb1be-f339-4e18-ae56-dd4bf18c56d1"
      },
      "execution_count": 3,
      "outputs": [
        {
          "output_type": "stream",
          "name": "stdout",
          "text": [
            "/content/Praktikum-Kecerdasan-Komputasional/Praktikum/2 - Logical Agents\n"
          ]
        }
      ]
    },
    {
      "cell_type": "code",
      "source": [
        "import sys\n",
        "sys.path.append(\"/content/Praktikum-Kecerdasan-Komputasional/Praktikum/2 - Logical Agents\")"
      ],
      "metadata": {
        "id": "x4qKog_DWQ24"
      },
      "execution_count": 4,
      "outputs": []
    },
    {
      "cell_type": "code",
      "source": [
        "!ln -s /content/Praktikum-Kecerdasan-Komputasional/aima-data ./aima-data\n",
        "!ls aima-data"
      ],
      "metadata": {
        "colab": {
          "base_uri": "https://localhost:8080/"
        },
        "id": "MjmHYzPMarWB",
        "outputId": "7f962f35-9e96-4965-f976-f7fd90973448"
      },
      "execution_count": 5,
      "outputs": [
        {
          "output_type": "stream",
          "name": "stdout",
          "text": [
            "ascii-robotdata1.log  GE-text\t     LICENSE.md  orings.txt\t zoo.txt\n",
            "ascii-robotdata1.txt  gutenberg.txt  MAN\t README.md\n",
            "EN-text\t\t      iris.csv\t     MNIST\t restaurant.csv\n",
            "FR-text\t\t      iris.txt\t     orings.csv  zoo.csv\n"
          ]
        }
      ]
    },
    {
      "cell_type": "code",
      "source": [
        "from utils import *\n",
        "from logic import *\n",
        "\n",
        "from notebook import psource"
      ],
      "metadata": {
        "colab": {
          "base_uri": "https://localhost:8080/"
        },
        "id": "W9n9zY05WjhE",
        "outputId": "fb4220bb-141c-403b-f272-3bee75c8e2ad"
      },
      "execution_count": 6,
      "outputs": [
        {
          "output_type": "stream",
          "name": "stderr",
          "text": [
            "/content/Praktikum-Kecerdasan-Komputasional/Praktikum/2 - Logical Agents/logic.py:682: SyntaxWarning: invalid escape sequence '\\s'\n",
            "  For each literal compute J(l) = \\sum{l in clause c} 2^{-|c|}\n",
            "/content/Praktikum-Kecerdasan-Komputasional/Praktikum/2 - Logical Agents/csp.py:642: SyntaxWarning: invalid escape sequence '\\ '\n",
            "  downs[i]     Number of queens in the \\ diagonal\n"
          ]
        }
      ]
    },
    {
      "cell_type": "markdown",
      "metadata": {
        "collapsed": true,
        "id": "FpeOsh96WOXh"
      },
      "source": [
        "# Logic"
      ]
    },
    {
      "cell_type": "markdown",
      "metadata": {
        "id": "InDVsuGYWOXi"
      },
      "source": [
        "Notebook Jupyter ini berfungsi sebagai materi pendukung untuk topik-topik yang dibahas dalam __Bab 6 Logical Agents__, __Bab 7 First-Order Logic__ and __Bab 8 Inference in First-Order Logic__ dari buku *[Artificial Intelligence: A Modern Approach](http://aima.cs.berkeley.edu)*. Kami menggunakan implementasi dalam modul [logic.py](https://github.com/bscpnu/Praktikum-Kecerdasan-Komputasional/blob/main/Praktikum/2%20-%20Logical%20Agents/logic.py). Lihat [panduan praktikum logic](https://github.com/bscpnu/Praktikum-Kecerdasan-Komputasional/blob/main/Praktikum/2%20-%20Logical%20Agents/2%20Panduan%20Praktikum%20Logic.pdf) untuk petunjuk lebih lanjut.\n",
        "\n",
        "Mari kita impor terlebih dahulu semua yang ada dalam modul logika."
      ]
    },
    {
      "cell_type": "markdown",
      "metadata": {
        "id": "36vc4q8VWOXi"
      },
      "source": [
        "## CONTENTS\n",
        "- Logical sentences\n",
        "    - Expr\n",
        "    - PropKB\n",
        "    - Knowledge-based agents\n",
        "    - Inference in propositional knowledge base\n",
        "        - Truth table enumeration\n",
        "        - Proof by resolution\n",
        "        - Forward and backward chaining\n",
        "        - DPLL\n",
        "        - WalkSAT\n",
        "        - SATPlan\n",
        "    - FolKB\n",
        "    - Inference in first order knowledge base\n",
        "        - Unification\n",
        "        - Forward chaining algorithm\n",
        "        - Backward chaining algorithm"
      ]
    },
    {
      "cell_type": "markdown",
      "metadata": {
        "collapsed": true,
        "id": "iH7ucgskWOXj"
      },
      "source": [
        "## Logical Sentences (Kalimat Logika)"
      ]
    },
    {
      "cell_type": "markdown",
      "metadata": {
        "id": "DtK_0MFxWOXj"
      },
      "source": [
        "Kelas `Expr` dirancang untuk mepresentasikan berbagai ekspresi matematis. Tipe paling sederhana dari `Expr` adalah sebuah symbol, yang bisa didefinisikan dengan fungsi `Symbol`:"
      ]
    },
    {
      "cell_type": "code",
      "execution_count": 7,
      "metadata": {
        "colab": {
          "base_uri": "https://localhost:8080/"
        },
        "id": "Gh6YMPMyWOXj",
        "outputId": "3d6f6ee4-cebe-45b9-876c-c3d1b73cdc71"
      },
      "outputs": [
        {
          "output_type": "execute_result",
          "data": {
            "text/plain": [
              "x"
            ]
          },
          "metadata": {},
          "execution_count": 7
        }
      ],
      "source": [
        "Symbol('x')\n",
        "\n",
        "# perhatikan penggunaan huruf kapital/tidak di awal kata"
      ]
    },
    {
      "cell_type": "markdown",
      "metadata": {
        "id": "tgFW1koyWOXj"
      },
      "source": [
        "Atau juga bisa mendefinisikan beberapa symbol sekaligus dengan menggunakan fungsi `symbols`:"
      ]
    },
    {
      "cell_type": "code",
      "execution_count": 8,
      "metadata": {
        "collapsed": true,
        "id": "4N28360oWOXk"
      },
      "outputs": [],
      "source": [
        "(x, y, P, Q, f) = symbols('x, y, P, Q, f')"
      ]
    },
    {
      "cell_type": "markdown",
      "metadata": {
        "id": "AiIKWwhEWOXk"
      },
      "source": [
        "Kita bisa menggabungkan `Expr` dengan operator infiks dan prefiks Python biasa. Contohnya, begini cara kita membentuk kalimat logika \"P dan bukan Q\":"
      ]
    },
    {
      "cell_type": "code",
      "execution_count": 9,
      "metadata": {
        "colab": {
          "base_uri": "https://localhost:8080/"
        },
        "id": "uaBp6_u2WOXk",
        "outputId": "67a20163-1b25-4ae3-d336-595817725d2e"
      },
      "outputs": [
        {
          "output_type": "execute_result",
          "data": {
            "text/plain": [
              "(P & ~Q)"
            ]
          },
          "metadata": {},
          "execution_count": 9
        }
      ],
      "source": [
        "P & ~Q"
      ]
    },
    {
      "cell_type": "markdown",
      "metadata": {
        "id": "Uj6e7qCUWOXk"
      },
      "source": [
        "\n",
        "\n",
        "Hal ini bisa dilakukan karena kelas `Expr` melakukan overloading pada operator `&` dengan definisi berikut:\n",
        "\n",
        "```\n",
        "def __and__(self, other):\n",
        "    return Expr('&', self, other)\n",
        "```\n",
        "\n",
        "Selain `&`, operator lain juga di-override dengan cara serupa. Setiap `Expr` punya dua bagian penting:\n",
        "\n",
        "- `op` → operator (selalu berupa string)\n",
        "\n",
        "- `args` → argumen, yaitu tuple berisi 0 atau lebih ekspresi\n",
        "\n",
        "maksud dari \"ekspresi\" di sini bisa berupa objek `Expr` lain, atau angka biasa. kita bisa lihat isi field dari beberapa contoh `Expr`:"
      ]
    },
    {
      "cell_type": "code",
      "execution_count": 10,
      "metadata": {
        "colab": {
          "base_uri": "https://localhost:8080/",
          "height": 35
        },
        "id": "l6tvzFDWWOXk",
        "outputId": "2927c1da-b121-47b8-f4f2-0135cd34fd5e"
      },
      "outputs": [
        {
          "output_type": "execute_result",
          "data": {
            "text/plain": [
              "'|'"
            ],
            "application/vnd.google.colaboratory.intrinsic+json": {
              "type": "string"
            }
          },
          "metadata": {},
          "execution_count": 10
        }
      ],
      "source": [
        "sentence = P & ~Q | f\n",
        "\n",
        "sentence.op\n",
        "# operator paling atas dari ekspresi"
      ]
    },
    {
      "cell_type": "code",
      "execution_count": 11,
      "metadata": {
        "colab": {
          "base_uri": "https://localhost:8080/"
        },
        "id": "TMdCMA66WOXk",
        "outputId": "b73258d2-e25f-4d60-db4e-6cfa51e01413"
      },
      "outputs": [
        {
          "output_type": "execute_result",
          "data": {
            "text/plain": [
              "((P & ~Q), f)"
            ]
          },
          "metadata": {},
          "execution_count": 11
        }
      ],
      "source": [
        "sentence.args\n",
        "# mengambil argumen dari ekspresi"
      ]
    },
    {
      "cell_type": "code",
      "execution_count": 12,
      "metadata": {
        "colab": {
          "base_uri": "https://localhost:8080/",
          "height": 35
        },
        "id": "hHuQNs8YWOXk",
        "outputId": "6d1c3686-619e-46ed-b341-8a880fd3e0d5"
      },
      "outputs": [
        {
          "output_type": "execute_result",
          "data": {
            "text/plain": [
              "'Q'"
            ],
            "application/vnd.google.colaboratory.intrinsic+json": {
              "type": "string"
            }
          },
          "metadata": {},
          "execution_count": 12
        }
      ],
      "source": [
        "Q.op"
      ]
    },
    {
      "cell_type": "code",
      "execution_count": 16,
      "metadata": {
        "colab": {
          "base_uri": "https://localhost:8080/"
        },
        "id": "Jj4QUsN9WOXk",
        "outputId": "117089d3-2489-40ff-dd4a-5bdf46f5c746"
      },
      "outputs": [
        {
          "output_type": "execute_result",
          "data": {
            "text/plain": [
              "()"
            ]
          },
          "metadata": {},
          "execution_count": 16
        }
      ],
      "source": [
        "P.args\n",
        "# mengecek argumen dari simbol"
      ]
    },
    {
      "cell_type": "markdown",
      "source": [
        "P = (). karena P berdiri sendiri (tidak punya argumen)"
      ],
      "metadata": {
        "id": "3kNDvGDS_YPv"
      }
    },
    {
      "cell_type": "code",
      "execution_count": 17,
      "metadata": {
        "colab": {
          "base_uri": "https://localhost:8080/",
          "height": 35
        },
        "id": "2Nzw4cJpWOXk",
        "outputId": "8118f794-9e0b-423f-dc5e-03e203c0fd85"
      },
      "outputs": [
        {
          "output_type": "execute_result",
          "data": {
            "text/plain": [
              "'P'"
            ],
            "application/vnd.google.colaboratory.intrinsic+json": {
              "type": "string"
            }
          },
          "metadata": {},
          "execution_count": 17
        }
      ],
      "source": [
        "Pxy = P(x, y)\n",
        "# ekspresi baru, P adalah sebuah predikat dengan argumen x dan y\n",
        "\n",
        "Pxy.op\n",
        "# operator utama dari P(x, y) adalah:"
      ]
    },
    {
      "cell_type": "code",
      "execution_count": 18,
      "metadata": {
        "colab": {
          "base_uri": "https://localhost:8080/"
        },
        "id": "jKMPDkyeWOXl",
        "outputId": "5cad8a6d-fbeb-4a70-9a91-35014ae46877"
      },
      "outputs": [
        {
          "output_type": "execute_result",
          "data": {
            "text/plain": [
              "(x, y)"
            ]
          },
          "metadata": {},
          "execution_count": 18
        }
      ],
      "source": [
        "Pxy.args\n",
        "# argumen dari P(x, y)"
      ]
    },
    {
      "cell_type": "markdown",
      "metadata": {
        "id": "6v6Xc-KNWOXl"
      },
      "source": [
        "⚠️ Note\n",
        "- Expr tidak mendefinisikan logika (misalnya kebenaran True/False).\n",
        "\n",
        "- Expr hanya cara untuk merepresentasikan bentuk kalimat logika (seperti tree/AST). [abstract syntax tree](https://en.wikipedia.org/wiki/Abstract_syntax_tree)\n",
        "\n",
        "- Setiap dari `args` didalam `Expr` bisa berupa either symbol, number, atau `Expr` bersarang, dan kita bisa menumpuk ekspresi sedalam apa pun.\n",
        "\n",
        "\n",
        "Contoh:"
      ]
    },
    {
      "cell_type": "code",
      "execution_count": 19,
      "metadata": {
        "colab": {
          "base_uri": "https://localhost:8080/"
        },
        "id": "2vfvU1efWOXl",
        "outputId": "e8e0949c-bd88-4511-f09c-48ca94680d0a"
      },
      "outputs": [
        {
          "output_type": "execute_result",
          "data": {
            "text/plain": [
              "(((3 * f(x, y)) + (P(y) / 2)) + 1)"
            ]
          },
          "metadata": {},
          "execution_count": 19
        }
      ],
      "source": [
        "3 * f(x, y) + P(y) / 2 + 1"
      ]
    },
    {
      "cell_type": "markdown",
      "metadata": {
        "id": "PZmhPqOsWOXl"
      },
      "source": [
        "## Operators for Constructing Logical Sentences\n",
        "\n",
        "Tabel berikut menunjukkan operator-operator yang bisa dipakai untuk membentuk kalimat logika.\n",
        "\n",
        "\n",
        "👀: Perhatikan ada sedikit masalah: kita ingin memakai operator Python untuk menuliskan kalimat logika, supaya kode yang kita tulis (dan hasil di sesi interaktif) tetap sederhana. Masalahnya\n",
        "\n",
        "Namun, Python **tidak mengizinkan simbol panah implikasi (`==>`)** sebagai operator.  \n",
        "Sebagai gantinya, kita harus menggunakan notasi yang lebih panjang, yaitu `|'==>'|` alih-alih `==>`. Alternatifnya, kita bisa langsung menggunakan bentuk konstruktor `Expr` yang lebih eksplisit.\n",
        "\n",
        "| Operasi                  | Notasi Buku | Input Python (Infix) | Output Python | Input dengan `Expr` |\n",
        "|---------------------------|-------------|----------------------|---------------|---------------------|\n",
        "| Negasi                    | ¬P          | `~P`                 | `~P`          | `Expr('~', P)`      |\n",
        "| Konjungsi (And)           | P ∧ Q       | `P & Q`              | `P & Q`       | `Expr('&', P, Q)`   |\n",
        "| Disjungsi (Or)            | P ∨ Q       | `P | Q`              | `P | Q`       | `Expr('|', P, Q)`   |\n",
        "| Eksklusif Or (Xor)        | P ≠ Q       | `P ^ Q`              | `P ^ Q`       | `Expr('^', P, Q)`   |\n",
        "| Implikasi (→)             | P → Q       | `P |'==>'| Q`        | `P ==> Q`     | `Expr('==>', P, Q)` |\n",
        "| Implikasi Terbalik (←)    | Q ← P       | `Q |'<=='| P`        | `Q <== P`     | `Expr('<==', Q, P)` |\n",
        "| Ekuivalensi (↔)           | P ↔ Q       | `P |'<=>'| Q`        | `P <=> Q`     | `Expr('<=>', P, Q)` |\n",
        "\n",
        "\n",
        "Contoh bagaimana kita mendefinisikan sebuah kalimat logika dengan panah implikasi:"
      ]
    },
    {
      "cell_type": "code",
      "execution_count": 20,
      "metadata": {
        "colab": {
          "base_uri": "https://localhost:8080/"
        },
        "id": "JOsYjoOLWOXl",
        "outputId": "8dbc1aaa-ce7d-49d6-ae97-bee98b6c1fe6"
      },
      "outputs": [
        {
          "output_type": "execute_result",
          "data": {
            "text/plain": [
              "(~(P & Q) ==> (~P | ~Q))"
            ]
          },
          "metadata": {},
          "execution_count": 20
        }
      ],
      "source": [
        "~(P & Q)  |'==>'|  (~P | ~Q)"
      ]
    },
    {
      "cell_type": "markdown",
      "metadata": {
        "id": "zCf5DJ6mWOXl"
      },
      "source": [
        "### `expr`: sebuah shortcut untuk membentuk kalimat\n",
        "\n",
        "Jika `|'==>'|` terlihat jelek (tampilannya), bisa juga menggunakan fungsi `expr`."
      ]
    },
    {
      "cell_type": "code",
      "execution_count": 21,
      "metadata": {
        "colab": {
          "base_uri": "https://localhost:8080/"
        },
        "id": "KPDWROtKWOXl",
        "outputId": "ec3263fd-7b9f-419b-cc25-d3430c2b11ac"
      },
      "outputs": [
        {
          "output_type": "execute_result",
          "data": {
            "text/plain": [
              "(~(P & Q) ==> (~P | ~Q))"
            ]
          },
          "metadata": {},
          "execution_count": 21
        }
      ],
      "source": [
        "expr('~(P & Q)  ==>  (~P | ~Q)')"
      ]
    },
    {
      "cell_type": "markdown",
      "metadata": {
        "id": "rcmTFdU4WOXl"
      },
      "source": [
        "Fungsi `expr` bisa dipakai buat mengubah string menjadi sebuah objek `Expr`. Di dalam string, kita bisa menggunakan operator panah (`==>`, `<==`, `<=>`) seolah-olah dan memang akan diperlakukan itu sebagai operator Python biasa.\n",
        "\n",
        "Selain itu, perlu diingat bahwa `expr` juga otomatis mendefinisikan simbol apa pun yang muncul, jadi kita tidak perlu mendefinisikannya terlebih dahulu. let say ada simbol baru (misalnya a, b, c), dia otomatis bikin simbolnya tanpa kita harus definisikan dulu."
      ]
    },
    {
      "cell_type": "code",
      "execution_count": 22,
      "metadata": {
        "colab": {
          "base_uri": "https://localhost:8080/"
        },
        "id": "QBwVZuE6WOXl",
        "outputId": "d9f06617-fa91-4c53-da34-1c658eafe073"
      },
      "outputs": [
        {
          "output_type": "execute_result",
          "data": {
            "text/plain": [
              "sqrt(((a ** 2) - ((4 * b) * c)))"
            ]
          },
          "metadata": {},
          "execution_count": 22
        }
      ],
      "source": [
        "expr('sqrt(a ** 2 - 4 * b * c)')"
      ]
    },
    {
      "cell_type": "markdown",
      "metadata": {
        "id": "MYXtbr3VWOXl"
      },
      "source": [
        "Untuk saat ini, itu saja yang perlu diketahui tentang `expr`. Jika penjelasan lebih detail mengenai bagaimana `expr` diimplementasikan dan bagaimana `|'==>'|` ditangani dapat ditemukan di bagian lampiran (appendix)."
      ]
    },
    {
      "cell_type": "markdown",
      "metadata": {
        "id": "Vk8css3DWOXl"
      },
      "source": [
        "## Propositional Knowledge Bases: `PropKB`\n",
        "\n",
        "Kelas `PropKB` digunakan untuk merepresentasikan **basis pengetahuan (knowledge base / KB)** yang berisi kalimat-kalimat logika proposisional.\n",
        "\n",
        "Sebelum masuk ke `PropKB`, perhatikan dulu bahwa kelas `KB` memiliki empat metode utama (selain `__init__`). Penting dicatat bahwa metode `ask` sebenarnya hanya memanggil metode `ask_generator`. Artinya, ketika membuat kelas KB sendiri (meskipun kemungkinan besar tidak perlu, karena kelas-kelas sudah disediakan), yang perlu benar-benar diimplementasikan adalah **`ask_generator`**, bukan `ask`.\n",
        "<br>\n",
        "<br>\n",
        "### Kelas `PropKB`\n",
        "\n",
        "- **`__init__(self, sentence=None)`**  \n",
        "  Konstruktor `__init__` membuat satu atribut bernama `clauses`, yaitu sebuah list yang berisi semua kalimat di dalam basis pengetahuan.  Setiap kalimat disimpan dalam bentuk *clause* → kalimat yang hanya terdiri dari **literal** dan operator **OR (`∨`)**.\n",
        "\n",
        "- **`tell(self, sentence)`**\n",
        "  Ketika ingin menambahkan kalimat ke KB, method `tell` Digunakan untuk menambahkan kalimat baru ke KB.  \n",
        "  Metode ini akan:\n",
        "  1. Mengubah kalimat ke bentuk **CNF (Conjunctive Normal Form)**.\n",
        "  2. Mengekstrak semua *clause*.\n",
        "  3. Menambahkannya ke atribut `clauses`.\n",
        "\n",
        "  Jadi, kita tidak perlu  memastikan bahwa kalimat yang kita \"tell\" ke KB sudah berupa klausa. Kita bisa memberikan kalimat dalam bentuk apa pun, dan proses konversi ke CNF serta penambahan klausa hasil konversi akan ditangani otomatis oleh metode `tell`.\n",
        "\n",
        "- **`ask_generator(self, query)`**\n",
        "  Fungsi `ask_generator` dipanggil oleh `ask` untuk menjawab pertanyaan (query).  \n",
        "  Di dalamnya, ia memanggil fungsi `tt_entails`, yang mengembalikan:\n",
        "  - `True` jika basis pengetahuan **mengimplikasikan** query (KB ⊨ query).  \n",
        "  - `False` jika tidak.  \n",
        "\n",
        "  ✒️ Basically, Entailment itu artinya pengetahuan yang ada di KB menjamin kebenaran suatu kalimat α.\n",
        "\n",
        "  Hasil dari `ask_generator`adalah:\n",
        "  - `{}` (dictionary kosong) → jika query benar.  \n",
        "  - `None` → jika query salah.  \n",
        "\n",
        "  Mungkin agak aneh, karena biasanya kita expect hasil yang berupa `True` atau `False`. Namun, tujuannya ini dibuat adalah agar konsisten dengan **logika orde pertama (FOL)**, di mana `ask_generator` seharusnya mengembalikan semua **substitusi** variabel yang membuat query benar.  Dalam logika proposisional tidak ada variabel, jadi yang dikembalikan cukup `{}` (menandakan “ada solusi, tapi kosong”).\n",
        "\n",
        "  (～￣▽￣)～ Jika lebih suka hasil `True` atau `False`, gunakan metode **`ask_if_true`**. ～(￣▽￣~)\n",
        "\n",
        "\n",
        " - **`retract(self, sentence)`**\n",
        "  Digunakan untuk **menghapus** kalimat dari basis pengetahuan. disini, sama seperti `tell`, kita tidak harus memberikan *clause* langsung. Cukup berikan kalimat dalam bentuk apa pun → metode ini akan otomatis mengubahnya ke bentuk *clause* lalu menghapusnya dari `clauses`."
      ]
    },
    {
      "cell_type": "markdown",
      "metadata": {
        "id": "AnkuPaChWOXl"
      },
      "source": [
        "## Wumpus World KB\n",
        "contoh penggunaan `PropKB` (Propositional Knowledge Base) dalam Wumpus World \"sentences mentioned in `section 7.4.3`.\""
      ]
    },
    {
      "cell_type": "code",
      "execution_count": 23,
      "metadata": {
        "collapsed": true,
        "id": "MJokXeB7WOXm"
      },
      "outputs": [],
      "source": [
        "wumpus_kb = PropKB()\n",
        "# tempat untuk menyimpan semua pengetahuan proposisional tentang dunia Wumpus."
      ]
    },
    {
      "cell_type": "markdown",
      "metadata": {
        "id": "kfHK1Mc_WOXm"
      },
      "source": [
        "mendefinisikan simbol-simbol yang kita gunakan di klausa kita<br/>\n",
        "$P_{x, y}$ True jika ada *pit* (lubang) di kotak `[x, y]`.<br/>\n",
        "$B_{x, y}$ True jika ada *breeze* (angin) di kotak `[x, y]`.<br/>\n",
        "\n"
      ]
    },
    {
      "cell_type": "code",
      "execution_count": 24,
      "metadata": {
        "collapsed": true,
        "id": "8Lv-NWmjWOXm"
      },
      "outputs": [],
      "source": [
        "# Contoh deklarasi:\n",
        "P11, P12, P21, P22, P31, B11, B21 = expr('P11, P12, P21, P22, P31, B11, B21')\n",
        "\n",
        "# sekarang kita punya simbol logika proposisional untuk merepresentasikan kondisi dunia."
      ]
    },
    {
      "cell_type": "markdown",
      "metadata": {
        "id": "MAAvfqkzWOXm"
      },
      "source": [
        "dari `section 7.4.3`. Kita akan bilang <br/>\n",
        "\"Tidak ada lubang di `[1,1]`\"."
      ]
    },
    {
      "cell_type": "code",
      "execution_count": 25,
      "metadata": {
        "collapsed": true,
        "id": "muucf5OzWOXm"
      },
      "outputs": [],
      "source": [
        "wumpus_kb.tell(~P11)"
      ]
    },
    {
      "cell_type": "markdown",
      "metadata": {
        "id": "gPkaO1FzWOXm"
      },
      "source": [
        "**aturan umum di Wumpus World**\n",
        "\n",
        "Sebuah kotak akan terdapat *breeze* jika dan hanya jika ada *pit* di kotak tetangganya. Hal ini sebenarnya harus dituliskan untuk setiap kotak, tapi untuk sekarang kita hanya menuliskan kotak-kotak yang relevan saja"
      ]
    },
    {
      "cell_type": "code",
      "execution_count": 26,
      "metadata": {
        "collapsed": true,
        "id": "N44CqUndWOXm"
      },
      "outputs": [],
      "source": [
        "wumpus_kb.tell(B11 | '<=>' | ((P12 | P21)))\n",
        "# Breeze di (1,1) muncul jika dan hanya jika ada pit di (1,2) atau (2,1):\n",
        "wumpus_kb.tell(B21 | '<=>' | ((P11 | P22 | P31)))\n",
        "# Guees it ^_^"
      ]
    },
    {
      "cell_type": "markdown",
      "source": [
        "[👉 Lihat Jawaban](#jawaban1)\n",
        "belum selesai\n",
        "\n",
        "\n"
      ],
      "metadata": {
        "id": "UYZJgZmFypIB"
      }
    },
    {
      "cell_type": "markdown",
      "metadata": {
        "id": "U9XYz2CbWOXm"
      },
      "source": [
        "berdasarkan situasi di `Figure 7.3(b)`, sekarang kita masukkan persepsi breeze untuk dua kotak pertama"
      ]
    },
    {
      "cell_type": "code",
      "execution_count": 27,
      "metadata": {
        "collapsed": true,
        "id": "Qffh8pgHWOXm"
      },
      "outputs": [],
      "source": [
        "wumpus_kb.tell(~B11)\n",
        "# tidak ada breeze di (1,1)\n",
        "wumpus_kb.tell(B21)\n",
        "# another one, Guess it 🤔"
      ]
    },
    {
      "cell_type": "markdown",
      "source": [
        "### Isi knowledge base (clauses)"
      ],
      "metadata": {
        "id": "j51sBodx1LRn"
      }
    },
    {
      "cell_type": "markdown",
      "metadata": {
        "id": "UVJTpEmUWOXm"
      },
      "source": [
        "Kita bisa cek clauses yang kita simpan di `KB` dengan mengakses variabel `clauses`-nya"
      ]
    },
    {
      "cell_type": "code",
      "execution_count": 28,
      "metadata": {
        "colab": {
          "base_uri": "https://localhost:8080/"
        },
        "id": "sf1XkjlnWOXp",
        "outputId": "fa2028f7-c11d-40a3-d1df-49ea898060e7"
      },
      "outputs": [
        {
          "output_type": "execute_result",
          "data": {
            "text/plain": [
              "[~P11,\n",
              " (~P12 | B11),\n",
              " (~P21 | B11),\n",
              " (P12 | P21 | ~B11),\n",
              " (~P11 | B21),\n",
              " (~P22 | B21),\n",
              " (~P31 | B21),\n",
              " (P11 | P22 | P31 | ~B21),\n",
              " ~B11,\n",
              " B21]"
            ]
          },
          "metadata": {},
          "execution_count": 28
        }
      ],
      "source": [
        "wumpus_kb.clauses\n",
        "# kalau kita cek, nanti isinya sudah berupa bentuk CNF (conjunctive normal form)"
      ]
    },
    {
      "cell_type": "markdown",
      "source": [
        "Jadi bisa dilihat bahwa kalimat awal yang kita `tell` tadi otomatis diubah ke bentuk klausa logika proposisional."
      ],
      "metadata": {
        "id": "3guXaY5t1p8x"
      }
    },
    {
      "cell_type": "markdown",
      "metadata": {
        "id": "BiLvI4H-WOXp"
      },
      "source": [
        "Kita melihat bahwa ekivalensi $B_{1, 1} \\iff (P_{1, 2} \\lor P_{2, 1})$ ecara otomatis dikonversi menjadi dua implikasi yang kemudian diubah lagi menjadi CNF yang disimpan di dalam `KB`.<br/>\n",
        "$B_{1, 1} \\iff (P_{1, 2} \\lor P_{2, 1})$ dipecah menjadi $B_{1, 1} \\implies (P_{1, 2} \\lor P_{2, 1})$ dan $B_{1, 1} \\Longleftarrow (P_{1, 2} \\lor P_{2, 1})$.<br/>\n",
        "$B_{1, 1} \\implies (P_{1, 2} \\lor P_{2, 1})$ dikonversi menjadi $P_{1, 2} \\lor P_{2, 1} \\lor \\neg B_{1, 1}$.<br/>\n",
        "$B_{1, 1} \\Longleftarrow (P_{1, 2} \\lor P_{2, 1})$ dikonversi menjadi $\\neg (P_{1, 2} \\lor P_{2, 1}) \\lor B_{1, 1}$ yang kemudian menjadi $(\\neg P_{1, 2} \\lor B_{1, 1}) \\land (\\neg P_{2, 1} \\lor B_{1, 1})$ setelah menerapkan hukum De Morgan dan mendistribusikan disjungsi.<br/>\n",
        "$B_{2, 1} \\iff (P_{1, 1} \\lor P_{2, 2} \\lor P_{3, 2})$ dikonversi dengan cara yang serupa.\n",
        "\n"
      ]
    },
    {
      "cell_type": "markdown",
      "metadata": {
        "id": "ULg8lJq3WOXp"
      },
      "source": [
        "## Knowledge based agents (Agen Berbasis Pengetahuan)"
      ]
    },
    {
      "cell_type": "markdown",
      "metadata": {
        "id": "UgBxGIRRWOXp"
      },
      "source": [
        "Sebuah agen berbasis pengetahuan adalah agen generik sederhana yang menyimpan dan mengelola basis pengetahuan (knowledge base / KB).\n",
        "Basis pengetahuan ini dapat berisi pengetahuan awal (background knowledge).\n",
        "\n",
        "Tujuan dari agen KB adalah menyediakan abstraksi untuk manipulasi knowledge base, serta menjadi kelas dasar untuk agen-agen lain yang bekerja dengan knowledge base.\n",
        "\n",
        "\n",
        "Ketika menerima percept, agen akan menambahkan percept tersebut ke dalam `KB`. Agen lalu bertanya pada `KB` untuk menentukan aksi terbaik. Agen lalu bertanya pada `KB` untuk menentukan aksi terbaik. Setelah melakukan aksi, agen akan memberi tahu `KB` bahwa aksi tersebut sudah dilakukan.\n",
        "\n",
        "\n",
        "\n",
        "Implementasi `KB-Agent` dituliskan dalam kelas `KB_AgentProgram`, yang merupakan turunan dari kelas `KB`:\n",
        "\n",
        "\n",
        "Let's have a look 👀"
      ]
    },
    {
      "cell_type": "code",
      "execution_count": 29,
      "metadata": {
        "colab": {
          "base_uri": "https://localhost:8080/",
          "height": 454
        },
        "id": "aAj38F2GWOXp",
        "outputId": "d2800929-c70c-41be-daec-c1b59472391a"
      },
      "outputs": [
        {
          "output_type": "display_data",
          "data": {
            "text/plain": [
              "<IPython.core.display.HTML object>"
            ],
            "text/html": [
              "<!DOCTYPE html PUBLIC \"-//W3C//DTD HTML 4.01//EN\"\n",
              "   \"http://www.w3.org/TR/html4/strict.dtd\">\n",
              "<!--\n",
              "generated by Pygments <https://pygments.org/>\n",
              "Copyright 2006-2025 by the Pygments team.\n",
              "Licensed under the BSD license, see LICENSE for details.\n",
              "-->\n",
              "<html>\n",
              "<head>\n",
              "  <title></title>\n",
              "  <meta http-equiv=\"content-type\" content=\"text/html; charset=None\">\n",
              "  <style type=\"text/css\">\n",
              "/*\n",
              "generated by Pygments <https://pygments.org/>\n",
              "Copyright 2006-2025 by the Pygments team.\n",
              "Licensed under the BSD license, see LICENSE for details.\n",
              "*/\n",
              "pre { line-height: 125%; }\n",
              "td.linenos .normal { color: inherit; background-color: transparent; padding-left: 5px; padding-right: 5px; }\n",
              "span.linenos { color: inherit; background-color: transparent; padding-left: 5px; padding-right: 5px; }\n",
              "td.linenos .special { color: #000000; background-color: #ffffc0; padding-left: 5px; padding-right: 5px; }\n",
              "span.linenos.special { color: #000000; background-color: #ffffc0; padding-left: 5px; padding-right: 5px; }\n",
              "body .hll { background-color: #ffffcc }\n",
              "body { background: #f8f8f8; }\n",
              "body .c { color: #3D7B7B; font-style: italic } /* Comment */\n",
              "body .err { border: 1px solid #F00 } /* Error */\n",
              "body .k { color: #008000; font-weight: bold } /* Keyword */\n",
              "body .o { color: #666 } /* Operator */\n",
              "body .ch { color: #3D7B7B; font-style: italic } /* Comment.Hashbang */\n",
              "body .cm { color: #3D7B7B; font-style: italic } /* Comment.Multiline */\n",
              "body .cp { color: #9C6500 } /* Comment.Preproc */\n",
              "body .cpf { color: #3D7B7B; font-style: italic } /* Comment.PreprocFile */\n",
              "body .c1 { color: #3D7B7B; font-style: italic } /* Comment.Single */\n",
              "body .cs { color: #3D7B7B; font-style: italic } /* Comment.Special */\n",
              "body .gd { color: #A00000 } /* Generic.Deleted */\n",
              "body .ge { font-style: italic } /* Generic.Emph */\n",
              "body .ges { font-weight: bold; font-style: italic } /* Generic.EmphStrong */\n",
              "body .gr { color: #E40000 } /* Generic.Error */\n",
              "body .gh { color: #000080; font-weight: bold } /* Generic.Heading */\n",
              "body .gi { color: #008400 } /* Generic.Inserted */\n",
              "body .go { color: #717171 } /* Generic.Output */\n",
              "body .gp { color: #000080; font-weight: bold } /* Generic.Prompt */\n",
              "body .gs { font-weight: bold } /* Generic.Strong */\n",
              "body .gu { color: #800080; font-weight: bold } /* Generic.Subheading */\n",
              "body .gt { color: #04D } /* Generic.Traceback */\n",
              "body .kc { color: #008000; font-weight: bold } /* Keyword.Constant */\n",
              "body .kd { color: #008000; font-weight: bold } /* Keyword.Declaration */\n",
              "body .kn { color: #008000; font-weight: bold } /* Keyword.Namespace */\n",
              "body .kp { color: #008000 } /* Keyword.Pseudo */\n",
              "body .kr { color: #008000; font-weight: bold } /* Keyword.Reserved */\n",
              "body .kt { color: #B00040 } /* Keyword.Type */\n",
              "body .m { color: #666 } /* Literal.Number */\n",
              "body .s { color: #BA2121 } /* Literal.String */\n",
              "body .na { color: #687822 } /* Name.Attribute */\n",
              "body .nb { color: #008000 } /* Name.Builtin */\n",
              "body .nc { color: #00F; font-weight: bold } /* Name.Class */\n",
              "body .no { color: #800 } /* Name.Constant */\n",
              "body .nd { color: #A2F } /* Name.Decorator */\n",
              "body .ni { color: #717171; font-weight: bold } /* Name.Entity */\n",
              "body .ne { color: #CB3F38; font-weight: bold } /* Name.Exception */\n",
              "body .nf { color: #00F } /* Name.Function */\n",
              "body .nl { color: #767600 } /* Name.Label */\n",
              "body .nn { color: #00F; font-weight: bold } /* Name.Namespace */\n",
              "body .nt { color: #008000; font-weight: bold } /* Name.Tag */\n",
              "body .nv { color: #19177C } /* Name.Variable */\n",
              "body .ow { color: #A2F; font-weight: bold } /* Operator.Word */\n",
              "body .w { color: #BBB } /* Text.Whitespace */\n",
              "body .mb { color: #666 } /* Literal.Number.Bin */\n",
              "body .mf { color: #666 } /* Literal.Number.Float */\n",
              "body .mh { color: #666 } /* Literal.Number.Hex */\n",
              "body .mi { color: #666 } /* Literal.Number.Integer */\n",
              "body .mo { color: #666 } /* Literal.Number.Oct */\n",
              "body .sa { color: #BA2121 } /* Literal.String.Affix */\n",
              "body .sb { color: #BA2121 } /* Literal.String.Backtick */\n",
              "body .sc { color: #BA2121 } /* Literal.String.Char */\n",
              "body .dl { color: #BA2121 } /* Literal.String.Delimiter */\n",
              "body .sd { color: #BA2121; font-style: italic } /* Literal.String.Doc */\n",
              "body .s2 { color: #BA2121 } /* Literal.String.Double */\n",
              "body .se { color: #AA5D1F; font-weight: bold } /* Literal.String.Escape */\n",
              "body .sh { color: #BA2121 } /* Literal.String.Heredoc */\n",
              "body .si { color: #A45A77; font-weight: bold } /* Literal.String.Interpol */\n",
              "body .sx { color: #008000 } /* Literal.String.Other */\n",
              "body .sr { color: #A45A77 } /* Literal.String.Regex */\n",
              "body .s1 { color: #BA2121 } /* Literal.String.Single */\n",
              "body .ss { color: #19177C } /* Literal.String.Symbol */\n",
              "body .bp { color: #008000 } /* Name.Builtin.Pseudo */\n",
              "body .fm { color: #00F } /* Name.Function.Magic */\n",
              "body .vc { color: #19177C } /* Name.Variable.Class */\n",
              "body .vg { color: #19177C } /* Name.Variable.Global */\n",
              "body .vi { color: #19177C } /* Name.Variable.Instance */\n",
              "body .vm { color: #19177C } /* Name.Variable.Magic */\n",
              "body .il { color: #666 } /* Literal.Number.Integer.Long */\n",
              "\n",
              "  </style>\n",
              "</head>\n",
              "<body>\n",
              "<h2></h2>\n",
              "\n",
              "<div class=\"highlight\"><pre><span></span><span class=\"k\">def</span><span class=\"w\"> </span><span class=\"nf\">KBAgentProgram</span><span class=\"p\">(</span><span class=\"n\">kb</span><span class=\"p\">):</span>\n",
              "<span class=\"w\">    </span><span class=\"sd\">&quot;&quot;&quot;</span>\n",
              "<span class=\"sd\">    [Figure 7.1]</span>\n",
              "<span class=\"sd\">    A generic logical knowledge-based agent program.</span>\n",
              "<span class=\"sd\">    &quot;&quot;&quot;</span>\n",
              "    <span class=\"n\">steps</span> <span class=\"o\">=</span> <span class=\"n\">itertools</span><span class=\"o\">.</span><span class=\"n\">count</span><span class=\"p\">()</span>\n",
              "\n",
              "    <span class=\"k\">def</span><span class=\"w\"> </span><span class=\"nf\">program</span><span class=\"p\">(</span><span class=\"n\">percept</span><span class=\"p\">):</span>\n",
              "        <span class=\"n\">t</span> <span class=\"o\">=</span> <span class=\"nb\">next</span><span class=\"p\">(</span><span class=\"n\">steps</span><span class=\"p\">)</span>\n",
              "        <span class=\"n\">kb</span><span class=\"o\">.</span><span class=\"n\">tell</span><span class=\"p\">(</span><span class=\"n\">make_percept_sentence</span><span class=\"p\">(</span><span class=\"n\">percept</span><span class=\"p\">,</span> <span class=\"n\">t</span><span class=\"p\">))</span>\n",
              "        <span class=\"n\">action</span> <span class=\"o\">=</span> <span class=\"n\">kb</span><span class=\"o\">.</span><span class=\"n\">ask</span><span class=\"p\">(</span><span class=\"n\">make_action_query</span><span class=\"p\">(</span><span class=\"n\">t</span><span class=\"p\">))</span>\n",
              "        <span class=\"n\">kb</span><span class=\"o\">.</span><span class=\"n\">tell</span><span class=\"p\">(</span><span class=\"n\">make_action_sentence</span><span class=\"p\">(</span><span class=\"n\">action</span><span class=\"p\">,</span> <span class=\"n\">t</span><span class=\"p\">))</span>\n",
              "        <span class=\"k\">return</span> <span class=\"n\">action</span>\n",
              "\n",
              "    <span class=\"k\">def</span><span class=\"w\"> </span><span class=\"nf\">make_percept_sentence</span><span class=\"p\">(</span><span class=\"n\">percept</span><span class=\"p\">,</span> <span class=\"n\">t</span><span class=\"p\">):</span>\n",
              "        <span class=\"k\">return</span> <span class=\"n\">Expr</span><span class=\"p\">(</span><span class=\"s1\">&#39;Percept&#39;</span><span class=\"p\">)(</span><span class=\"n\">percept</span><span class=\"p\">,</span> <span class=\"n\">t</span><span class=\"p\">)</span>\n",
              "\n",
              "    <span class=\"k\">def</span><span class=\"w\"> </span><span class=\"nf\">make_action_query</span><span class=\"p\">(</span><span class=\"n\">t</span><span class=\"p\">):</span>\n",
              "        <span class=\"k\">return</span> <span class=\"n\">expr</span><span class=\"p\">(</span><span class=\"s1\">&#39;ShouldDo(action, </span><span class=\"si\">{}</span><span class=\"s1\">)&#39;</span><span class=\"o\">.</span><span class=\"n\">format</span><span class=\"p\">(</span><span class=\"n\">t</span><span class=\"p\">))</span>\n",
              "\n",
              "    <span class=\"k\">def</span><span class=\"w\"> </span><span class=\"nf\">make_action_sentence</span><span class=\"p\">(</span><span class=\"n\">action</span><span class=\"p\">,</span> <span class=\"n\">t</span><span class=\"p\">):</span>\n",
              "        <span class=\"k\">return</span> <span class=\"n\">Expr</span><span class=\"p\">(</span><span class=\"s1\">&#39;Did&#39;</span><span class=\"p\">)(</span><span class=\"n\">action</span><span class=\"p\">[</span><span class=\"n\">expr</span><span class=\"p\">(</span><span class=\"s1\">&#39;action&#39;</span><span class=\"p\">)],</span> <span class=\"n\">t</span><span class=\"p\">)</span>\n",
              "\n",
              "    <span class=\"k\">return</span> <span class=\"n\">program</span>\n",
              "</pre></div>\n",
              "</body>\n",
              "</html>\n"
            ]
          },
          "metadata": {}
        }
      ],
      "source": [
        "psource(KBAgentProgram)"
      ]
    },
    {
      "cell_type": "markdown",
      "metadata": {
        "id": "mqYJoSTXWOXp"
      },
      "source": [
        "Sesuai namanya\n",
        "- `make_percept_sentence` → membuat kalimat logika orde pertama (FOL) tentang percept yang diterima agen.\n",
        "- `make_action_query` → menanyakan pada `KB` aksi apa yang harus dilakukan. Dan,\n",
        "- `make_action_sentence` → memberi tahu `KB` aksi yang sudah dilakukan agen."
      ]
    },
    {
      "cell_type": "markdown",
      "metadata": {
        "id": "DcmYBlfrWOXp"
      },
      "source": [
        "## Inference in Propositional Knowledge Base\n",
        "Pada bagian ini kita akan melihat dua algoritma untuk mengecek apakah suatu kalimat $\\alpha$ diimplikasikan oleh `KB`. Tujuan kita adalah menentukan apakah $\\text{KB} \\vDash \\alpha$ untuk suatu kalimat $\\alpha$.\n",
        "\n",
        "### Truth Table Enumeration\n",
        "Metode ini menggunakan pendekatan *model-checking* yang sesuai namanya akan mengenumerasi semua kemungkinan model di mana `KB` benar, lalu memeriksa apakah $\\alpha$ juga benar pada model-model tersebut.\n",
        "\n",
        "Langkah-langkahnya adalah:\n",
        "1. Mendaftar semua simbol proposisional dalam `KB` (𝑛 simbol).\n",
        "2. Enumerasi semua $2^{n}$ kemungkinan nilai kebenaran (truth assignments). Contoh: ada 2 simbol: P dan Q. Maka ada $2^2 = 4$ model (kemungkinan)\n",
        "3. Cek apakah untuk semua model yang membuat KB benar, $\\alpha$ juga benar.\n",
        "\n",
        "*Notes 📃 <br>\n",
        "Model = sebuah assignment (penugasan) nilai benar/salah untuk setiap simbol proposisional.*"
      ]
    },
    {
      "cell_type": "code",
      "execution_count": 30,
      "metadata": {
        "colab": {
          "base_uri": "https://localhost:8080/",
          "height": 262
        },
        "id": "ryB9x3xJWOXp",
        "outputId": "26c739df-b430-43b7-a466-01cc94bc785b"
      },
      "outputs": [
        {
          "output_type": "display_data",
          "data": {
            "text/plain": [
              "<IPython.core.display.HTML object>"
            ],
            "text/html": [
              "<!DOCTYPE html PUBLIC \"-//W3C//DTD HTML 4.01//EN\"\n",
              "   \"http://www.w3.org/TR/html4/strict.dtd\">\n",
              "<!--\n",
              "generated by Pygments <https://pygments.org/>\n",
              "Copyright 2006-2025 by the Pygments team.\n",
              "Licensed under the BSD license, see LICENSE for details.\n",
              "-->\n",
              "<html>\n",
              "<head>\n",
              "  <title></title>\n",
              "  <meta http-equiv=\"content-type\" content=\"text/html; charset=None\">\n",
              "  <style type=\"text/css\">\n",
              "/*\n",
              "generated by Pygments <https://pygments.org/>\n",
              "Copyright 2006-2025 by the Pygments team.\n",
              "Licensed under the BSD license, see LICENSE for details.\n",
              "*/\n",
              "pre { line-height: 125%; }\n",
              "td.linenos .normal { color: inherit; background-color: transparent; padding-left: 5px; padding-right: 5px; }\n",
              "span.linenos { color: inherit; background-color: transparent; padding-left: 5px; padding-right: 5px; }\n",
              "td.linenos .special { color: #000000; background-color: #ffffc0; padding-left: 5px; padding-right: 5px; }\n",
              "span.linenos.special { color: #000000; background-color: #ffffc0; padding-left: 5px; padding-right: 5px; }\n",
              "body .hll { background-color: #ffffcc }\n",
              "body { background: #f8f8f8; }\n",
              "body .c { color: #3D7B7B; font-style: italic } /* Comment */\n",
              "body .err { border: 1px solid #F00 } /* Error */\n",
              "body .k { color: #008000; font-weight: bold } /* Keyword */\n",
              "body .o { color: #666 } /* Operator */\n",
              "body .ch { color: #3D7B7B; font-style: italic } /* Comment.Hashbang */\n",
              "body .cm { color: #3D7B7B; font-style: italic } /* Comment.Multiline */\n",
              "body .cp { color: #9C6500 } /* Comment.Preproc */\n",
              "body .cpf { color: #3D7B7B; font-style: italic } /* Comment.PreprocFile */\n",
              "body .c1 { color: #3D7B7B; font-style: italic } /* Comment.Single */\n",
              "body .cs { color: #3D7B7B; font-style: italic } /* Comment.Special */\n",
              "body .gd { color: #A00000 } /* Generic.Deleted */\n",
              "body .ge { font-style: italic } /* Generic.Emph */\n",
              "body .ges { font-weight: bold; font-style: italic } /* Generic.EmphStrong */\n",
              "body .gr { color: #E40000 } /* Generic.Error */\n",
              "body .gh { color: #000080; font-weight: bold } /* Generic.Heading */\n",
              "body .gi { color: #008400 } /* Generic.Inserted */\n",
              "body .go { color: #717171 } /* Generic.Output */\n",
              "body .gp { color: #000080; font-weight: bold } /* Generic.Prompt */\n",
              "body .gs { font-weight: bold } /* Generic.Strong */\n",
              "body .gu { color: #800080; font-weight: bold } /* Generic.Subheading */\n",
              "body .gt { color: #04D } /* Generic.Traceback */\n",
              "body .kc { color: #008000; font-weight: bold } /* Keyword.Constant */\n",
              "body .kd { color: #008000; font-weight: bold } /* Keyword.Declaration */\n",
              "body .kn { color: #008000; font-weight: bold } /* Keyword.Namespace */\n",
              "body .kp { color: #008000 } /* Keyword.Pseudo */\n",
              "body .kr { color: #008000; font-weight: bold } /* Keyword.Reserved */\n",
              "body .kt { color: #B00040 } /* Keyword.Type */\n",
              "body .m { color: #666 } /* Literal.Number */\n",
              "body .s { color: #BA2121 } /* Literal.String */\n",
              "body .na { color: #687822 } /* Name.Attribute */\n",
              "body .nb { color: #008000 } /* Name.Builtin */\n",
              "body .nc { color: #00F; font-weight: bold } /* Name.Class */\n",
              "body .no { color: #800 } /* Name.Constant */\n",
              "body .nd { color: #A2F } /* Name.Decorator */\n",
              "body .ni { color: #717171; font-weight: bold } /* Name.Entity */\n",
              "body .ne { color: #CB3F38; font-weight: bold } /* Name.Exception */\n",
              "body .nf { color: #00F } /* Name.Function */\n",
              "body .nl { color: #767600 } /* Name.Label */\n",
              "body .nn { color: #00F; font-weight: bold } /* Name.Namespace */\n",
              "body .nt { color: #008000; font-weight: bold } /* Name.Tag */\n",
              "body .nv { color: #19177C } /* Name.Variable */\n",
              "body .ow { color: #A2F; font-weight: bold } /* Operator.Word */\n",
              "body .w { color: #BBB } /* Text.Whitespace */\n",
              "body .mb { color: #666 } /* Literal.Number.Bin */\n",
              "body .mf { color: #666 } /* Literal.Number.Float */\n",
              "body .mh { color: #666 } /* Literal.Number.Hex */\n",
              "body .mi { color: #666 } /* Literal.Number.Integer */\n",
              "body .mo { color: #666 } /* Literal.Number.Oct */\n",
              "body .sa { color: #BA2121 } /* Literal.String.Affix */\n",
              "body .sb { color: #BA2121 } /* Literal.String.Backtick */\n",
              "body .sc { color: #BA2121 } /* Literal.String.Char */\n",
              "body .dl { color: #BA2121 } /* Literal.String.Delimiter */\n",
              "body .sd { color: #BA2121; font-style: italic } /* Literal.String.Doc */\n",
              "body .s2 { color: #BA2121 } /* Literal.String.Double */\n",
              "body .se { color: #AA5D1F; font-weight: bold } /* Literal.String.Escape */\n",
              "body .sh { color: #BA2121 } /* Literal.String.Heredoc */\n",
              "body .si { color: #A45A77; font-weight: bold } /* Literal.String.Interpol */\n",
              "body .sx { color: #008000 } /* Literal.String.Other */\n",
              "body .sr { color: #A45A77 } /* Literal.String.Regex */\n",
              "body .s1 { color: #BA2121 } /* Literal.String.Single */\n",
              "body .ss { color: #19177C } /* Literal.String.Symbol */\n",
              "body .bp { color: #008000 } /* Name.Builtin.Pseudo */\n",
              "body .fm { color: #00F } /* Name.Function.Magic */\n",
              "body .vc { color: #19177C } /* Name.Variable.Class */\n",
              "body .vg { color: #19177C } /* Name.Variable.Global */\n",
              "body .vi { color: #19177C } /* Name.Variable.Instance */\n",
              "body .vm { color: #19177C } /* Name.Variable.Magic */\n",
              "body .il { color: #666 } /* Literal.Number.Integer.Long */\n",
              "\n",
              "  </style>\n",
              "</head>\n",
              "<body>\n",
              "<h2></h2>\n",
              "\n",
              "<div class=\"highlight\"><pre><span></span><span class=\"k\">def</span><span class=\"w\"> </span><span class=\"nf\">tt_check_all</span><span class=\"p\">(</span><span class=\"n\">kb</span><span class=\"p\">,</span> <span class=\"n\">alpha</span><span class=\"p\">,</span> <span class=\"n\">symbols</span><span class=\"p\">,</span> <span class=\"n\">model</span><span class=\"p\">):</span>\n",
              "<span class=\"w\">    </span><span class=\"sd\">&quot;&quot;&quot;Auxiliary routine to implement tt_entails.&quot;&quot;&quot;</span>\n",
              "    <span class=\"k\">if</span> <span class=\"ow\">not</span> <span class=\"n\">symbols</span><span class=\"p\">:</span>\n",
              "        <span class=\"k\">if</span> <span class=\"n\">pl_true</span><span class=\"p\">(</span><span class=\"n\">kb</span><span class=\"p\">,</span> <span class=\"n\">model</span><span class=\"p\">):</span>\n",
              "            <span class=\"n\">result</span> <span class=\"o\">=</span> <span class=\"n\">pl_true</span><span class=\"p\">(</span><span class=\"n\">alpha</span><span class=\"p\">,</span> <span class=\"n\">model</span><span class=\"p\">)</span>\n",
              "            <span class=\"k\">assert</span> <span class=\"n\">result</span> <span class=\"ow\">in</span> <span class=\"p\">(</span><span class=\"kc\">True</span><span class=\"p\">,</span> <span class=\"kc\">False</span><span class=\"p\">)</span>\n",
              "            <span class=\"k\">return</span> <span class=\"n\">result</span>\n",
              "        <span class=\"k\">else</span><span class=\"p\">:</span>\n",
              "            <span class=\"k\">return</span> <span class=\"kc\">True</span>\n",
              "    <span class=\"k\">else</span><span class=\"p\">:</span>\n",
              "        <span class=\"n\">P</span><span class=\"p\">,</span> <span class=\"n\">rest</span> <span class=\"o\">=</span> <span class=\"n\">symbols</span><span class=\"p\">[</span><span class=\"mi\">0</span><span class=\"p\">],</span> <span class=\"n\">symbols</span><span class=\"p\">[</span><span class=\"mi\">1</span><span class=\"p\">:]</span>\n",
              "        <span class=\"k\">return</span> <span class=\"p\">(</span><span class=\"n\">tt_check_all</span><span class=\"p\">(</span><span class=\"n\">kb</span><span class=\"p\">,</span> <span class=\"n\">alpha</span><span class=\"p\">,</span> <span class=\"n\">rest</span><span class=\"p\">,</span> <span class=\"n\">extend</span><span class=\"p\">(</span><span class=\"n\">model</span><span class=\"p\">,</span> <span class=\"n\">P</span><span class=\"p\">,</span> <span class=\"kc\">True</span><span class=\"p\">))</span> <span class=\"ow\">and</span>\n",
              "                <span class=\"n\">tt_check_all</span><span class=\"p\">(</span><span class=\"n\">kb</span><span class=\"p\">,</span> <span class=\"n\">alpha</span><span class=\"p\">,</span> <span class=\"n\">rest</span><span class=\"p\">,</span> <span class=\"n\">extend</span><span class=\"p\">(</span><span class=\"n\">model</span><span class=\"p\">,</span> <span class=\"n\">P</span><span class=\"p\">,</span> <span class=\"kc\">False</span><span class=\"p\">)))</span>\n",
              "</pre></div>\n",
              "</body>\n",
              "</html>\n"
            ]
          },
          "metadata": {}
        }
      ],
      "source": [
        "psource(tt_check_all)"
      ]
    },
    {
      "cell_type": "markdown",
      "metadata": {
        "id": "eYhTMotbWOXp"
      },
      "source": [
        "pada dasarnya algoritma ini membuat setiap baris dari truth table $KB\\implies \\alpha$, lalu memeriksa apakah semuanya bernilai benar.\n",
        "\n",
        "Jika symbols sudah didefiniskan, *routine* (fungsi) ini akan secara rekursif membentuk semua kemungkinan kombinasi nilai kebenaran (True/False) untuk simbol-simbol tersebut.\n",
        "\n",
        "Model-model yang dihasilkan ini sesuai dengan baris pada tabel kebenaran. Dari semua baris itu, hanya baris yang membuat $KB$ bernilai benar yang akan dipertimbangkan. Pada baris-baris tersebut, sistem kemudian memeriksa apakah query (kalimat logis $\\alpha$) juga bernilai benar.\n",
        "\n",
        "\n",
        "`result = pl_true(alpha, model)`.\n",
        "Singkatnya, `tt_check_all` mengevaluasi ekspresi logika untuk setiap `model`\n",
        "\n",
        "`pl_true(kb, model) => pl_true(alpha, model)`\n",
        "\n",
        "yang secara logika equivalent dengan\n",
        "\n",
        "`pl_true(kb, model) & ~pl_true(alpha, model)`\n",
        "\n",
        "🎯 Artinya: KB dan negasi dari query tidak boleh konsisten (tidak boleh ada model yang membuat keduanya benar).\n",
        "\n",
        "\n",
        "Fungsi `tt_entails()` hanya mengekstrak simbol-simbol dari query dan memanggil `tt_check_all()` dengan parameter yang sesuai\n"
      ]
    },
    {
      "cell_type": "code",
      "execution_count": 31,
      "metadata": {
        "colab": {
          "base_uri": "https://localhost:8080/",
          "height": 244
        },
        "id": "jXxxNFCdWOXq",
        "outputId": "7d36bfb9-6782-4fd0-a570-b39704884b34"
      },
      "outputs": [
        {
          "output_type": "display_data",
          "data": {
            "text/plain": [
              "<IPython.core.display.HTML object>"
            ],
            "text/html": [
              "<!DOCTYPE html PUBLIC \"-//W3C//DTD HTML 4.01//EN\"\n",
              "   \"http://www.w3.org/TR/html4/strict.dtd\">\n",
              "<!--\n",
              "generated by Pygments <https://pygments.org/>\n",
              "Copyright 2006-2025 by the Pygments team.\n",
              "Licensed under the BSD license, see LICENSE for details.\n",
              "-->\n",
              "<html>\n",
              "<head>\n",
              "  <title></title>\n",
              "  <meta http-equiv=\"content-type\" content=\"text/html; charset=None\">\n",
              "  <style type=\"text/css\">\n",
              "/*\n",
              "generated by Pygments <https://pygments.org/>\n",
              "Copyright 2006-2025 by the Pygments team.\n",
              "Licensed under the BSD license, see LICENSE for details.\n",
              "*/\n",
              "pre { line-height: 125%; }\n",
              "td.linenos .normal { color: inherit; background-color: transparent; padding-left: 5px; padding-right: 5px; }\n",
              "span.linenos { color: inherit; background-color: transparent; padding-left: 5px; padding-right: 5px; }\n",
              "td.linenos .special { color: #000000; background-color: #ffffc0; padding-left: 5px; padding-right: 5px; }\n",
              "span.linenos.special { color: #000000; background-color: #ffffc0; padding-left: 5px; padding-right: 5px; }\n",
              "body .hll { background-color: #ffffcc }\n",
              "body { background: #f8f8f8; }\n",
              "body .c { color: #3D7B7B; font-style: italic } /* Comment */\n",
              "body .err { border: 1px solid #F00 } /* Error */\n",
              "body .k { color: #008000; font-weight: bold } /* Keyword */\n",
              "body .o { color: #666 } /* Operator */\n",
              "body .ch { color: #3D7B7B; font-style: italic } /* Comment.Hashbang */\n",
              "body .cm { color: #3D7B7B; font-style: italic } /* Comment.Multiline */\n",
              "body .cp { color: #9C6500 } /* Comment.Preproc */\n",
              "body .cpf { color: #3D7B7B; font-style: italic } /* Comment.PreprocFile */\n",
              "body .c1 { color: #3D7B7B; font-style: italic } /* Comment.Single */\n",
              "body .cs { color: #3D7B7B; font-style: italic } /* Comment.Special */\n",
              "body .gd { color: #A00000 } /* Generic.Deleted */\n",
              "body .ge { font-style: italic } /* Generic.Emph */\n",
              "body .ges { font-weight: bold; font-style: italic } /* Generic.EmphStrong */\n",
              "body .gr { color: #E40000 } /* Generic.Error */\n",
              "body .gh { color: #000080; font-weight: bold } /* Generic.Heading */\n",
              "body .gi { color: #008400 } /* Generic.Inserted */\n",
              "body .go { color: #717171 } /* Generic.Output */\n",
              "body .gp { color: #000080; font-weight: bold } /* Generic.Prompt */\n",
              "body .gs { font-weight: bold } /* Generic.Strong */\n",
              "body .gu { color: #800080; font-weight: bold } /* Generic.Subheading */\n",
              "body .gt { color: #04D } /* Generic.Traceback */\n",
              "body .kc { color: #008000; font-weight: bold } /* Keyword.Constant */\n",
              "body .kd { color: #008000; font-weight: bold } /* Keyword.Declaration */\n",
              "body .kn { color: #008000; font-weight: bold } /* Keyword.Namespace */\n",
              "body .kp { color: #008000 } /* Keyword.Pseudo */\n",
              "body .kr { color: #008000; font-weight: bold } /* Keyword.Reserved */\n",
              "body .kt { color: #B00040 } /* Keyword.Type */\n",
              "body .m { color: #666 } /* Literal.Number */\n",
              "body .s { color: #BA2121 } /* Literal.String */\n",
              "body .na { color: #687822 } /* Name.Attribute */\n",
              "body .nb { color: #008000 } /* Name.Builtin */\n",
              "body .nc { color: #00F; font-weight: bold } /* Name.Class */\n",
              "body .no { color: #800 } /* Name.Constant */\n",
              "body .nd { color: #A2F } /* Name.Decorator */\n",
              "body .ni { color: #717171; font-weight: bold } /* Name.Entity */\n",
              "body .ne { color: #CB3F38; font-weight: bold } /* Name.Exception */\n",
              "body .nf { color: #00F } /* Name.Function */\n",
              "body .nl { color: #767600 } /* Name.Label */\n",
              "body .nn { color: #00F; font-weight: bold } /* Name.Namespace */\n",
              "body .nt { color: #008000; font-weight: bold } /* Name.Tag */\n",
              "body .nv { color: #19177C } /* Name.Variable */\n",
              "body .ow { color: #A2F; font-weight: bold } /* Operator.Word */\n",
              "body .w { color: #BBB } /* Text.Whitespace */\n",
              "body .mb { color: #666 } /* Literal.Number.Bin */\n",
              "body .mf { color: #666 } /* Literal.Number.Float */\n",
              "body .mh { color: #666 } /* Literal.Number.Hex */\n",
              "body .mi { color: #666 } /* Literal.Number.Integer */\n",
              "body .mo { color: #666 } /* Literal.Number.Oct */\n",
              "body .sa { color: #BA2121 } /* Literal.String.Affix */\n",
              "body .sb { color: #BA2121 } /* Literal.String.Backtick */\n",
              "body .sc { color: #BA2121 } /* Literal.String.Char */\n",
              "body .dl { color: #BA2121 } /* Literal.String.Delimiter */\n",
              "body .sd { color: #BA2121; font-style: italic } /* Literal.String.Doc */\n",
              "body .s2 { color: #BA2121 } /* Literal.String.Double */\n",
              "body .se { color: #AA5D1F; font-weight: bold } /* Literal.String.Escape */\n",
              "body .sh { color: #BA2121 } /* Literal.String.Heredoc */\n",
              "body .si { color: #A45A77; font-weight: bold } /* Literal.String.Interpol */\n",
              "body .sx { color: #008000 } /* Literal.String.Other */\n",
              "body .sr { color: #A45A77 } /* Literal.String.Regex */\n",
              "body .s1 { color: #BA2121 } /* Literal.String.Single */\n",
              "body .ss { color: #19177C } /* Literal.String.Symbol */\n",
              "body .bp { color: #008000 } /* Name.Builtin.Pseudo */\n",
              "body .fm { color: #00F } /* Name.Function.Magic */\n",
              "body .vc { color: #19177C } /* Name.Variable.Class */\n",
              "body .vg { color: #19177C } /* Name.Variable.Global */\n",
              "body .vi { color: #19177C } /* Name.Variable.Instance */\n",
              "body .vm { color: #19177C } /* Name.Variable.Magic */\n",
              "body .il { color: #666 } /* Literal.Number.Integer.Long */\n",
              "\n",
              "  </style>\n",
              "</head>\n",
              "<body>\n",
              "<h2></h2>\n",
              "\n",
              "<div class=\"highlight\"><pre><span></span><span class=\"k\">def</span><span class=\"w\"> </span><span class=\"nf\">tt_entails</span><span class=\"p\">(</span><span class=\"n\">kb</span><span class=\"p\">,</span> <span class=\"n\">alpha</span><span class=\"p\">):</span>\n",
              "<span class=\"w\">    </span><span class=\"sd\">&quot;&quot;&quot;</span>\n",
              "<span class=\"sd\">    [Figure 7.10]</span>\n",
              "<span class=\"sd\">    Does kb entail the sentence alpha? Use truth tables. For propositional</span>\n",
              "<span class=\"sd\">    kb&#39;s and sentences. Note that the &#39;kb&#39; should be an Expr which is a</span>\n",
              "<span class=\"sd\">    conjunction of clauses.</span>\n",
              "<span class=\"sd\">    &gt;&gt;&gt; tt_entails(expr(&#39;P &amp; Q&#39;), expr(&#39;Q&#39;))</span>\n",
              "<span class=\"sd\">    True</span>\n",
              "<span class=\"sd\">    &quot;&quot;&quot;</span>\n",
              "    <span class=\"k\">assert</span> <span class=\"ow\">not</span> <span class=\"n\">variables</span><span class=\"p\">(</span><span class=\"n\">alpha</span><span class=\"p\">)</span>\n",
              "    <span class=\"n\">symbols</span> <span class=\"o\">=</span> <span class=\"nb\">list</span><span class=\"p\">(</span><span class=\"n\">prop_symbols</span><span class=\"p\">(</span><span class=\"n\">kb</span> <span class=\"o\">&amp;</span> <span class=\"n\">alpha</span><span class=\"p\">))</span>\n",
              "    <span class=\"k\">return</span> <span class=\"n\">tt_check_all</span><span class=\"p\">(</span><span class=\"n\">kb</span><span class=\"p\">,</span> <span class=\"n\">alpha</span><span class=\"p\">,</span> <span class=\"n\">symbols</span><span class=\"p\">,</span> <span class=\"p\">{})</span>\n",
              "</pre></div>\n",
              "</body>\n",
              "</html>\n"
            ]
          },
          "metadata": {}
        }
      ],
      "source": [
        "psource(tt_entails)"
      ]
    },
    {
      "cell_type": "markdown",
      "source": [
        "**⚠️ things that important to remember:**\n",
        "\n",
        "- kb = knowledge base (basis pengetahuan), berisi semua fakta/logika yang sudah kita ketahui.\n",
        "\n",
        "- alpha = query / kalimat target yang mau kita cek apakah diterima secara logis oleh kb."
      ],
      "metadata": {
        "id": "gMx8hM8C_txx"
      }
    },
    {
      "cell_type": "markdown",
      "metadata": {
        "id": "ZY3crdzGWOXq"
      },
      "source": [
        "Ingat selalu bahwa dua simbol `P` dan `Q`, implikasi P => Q hanya bernilai salah jika `P` `True` dan `Q` `False`. Contoh penggunaan `tt_entails()`:"
      ]
    },
    {
      "cell_type": "code",
      "execution_count": 32,
      "metadata": {
        "colab": {
          "base_uri": "https://localhost:8080/"
        },
        "id": "iGpBGJTCWOXq",
        "outputId": "fa1b2947-8c0d-44e1-d5a4-147b8d6475ec"
      },
      "outputs": [
        {
          "output_type": "execute_result",
          "data": {
            "text/plain": [
              "True"
            ]
          },
          "metadata": {},
          "execution_count": 32
        }
      ],
      "source": [
        "tt_entails(P & Q, Q)\n",
        "\n",
        "# `kb = P & Q`. Artinya, syarat dunia (model) yang valid adalah: P= `True` dan Q= `True`.\n",
        "# `alpha = Q`. Jadi pertanyaannya: apakah Q benar di semua model yang bikin KB benar?"
      ]
    },
    {
      "cell_type": "markdown",
      "metadata": {
        "id": "L6bJd7OmWOXq"
      },
      "source": [
        "P & Q is True only when both P and Q are True. Hence, (P & Q) => Q is True"
      ]
    },
    {
      "cell_type": "code",
      "execution_count": 33,
      "metadata": {
        "colab": {
          "base_uri": "https://localhost:8080/"
        },
        "id": "JZ5QI7ZhWOXq",
        "outputId": "8080d6ac-89de-473d-c88a-871dadb50e8a"
      },
      "outputs": [
        {
          "output_type": "execute_result",
          "data": {
            "text/plain": [
              "False"
            ]
          },
          "metadata": {},
          "execution_count": 33
        }
      ],
      "source": [
        "tt_entails(P | Q, Q)"
      ]
    },
    {
      "cell_type": "markdown",
      "source": [
        "kenapa False?\n",
        "| P | Q | KB = P∨Q | α = Q | KB ⊨ α ?             |\n",
        "| - | - | -------- | ----- | -------------------- |\n",
        "| F | F | F        | F     | KB salah → diabaikan |\n",
        "| F | T | T        | T     | ✔ α benar            |\n",
        "| T | F | T        | F     | ✘ α salah            |\n",
        "| T | T | T        | T     | ✔ α benar            |\n",
        "\n",
        "Meskipun `KB (P | Q)` benar di 3 baris, tapi pada baris ke-3 \"(T,F)\", `KB` benar tapi `α` salah\n",
        "\n",
        "Karena ada setidaknya satu model di mana KB benar tapi α tidak benar, maka `KB` tidak men-entail `α`\n",
        "\n",
        "🤔 **why is that?**\n",
        "\n",
        "`P` ∨ `Q` artinya \"`P` atau `Q` benar\". maka bisa saja \"`P` = `True` dan `Q` = `False`.\"\n",
        "hasilnya? `KB` tetap benar, tapi Q (α) tidak benar. Karena entailment harus `α` benar di semua model di mana KB benar, maka `P ∨ Q ⊨ Q` adalah `False`\n"
      ],
      "metadata": {
        "id": "io63dRH-BSpZ"
      }
    },
    {
      "cell_type": "code",
      "execution_count": 34,
      "metadata": {
        "colab": {
          "base_uri": "https://localhost:8080/"
        },
        "id": "X6ThuOFIWOXq",
        "outputId": "be5cc9db-a3ff-4ec3-f4d0-bd0bb81162e8"
      },
      "outputs": [
        {
          "output_type": "execute_result",
          "data": {
            "text/plain": [
              "False"
            ]
          },
          "metadata": {},
          "execution_count": 34
        }
      ],
      "source": [
        "tt_entails(P | Q, P)"
      ]
    },
    {
      "cell_type": "markdown",
      "metadata": {
        "id": "a5SkaltgWOXq"
      },
      "source": [
        "Jika kita tahu bahwa P | Q adalah true, kita tidak bisa menurunkan nilai kebenaran P maupun Q secara pasti. sehingga (P | Q) => Q bernilai False dan begitu juga (P | Q) => P\n",
        "\n"
      ]
    },
    {
      "cell_type": "code",
      "execution_count": 35,
      "metadata": {
        "colab": {
          "base_uri": "https://localhost:8080/"
        },
        "id": "C4BkRr1aWOXq",
        "outputId": "cc083b7a-9f11-44ef-fc2c-9b3786cf2efa"
      },
      "outputs": [
        {
          "output_type": "execute_result",
          "data": {
            "text/plain": [
              "True"
            ]
          },
          "metadata": {},
          "execution_count": 35
        }
      ],
      "source": [
        "(A, B, C, D, E, F, G) = symbols('A, B, C, D, E, F, G')\n",
        "tt_entails(A & (B | C) & D & E & ~(F | G), A & D & E & ~F & ~G)"
      ]
    },
    {
      "cell_type": "markdown",
      "source": [
        "Kita bisa lihat agar KB benar, A, D, E harus True, F dan G harus False, Tidak ada informasi yang bisa ditarik tentang B atau C"
      ],
      "metadata": {
        "id": "n_T4W189GWVA"
      }
    },
    {
      "cell_type": "markdown",
      "metadata": {
        "id": "hYxojUNNWOXq"
      },
      "source": [
        "**Kembali ke kasus Wumpus World**\n",
        "\n",
        "`tt_entails()` menerima `Expr` berupa konjungsi klausa sebagai input, bukan `KB` secara langsung. kita bisa menggunakan metode `ask_if_true()` dari `PropKB`, karena metode ini otomatis melakukan semua konversi yang diperlukan.\n",
        "\n",
        "\n",
        "Let's check what `wumpus_kb` tells us about $P_{1, 1}$.\n",
        "\n"
      ]
    },
    {
      "cell_type": "code",
      "execution_count": 36,
      "metadata": {
        "colab": {
          "base_uri": "https://localhost:8080/"
        },
        "id": "LnF1xn3aWOXq",
        "outputId": "6a97d070-bb3f-4a5e-f146-1ac59f9d0700"
      },
      "outputs": [
        {
          "output_type": "execute_result",
          "data": {
            "text/plain": [
              "(True, False)"
            ]
          },
          "metadata": {},
          "execution_count": 36
        }
      ],
      "source": [
        "wumpus_kb.ask_if_true(~P11), wumpus_kb.ask_if_true(P11)"
      ]
    },
    {
      "cell_type": "markdown",
      "metadata": {
        "id": "1xakS5PzWOXq"
      },
      "source": [
        "Pada Figur 7.9, di semua model di mana KB bernilai `True`, $P_{1, 1}$ adalah `False`. Jadi wajar jika `ask_if_true(~P11)` mengembalikan True dan `ask_if_true(P11)` mengembalikan False.\n",
        "\n",
        "Tetapi juga memunculkan pertanyaan menarik, apa yang terjadi jika α True hanya di sebagian model saja? apakah akan mengembalikan `True` atau `False`?\n",
        "\n",
        "Dalam kasus ini, α mungkin benar di beberapa model KB, tapi tidak selalu benar di semua model KB. Karena ask_if_true() hanya mengembalikan True jika α diimplikasikan oleh KB (True di semua model KB), maka hasilnya adalah False."
      ]
    },
    {
      "cell_type": "code",
      "execution_count": 37,
      "metadata": {
        "colab": {
          "base_uri": "https://localhost:8080/"
        },
        "id": "KvMRdq4gWOXq",
        "outputId": "5dddcfc0-dda9-4e41-c027-b4d40f92e4e7"
      },
      "outputs": [
        {
          "output_type": "execute_result",
          "data": {
            "text/plain": [
              "(False, False)"
            ]
          },
          "metadata": {},
          "execution_count": 37
        }
      ],
      "source": [
        "wumpus_kb.ask_if_true(~P22), wumpus_kb.ask_if_true(P22)"
      ]
    },
    {
      "cell_type": "markdown",
      "metadata": {
        "id": "Vyi9M3kFWOXq"
      },
      "source": [
        "### Proof by Resolution\n",
        "Ingat Selalu bahwa tujuan kita adalah mengecek apakah $\\text{KB} \\vDash \\alpha$, contohnya apakah $\\text{KB} \\implies \\alpha$ benar di setiap model. Misalkan kita ingin memeriksa apakah $P \\implies Q$ valid. Caranya adalah dengan memeriksa *satisfiability* (keterpenuhan) dari negasi $\\neg (P \\implies Q)$, yang dapat ditulis ulang menjadi $P \\land \\neg Q$. Jika $P \\land \\neg Q$  *unsatisfiable* (tidak dapat dipenuhi), maka $P \\implies Q$ pasti benar di semua model.\n",
        "\n",
        "Dari sini didapatkan hasil:\n",
        "\n",
        "> $\\text{KB} \\vDash \\alpha \\iff \\text{KB} \\land \\neg \\alpha$\n",
        "\n",
        "Maksudnya?\n",
        "\n",
        "untuk mengecek bahwa α selalu benar (entail) di semua model di mana `KB` benar, dapat kita lakukan kontradiksi (gabungkan KB dengan ¬α). Kalau $KB \\land \\neg \\alpha$ tidak bisa dipenuhi (*id est*, tidak ada model yang membuat keduanya benar sekaligus), artinya mustahil α salah ketika `KB` benar. Jadi, satu-satunya kemungkinan adalah α selalu benar jika KB benar\n",
        "\n",
        "Teknik ini disebut *proof by contradiction* (pembuktian dengan kontradiksi), sebuah teknik pembuktian matematika standar. Kita mengasumsikan $\\alpha$ salah, lalu menunjukkan bahwa asumsi ini menghasilkan kontradiksi dengan aksioma yang diketahui di $\\text{KB}$. Kontradiksi diperoleh dengan melakukan inferensi menggunakan aturan inferensi. Dalam pembuktian ini kita hanya menggunakan satu aturan inferensi, yaitu resolusi yang menyatakan:\n",
        "\n",
        "$(l_1 \\lor \\dots \\lor l_k) \\land (m_1 \\lor \\dots \\lor m_n) \\land (l_i \\iff \\neg m_j) \\implies l_1 \\lor \\dots \\lor l_{i - 1} \\lor l_{i + 1} \\lor \\dots \\lor l_k \\lor m_1 \\lor \\dots \\lor m_{j - 1} \\lor m_{j + 1} \\lor \\dots \\lor m_n$\n",
        "\n",
        "Dengan menerapkan aturan resolusi, kita memperoleh klausa baru yang ditambahkan ke KB. Proses ini terus dilakukan hingga:\n",
        "\n",
        "- Tidak ada klausa baru yang bisa ditambahkan → artinya $\\text{KB} \\nvDash \\alpha$\n",
        "\n",
        "- Ada dua klausa yang diselesaikan (resolved) dan menghasilkan *empty clause* (klausa kosong) → artinya $\\text{KB} \\vDash \\alpha$\n",
        "\n",
        "Klausa kosong ekuivalen dengan False, karena hanya muncul jika kita menggabungkan dua klausa yang saling berlawanan, sepertu $P$ dan $\\neg P$. Ini jelas kontradiksi, sebab $P$ dan $\\neg P$ tidak bisa benar secara bersamaan."
      ]
    },
    {
      "cell_type": "markdown",
      "source": [
        "**✨ The Analogy >_<**\n",
        "\n",
        "Kita sedang mencari bukti apakah \"Garfield punya ekor\" di dalam `KB`\n",
        "\n",
        "- Kalau setelah dicoba semua kombinasi, nggak ada kontradiksi → mungkin Garfield punya ekor atau mungkin tidak. Sehingga, kesimpulannya tidak pasti = $KB \\nvDash \\alpha$\n",
        "\n",
        "- Kalau ketemu kondisi \"Garfield punya ekor\" dan \"Garfield tidak punya ekor\" muncul barengan. Artinya? **Kontradiksi**, berarti asumsi awal (Garfield tidak punya ekor) salah → kesimpulan: $KB \\vDash \\alpha$\n"
      ],
      "metadata": {
        "id": "h4SDuCHFDrU5"
      }
    },
    {
      "cell_type": "markdown",
      "metadata": {
        "id": "1-YypjpsWOXr"
      },
      "source": [
        "Namun ada satu hal penting: algoritma yang mengimplementasikan pembuktian dengan resolusi tidak bisa langsung menangani kalimat kompleks. Implikasi dan bi-implikasi harus disederhanakan dulu menjadi klausa-klausa yang lebih sederhana.\n",
        "\n",
        "Kita sudah tahu bahwa setiap kalimat logika proposisional secara logis ekuivalen dengan konjungsi klausa-klausa. Fakta ini akan kita manfaatkan untuk menyederhanakan kalimat masukan ke dalam *Conjunctive Normal Form* (CNF), yaitu bentuk konjungsi dari disjungsi literal.\n",
        "\n",
        "$$(A\\lor B)\\land (\\neg B\\lor C\\lor\\neg D)\\land (D\\lor\\neg E)$$\n",
        "> Bentuk ini sama dengan POS (Product of Sums)\n",
        "\n",
        "\n",
        "\n",
        "we can see an outline of how the conversion is done:\n",
        "\n",
        "1. **Ubah bi-implikasi menjadi implikasi**:\n",
        "\n",
        "$\\alpha\\iff\\beta$ dapat ditulis sebagai $(\\alpha\\implies\\beta)\\land(\\beta\\implies\\alpha)$, Termasuk jika ada kalimat majemuk, misalnya:\n",
        "\n",
        "$\\alpha\\iff(\\beta\\lor\\gamma)$ bisa ditulis sebagai $(\\alpha\\implies(\\beta\\lor\\gamma))\\land((\\beta\\lor\\gamma)\\implies\\alpha)$\n",
        "\n",
        "\n",
        "2. **Ubah implikasi ke bentuk ekuivalen logis**\n",
        "\n",
        "$\\alpha\\implies\\beta$ dapat ditulis sebagai $\\neg\\alpha\\lor\\beta$\n",
        "\n",
        "3. **Geser negasi ke dalam**\n",
        "\n",
        "CNF hanya boleh punya literal atomik, jadi negasi tidak boleh ada di luar kalimat majemuk. Untuk itu hukum De Morgan bisa membantu disini\n",
        "\n",
        "$\\neg(\\alpha\\land\\beta)\\equiv(\\neg\\alpha\\lor\\neg\\beta)$\n",
        "\n",
        "$\\neg(\\alpha\\lor\\beta)\\equiv(\\neg\\alpha\\land\\neg\\beta)$\n",
        "\n",
        "4. **Distribusikan disjungsi (`OR`) ke atas konjungsi (`AND`)**\n",
        "\n",
        "Karena konjungsi dan disjungsi saling distributif,\n",
        "\n",
        "> $A \\lor (B \\land C) \\equiv (A \\lor B) \\land (A \\lor C)$\n",
        "\n",
        "kita distribusikan disjungsi supaya didapat bentuk konjungsi dari disjungsi literal. Tujuannya adalah mengubah ekspresi logika ke bentuk CNF, yaitu bentuk yang lebih \"standar\", konjungsi dari disjungsi (AND of OR).\n",
        "Bentuk akhirnya kira-kira seperti:\n",
        "\n",
        "We need a term of the form\n",
        "\n",
        "$(\\alpha_{1}\\lor\\alpha_{2}\\lor\\alpha_{3}...)\\land(\\beta_{1}\\lor\\beta_{2}\\lor\\beta_{3}...)\\land(\\gamma_{1}\\lor\\gamma_{2}\\lor\\gamma_{3}...)\\land...$\n",
        "\n",
        "Fungsi `to_cnf` dipakai untuk menjalankan proses konversi ini menggunakan *helper subroutines*."
      ]
    },
    {
      "cell_type": "code",
      "execution_count": 38,
      "metadata": {
        "id": "NC2kGkSzWOXr",
        "outputId": "217f88be-c2da-4d14-c165-99cb0eb08871",
        "colab": {
          "base_uri": "https://localhost:8080/",
          "height": 279
        }
      },
      "outputs": [
        {
          "output_type": "display_data",
          "data": {
            "text/plain": [
              "<IPython.core.display.HTML object>"
            ],
            "text/html": [
              "<!DOCTYPE html PUBLIC \"-//W3C//DTD HTML 4.01//EN\"\n",
              "   \"http://www.w3.org/TR/html4/strict.dtd\">\n",
              "<!--\n",
              "generated by Pygments <https://pygments.org/>\n",
              "Copyright 2006-2025 by the Pygments team.\n",
              "Licensed under the BSD license, see LICENSE for details.\n",
              "-->\n",
              "<html>\n",
              "<head>\n",
              "  <title></title>\n",
              "  <meta http-equiv=\"content-type\" content=\"text/html; charset=None\">\n",
              "  <style type=\"text/css\">\n",
              "/*\n",
              "generated by Pygments <https://pygments.org/>\n",
              "Copyright 2006-2025 by the Pygments team.\n",
              "Licensed under the BSD license, see LICENSE for details.\n",
              "*/\n",
              "pre { line-height: 125%; }\n",
              "td.linenos .normal { color: inherit; background-color: transparent; padding-left: 5px; padding-right: 5px; }\n",
              "span.linenos { color: inherit; background-color: transparent; padding-left: 5px; padding-right: 5px; }\n",
              "td.linenos .special { color: #000000; background-color: #ffffc0; padding-left: 5px; padding-right: 5px; }\n",
              "span.linenos.special { color: #000000; background-color: #ffffc0; padding-left: 5px; padding-right: 5px; }\n",
              "body .hll { background-color: #ffffcc }\n",
              "body { background: #f8f8f8; }\n",
              "body .c { color: #3D7B7B; font-style: italic } /* Comment */\n",
              "body .err { border: 1px solid #F00 } /* Error */\n",
              "body .k { color: #008000; font-weight: bold } /* Keyword */\n",
              "body .o { color: #666 } /* Operator */\n",
              "body .ch { color: #3D7B7B; font-style: italic } /* Comment.Hashbang */\n",
              "body .cm { color: #3D7B7B; font-style: italic } /* Comment.Multiline */\n",
              "body .cp { color: #9C6500 } /* Comment.Preproc */\n",
              "body .cpf { color: #3D7B7B; font-style: italic } /* Comment.PreprocFile */\n",
              "body .c1 { color: #3D7B7B; font-style: italic } /* Comment.Single */\n",
              "body .cs { color: #3D7B7B; font-style: italic } /* Comment.Special */\n",
              "body .gd { color: #A00000 } /* Generic.Deleted */\n",
              "body .ge { font-style: italic } /* Generic.Emph */\n",
              "body .ges { font-weight: bold; font-style: italic } /* Generic.EmphStrong */\n",
              "body .gr { color: #E40000 } /* Generic.Error */\n",
              "body .gh { color: #000080; font-weight: bold } /* Generic.Heading */\n",
              "body .gi { color: #008400 } /* Generic.Inserted */\n",
              "body .go { color: #717171 } /* Generic.Output */\n",
              "body .gp { color: #000080; font-weight: bold } /* Generic.Prompt */\n",
              "body .gs { font-weight: bold } /* Generic.Strong */\n",
              "body .gu { color: #800080; font-weight: bold } /* Generic.Subheading */\n",
              "body .gt { color: #04D } /* Generic.Traceback */\n",
              "body .kc { color: #008000; font-weight: bold } /* Keyword.Constant */\n",
              "body .kd { color: #008000; font-weight: bold } /* Keyword.Declaration */\n",
              "body .kn { color: #008000; font-weight: bold } /* Keyword.Namespace */\n",
              "body .kp { color: #008000 } /* Keyword.Pseudo */\n",
              "body .kr { color: #008000; font-weight: bold } /* Keyword.Reserved */\n",
              "body .kt { color: #B00040 } /* Keyword.Type */\n",
              "body .m { color: #666 } /* Literal.Number */\n",
              "body .s { color: #BA2121 } /* Literal.String */\n",
              "body .na { color: #687822 } /* Name.Attribute */\n",
              "body .nb { color: #008000 } /* Name.Builtin */\n",
              "body .nc { color: #00F; font-weight: bold } /* Name.Class */\n",
              "body .no { color: #800 } /* Name.Constant */\n",
              "body .nd { color: #A2F } /* Name.Decorator */\n",
              "body .ni { color: #717171; font-weight: bold } /* Name.Entity */\n",
              "body .ne { color: #CB3F38; font-weight: bold } /* Name.Exception */\n",
              "body .nf { color: #00F } /* Name.Function */\n",
              "body .nl { color: #767600 } /* Name.Label */\n",
              "body .nn { color: #00F; font-weight: bold } /* Name.Namespace */\n",
              "body .nt { color: #008000; font-weight: bold } /* Name.Tag */\n",
              "body .nv { color: #19177C } /* Name.Variable */\n",
              "body .ow { color: #A2F; font-weight: bold } /* Operator.Word */\n",
              "body .w { color: #BBB } /* Text.Whitespace */\n",
              "body .mb { color: #666 } /* Literal.Number.Bin */\n",
              "body .mf { color: #666 } /* Literal.Number.Float */\n",
              "body .mh { color: #666 } /* Literal.Number.Hex */\n",
              "body .mi { color: #666 } /* Literal.Number.Integer */\n",
              "body .mo { color: #666 } /* Literal.Number.Oct */\n",
              "body .sa { color: #BA2121 } /* Literal.String.Affix */\n",
              "body .sb { color: #BA2121 } /* Literal.String.Backtick */\n",
              "body .sc { color: #BA2121 } /* Literal.String.Char */\n",
              "body .dl { color: #BA2121 } /* Literal.String.Delimiter */\n",
              "body .sd { color: #BA2121; font-style: italic } /* Literal.String.Doc */\n",
              "body .s2 { color: #BA2121 } /* Literal.String.Double */\n",
              "body .se { color: #AA5D1F; font-weight: bold } /* Literal.String.Escape */\n",
              "body .sh { color: #BA2121 } /* Literal.String.Heredoc */\n",
              "body .si { color: #A45A77; font-weight: bold } /* Literal.String.Interpol */\n",
              "body .sx { color: #008000 } /* Literal.String.Other */\n",
              "body .sr { color: #A45A77 } /* Literal.String.Regex */\n",
              "body .s1 { color: #BA2121 } /* Literal.String.Single */\n",
              "body .ss { color: #19177C } /* Literal.String.Symbol */\n",
              "body .bp { color: #008000 } /* Name.Builtin.Pseudo */\n",
              "body .fm { color: #00F } /* Name.Function.Magic */\n",
              "body .vc { color: #19177C } /* Name.Variable.Class */\n",
              "body .vg { color: #19177C } /* Name.Variable.Global */\n",
              "body .vi { color: #19177C } /* Name.Variable.Instance */\n",
              "body .vm { color: #19177C } /* Name.Variable.Magic */\n",
              "body .il { color: #666 } /* Literal.Number.Integer.Long */\n",
              "\n",
              "  </style>\n",
              "</head>\n",
              "<body>\n",
              "<h2></h2>\n",
              "\n",
              "<div class=\"highlight\"><pre><span></span><span class=\"k\">def</span><span class=\"w\"> </span><span class=\"nf\">to_cnf</span><span class=\"p\">(</span><span class=\"n\">s</span><span class=\"p\">):</span>\n",
              "<span class=\"w\">    </span><span class=\"sd\">&quot;&quot;&quot;</span>\n",
              "<span class=\"sd\">    [Page 253]</span>\n",
              "<span class=\"sd\">    Convert a propositional logical sentence to conjunctive normal form.</span>\n",
              "<span class=\"sd\">    That is, to the form ((A | ~B | ...) &amp; (B | C | ...) &amp; ...)</span>\n",
              "<span class=\"sd\">    &gt;&gt;&gt; to_cnf(&#39;~(B | C)&#39;)</span>\n",
              "<span class=\"sd\">    (~B &amp; ~C)</span>\n",
              "<span class=\"sd\">    &quot;&quot;&quot;</span>\n",
              "    <span class=\"n\">s</span> <span class=\"o\">=</span> <span class=\"n\">expr</span><span class=\"p\">(</span><span class=\"n\">s</span><span class=\"p\">)</span>\n",
              "    <span class=\"k\">if</span> <span class=\"nb\">isinstance</span><span class=\"p\">(</span><span class=\"n\">s</span><span class=\"p\">,</span> <span class=\"nb\">str</span><span class=\"p\">):</span>\n",
              "        <span class=\"n\">s</span> <span class=\"o\">=</span> <span class=\"n\">expr</span><span class=\"p\">(</span><span class=\"n\">s</span><span class=\"p\">)</span>\n",
              "    <span class=\"n\">s</span> <span class=\"o\">=</span> <span class=\"n\">eliminate_implications</span><span class=\"p\">(</span><span class=\"n\">s</span><span class=\"p\">)</span>  <span class=\"c1\"># Steps 1, 2 from p. 253</span>\n",
              "    <span class=\"n\">s</span> <span class=\"o\">=</span> <span class=\"n\">move_not_inwards</span><span class=\"p\">(</span><span class=\"n\">s</span><span class=\"p\">)</span>  <span class=\"c1\"># Step 3</span>\n",
              "    <span class=\"k\">return</span> <span class=\"n\">distribute_and_over_or</span><span class=\"p\">(</span><span class=\"n\">s</span><span class=\"p\">)</span>  <span class=\"c1\"># Step 4</span>\n",
              "</pre></div>\n",
              "</body>\n",
              "</html>\n"
            ]
          },
          "metadata": {}
        }
      ],
      "source": [
        "psource(to_cnf)"
      ]
    },
    {
      "cell_type": "markdown",
      "metadata": {
        "id": "7Y-12wzTWOXs"
      },
      "source": [
        "`to_cnf` memanggil tiga *subroutines*.\n",
        "<br>\n",
        "- `eliminate_implications` Hilangkan implikasi/bimp (==>, <=>)\n",
        "\n",
        "- `move_not_inwards` Gerakkan negasi ke dalam (proposisi atomiknya) menggunakan hukum morgan\n",
        "\n",
        "- `distribute_and_over_or` distribusi disjunctions ke conjunctions.\n",
        "<br>\n",
        "detail implementasi:"
      ]
    },
    {
      "cell_type": "code",
      "execution_count": 39,
      "metadata": {
        "id": "uFn5CtSWWOXs",
        "outputId": "4a33face-b6df-4d27-e596-b61e29fc6755",
        "colab": {
          "base_uri": "https://localhost:8080/",
          "height": 1000
        }
      },
      "outputs": [
        {
          "output_type": "display_data",
          "data": {
            "text/plain": [
              "<IPython.core.display.HTML object>"
            ],
            "text/html": [
              "<!DOCTYPE html PUBLIC \"-//W3C//DTD HTML 4.01//EN\"\n",
              "   \"http://www.w3.org/TR/html4/strict.dtd\">\n",
              "<!--\n",
              "generated by Pygments <https://pygments.org/>\n",
              "Copyright 2006-2025 by the Pygments team.\n",
              "Licensed under the BSD license, see LICENSE for details.\n",
              "-->\n",
              "<html>\n",
              "<head>\n",
              "  <title></title>\n",
              "  <meta http-equiv=\"content-type\" content=\"text/html; charset=None\">\n",
              "  <style type=\"text/css\">\n",
              "/*\n",
              "generated by Pygments <https://pygments.org/>\n",
              "Copyright 2006-2025 by the Pygments team.\n",
              "Licensed under the BSD license, see LICENSE for details.\n",
              "*/\n",
              "pre { line-height: 125%; }\n",
              "td.linenos .normal { color: inherit; background-color: transparent; padding-left: 5px; padding-right: 5px; }\n",
              "span.linenos { color: inherit; background-color: transparent; padding-left: 5px; padding-right: 5px; }\n",
              "td.linenos .special { color: #000000; background-color: #ffffc0; padding-left: 5px; padding-right: 5px; }\n",
              "span.linenos.special { color: #000000; background-color: #ffffc0; padding-left: 5px; padding-right: 5px; }\n",
              "body .hll { background-color: #ffffcc }\n",
              "body { background: #f8f8f8; }\n",
              "body .c { color: #3D7B7B; font-style: italic } /* Comment */\n",
              "body .err { border: 1px solid #F00 } /* Error */\n",
              "body .k { color: #008000; font-weight: bold } /* Keyword */\n",
              "body .o { color: #666 } /* Operator */\n",
              "body .ch { color: #3D7B7B; font-style: italic } /* Comment.Hashbang */\n",
              "body .cm { color: #3D7B7B; font-style: italic } /* Comment.Multiline */\n",
              "body .cp { color: #9C6500 } /* Comment.Preproc */\n",
              "body .cpf { color: #3D7B7B; font-style: italic } /* Comment.PreprocFile */\n",
              "body .c1 { color: #3D7B7B; font-style: italic } /* Comment.Single */\n",
              "body .cs { color: #3D7B7B; font-style: italic } /* Comment.Special */\n",
              "body .gd { color: #A00000 } /* Generic.Deleted */\n",
              "body .ge { font-style: italic } /* Generic.Emph */\n",
              "body .ges { font-weight: bold; font-style: italic } /* Generic.EmphStrong */\n",
              "body .gr { color: #E40000 } /* Generic.Error */\n",
              "body .gh { color: #000080; font-weight: bold } /* Generic.Heading */\n",
              "body .gi { color: #008400 } /* Generic.Inserted */\n",
              "body .go { color: #717171 } /* Generic.Output */\n",
              "body .gp { color: #000080; font-weight: bold } /* Generic.Prompt */\n",
              "body .gs { font-weight: bold } /* Generic.Strong */\n",
              "body .gu { color: #800080; font-weight: bold } /* Generic.Subheading */\n",
              "body .gt { color: #04D } /* Generic.Traceback */\n",
              "body .kc { color: #008000; font-weight: bold } /* Keyword.Constant */\n",
              "body .kd { color: #008000; font-weight: bold } /* Keyword.Declaration */\n",
              "body .kn { color: #008000; font-weight: bold } /* Keyword.Namespace */\n",
              "body .kp { color: #008000 } /* Keyword.Pseudo */\n",
              "body .kr { color: #008000; font-weight: bold } /* Keyword.Reserved */\n",
              "body .kt { color: #B00040 } /* Keyword.Type */\n",
              "body .m { color: #666 } /* Literal.Number */\n",
              "body .s { color: #BA2121 } /* Literal.String */\n",
              "body .na { color: #687822 } /* Name.Attribute */\n",
              "body .nb { color: #008000 } /* Name.Builtin */\n",
              "body .nc { color: #00F; font-weight: bold } /* Name.Class */\n",
              "body .no { color: #800 } /* Name.Constant */\n",
              "body .nd { color: #A2F } /* Name.Decorator */\n",
              "body .ni { color: #717171; font-weight: bold } /* Name.Entity */\n",
              "body .ne { color: #CB3F38; font-weight: bold } /* Name.Exception */\n",
              "body .nf { color: #00F } /* Name.Function */\n",
              "body .nl { color: #767600 } /* Name.Label */\n",
              "body .nn { color: #00F; font-weight: bold } /* Name.Namespace */\n",
              "body .nt { color: #008000; font-weight: bold } /* Name.Tag */\n",
              "body .nv { color: #19177C } /* Name.Variable */\n",
              "body .ow { color: #A2F; font-weight: bold } /* Operator.Word */\n",
              "body .w { color: #BBB } /* Text.Whitespace */\n",
              "body .mb { color: #666 } /* Literal.Number.Bin */\n",
              "body .mf { color: #666 } /* Literal.Number.Float */\n",
              "body .mh { color: #666 } /* Literal.Number.Hex */\n",
              "body .mi { color: #666 } /* Literal.Number.Integer */\n",
              "body .mo { color: #666 } /* Literal.Number.Oct */\n",
              "body .sa { color: #BA2121 } /* Literal.String.Affix */\n",
              "body .sb { color: #BA2121 } /* Literal.String.Backtick */\n",
              "body .sc { color: #BA2121 } /* Literal.String.Char */\n",
              "body .dl { color: #BA2121 } /* Literal.String.Delimiter */\n",
              "body .sd { color: #BA2121; font-style: italic } /* Literal.String.Doc */\n",
              "body .s2 { color: #BA2121 } /* Literal.String.Double */\n",
              "body .se { color: #AA5D1F; font-weight: bold } /* Literal.String.Escape */\n",
              "body .sh { color: #BA2121 } /* Literal.String.Heredoc */\n",
              "body .si { color: #A45A77; font-weight: bold } /* Literal.String.Interpol */\n",
              "body .sx { color: #008000 } /* Literal.String.Other */\n",
              "body .sr { color: #A45A77 } /* Literal.String.Regex */\n",
              "body .s1 { color: #BA2121 } /* Literal.String.Single */\n",
              "body .ss { color: #19177C } /* Literal.String.Symbol */\n",
              "body .bp { color: #008000 } /* Name.Builtin.Pseudo */\n",
              "body .fm { color: #00F } /* Name.Function.Magic */\n",
              "body .vc { color: #19177C } /* Name.Variable.Class */\n",
              "body .vg { color: #19177C } /* Name.Variable.Global */\n",
              "body .vi { color: #19177C } /* Name.Variable.Instance */\n",
              "body .vm { color: #19177C } /* Name.Variable.Magic */\n",
              "body .il { color: #666 } /* Literal.Number.Integer.Long */\n",
              "\n",
              "  </style>\n",
              "</head>\n",
              "<body>\n",
              "<h2></h2>\n",
              "\n",
              "<div class=\"highlight\"><pre><span></span><span class=\"k\">def</span><span class=\"w\"> </span><span class=\"nf\">eliminate_implications</span><span class=\"p\">(</span><span class=\"n\">s</span><span class=\"p\">):</span>\n",
              "<span class=\"w\">    </span><span class=\"sd\">&quot;&quot;&quot;Change implications into equivalent form with only &amp;, |, and ~ as logical operators.&quot;&quot;&quot;</span>\n",
              "    <span class=\"n\">s</span> <span class=\"o\">=</span> <span class=\"n\">expr</span><span class=\"p\">(</span><span class=\"n\">s</span><span class=\"p\">)</span>\n",
              "    <span class=\"k\">if</span> <span class=\"ow\">not</span> <span class=\"n\">s</span><span class=\"o\">.</span><span class=\"n\">args</span> <span class=\"ow\">or</span> <span class=\"n\">is_symbol</span><span class=\"p\">(</span><span class=\"n\">s</span><span class=\"o\">.</span><span class=\"n\">op</span><span class=\"p\">):</span>\n",
              "        <span class=\"k\">return</span> <span class=\"n\">s</span>  <span class=\"c1\"># Atoms are unchanged.</span>\n",
              "    <span class=\"n\">args</span> <span class=\"o\">=</span> <span class=\"nb\">list</span><span class=\"p\">(</span><span class=\"nb\">map</span><span class=\"p\">(</span><span class=\"n\">eliminate_implications</span><span class=\"p\">,</span> <span class=\"n\">s</span><span class=\"o\">.</span><span class=\"n\">args</span><span class=\"p\">))</span>\n",
              "    <span class=\"n\">a</span><span class=\"p\">,</span> <span class=\"n\">b</span> <span class=\"o\">=</span> <span class=\"n\">args</span><span class=\"p\">[</span><span class=\"mi\">0</span><span class=\"p\">],</span> <span class=\"n\">args</span><span class=\"p\">[</span><span class=\"o\">-</span><span class=\"mi\">1</span><span class=\"p\">]</span>\n",
              "    <span class=\"k\">if</span> <span class=\"n\">s</span><span class=\"o\">.</span><span class=\"n\">op</span> <span class=\"o\">==</span> <span class=\"s1\">&#39;==&gt;&#39;</span><span class=\"p\">:</span>\n",
              "        <span class=\"k\">return</span> <span class=\"n\">b</span> <span class=\"o\">|</span> <span class=\"o\">~</span><span class=\"n\">a</span>\n",
              "    <span class=\"k\">elif</span> <span class=\"n\">s</span><span class=\"o\">.</span><span class=\"n\">op</span> <span class=\"o\">==</span> <span class=\"s1\">&#39;&lt;==&#39;</span><span class=\"p\">:</span>\n",
              "        <span class=\"k\">return</span> <span class=\"n\">a</span> <span class=\"o\">|</span> <span class=\"o\">~</span><span class=\"n\">b</span>\n",
              "    <span class=\"k\">elif</span> <span class=\"n\">s</span><span class=\"o\">.</span><span class=\"n\">op</span> <span class=\"o\">==</span> <span class=\"s1\">&#39;&lt;=&gt;&#39;</span><span class=\"p\">:</span>\n",
              "        <span class=\"k\">return</span> <span class=\"p\">(</span><span class=\"n\">a</span> <span class=\"o\">|</span> <span class=\"o\">~</span><span class=\"n\">b</span><span class=\"p\">)</span> <span class=\"o\">&amp;</span> <span class=\"p\">(</span><span class=\"n\">b</span> <span class=\"o\">|</span> <span class=\"o\">~</span><span class=\"n\">a</span><span class=\"p\">)</span>\n",
              "    <span class=\"k\">elif</span> <span class=\"n\">s</span><span class=\"o\">.</span><span class=\"n\">op</span> <span class=\"o\">==</span> <span class=\"s1\">&#39;^&#39;</span><span class=\"p\">:</span>\n",
              "        <span class=\"k\">assert</span> <span class=\"nb\">len</span><span class=\"p\">(</span><span class=\"n\">args</span><span class=\"p\">)</span> <span class=\"o\">==</span> <span class=\"mi\">2</span>  <span class=\"c1\"># TODO: relax this restriction</span>\n",
              "        <span class=\"k\">return</span> <span class=\"p\">(</span><span class=\"n\">a</span> <span class=\"o\">&amp;</span> <span class=\"o\">~</span><span class=\"n\">b</span><span class=\"p\">)</span> <span class=\"o\">|</span> <span class=\"p\">(</span><span class=\"o\">~</span><span class=\"n\">a</span> <span class=\"o\">&amp;</span> <span class=\"n\">b</span><span class=\"p\">)</span>\n",
              "    <span class=\"k\">else</span><span class=\"p\">:</span>\n",
              "        <span class=\"k\">assert</span> <span class=\"n\">s</span><span class=\"o\">.</span><span class=\"n\">op</span> <span class=\"ow\">in</span> <span class=\"p\">(</span><span class=\"s1\">&#39;&amp;&#39;</span><span class=\"p\">,</span> <span class=\"s1\">&#39;|&#39;</span><span class=\"p\">,</span> <span class=\"s1\">&#39;~&#39;</span><span class=\"p\">)</span>\n",
              "        <span class=\"k\">return</span> <span class=\"n\">Expr</span><span class=\"p\">(</span><span class=\"n\">s</span><span class=\"o\">.</span><span class=\"n\">op</span><span class=\"p\">,</span> <span class=\"o\">*</span><span class=\"n\">args</span><span class=\"p\">)</span>\n",
              "</pre></div>\n",
              "</body>\n",
              "</html>\n"
            ]
          },
          "metadata": {}
        },
        {
          "output_type": "display_data",
          "data": {
            "text/plain": [
              "<IPython.core.display.HTML object>"
            ],
            "text/html": [
              "<!DOCTYPE html PUBLIC \"-//W3C//DTD HTML 4.01//EN\"\n",
              "   \"http://www.w3.org/TR/html4/strict.dtd\">\n",
              "<!--\n",
              "generated by Pygments <https://pygments.org/>\n",
              "Copyright 2006-2025 by the Pygments team.\n",
              "Licensed under the BSD license, see LICENSE for details.\n",
              "-->\n",
              "<html>\n",
              "<head>\n",
              "  <title></title>\n",
              "  <meta http-equiv=\"content-type\" content=\"text/html; charset=None\">\n",
              "  <style type=\"text/css\">\n",
              "/*\n",
              "generated by Pygments <https://pygments.org/>\n",
              "Copyright 2006-2025 by the Pygments team.\n",
              "Licensed under the BSD license, see LICENSE for details.\n",
              "*/\n",
              "pre { line-height: 125%; }\n",
              "td.linenos .normal { color: inherit; background-color: transparent; padding-left: 5px; padding-right: 5px; }\n",
              "span.linenos { color: inherit; background-color: transparent; padding-left: 5px; padding-right: 5px; }\n",
              "td.linenos .special { color: #000000; background-color: #ffffc0; padding-left: 5px; padding-right: 5px; }\n",
              "span.linenos.special { color: #000000; background-color: #ffffc0; padding-left: 5px; padding-right: 5px; }\n",
              "body .hll { background-color: #ffffcc }\n",
              "body { background: #f8f8f8; }\n",
              "body .c { color: #3D7B7B; font-style: italic } /* Comment */\n",
              "body .err { border: 1px solid #F00 } /* Error */\n",
              "body .k { color: #008000; font-weight: bold } /* Keyword */\n",
              "body .o { color: #666 } /* Operator */\n",
              "body .ch { color: #3D7B7B; font-style: italic } /* Comment.Hashbang */\n",
              "body .cm { color: #3D7B7B; font-style: italic } /* Comment.Multiline */\n",
              "body .cp { color: #9C6500 } /* Comment.Preproc */\n",
              "body .cpf { color: #3D7B7B; font-style: italic } /* Comment.PreprocFile */\n",
              "body .c1 { color: #3D7B7B; font-style: italic } /* Comment.Single */\n",
              "body .cs { color: #3D7B7B; font-style: italic } /* Comment.Special */\n",
              "body .gd { color: #A00000 } /* Generic.Deleted */\n",
              "body .ge { font-style: italic } /* Generic.Emph */\n",
              "body .ges { font-weight: bold; font-style: italic } /* Generic.EmphStrong */\n",
              "body .gr { color: #E40000 } /* Generic.Error */\n",
              "body .gh { color: #000080; font-weight: bold } /* Generic.Heading */\n",
              "body .gi { color: #008400 } /* Generic.Inserted */\n",
              "body .go { color: #717171 } /* Generic.Output */\n",
              "body .gp { color: #000080; font-weight: bold } /* Generic.Prompt */\n",
              "body .gs { font-weight: bold } /* Generic.Strong */\n",
              "body .gu { color: #800080; font-weight: bold } /* Generic.Subheading */\n",
              "body .gt { color: #04D } /* Generic.Traceback */\n",
              "body .kc { color: #008000; font-weight: bold } /* Keyword.Constant */\n",
              "body .kd { color: #008000; font-weight: bold } /* Keyword.Declaration */\n",
              "body .kn { color: #008000; font-weight: bold } /* Keyword.Namespace */\n",
              "body .kp { color: #008000 } /* Keyword.Pseudo */\n",
              "body .kr { color: #008000; font-weight: bold } /* Keyword.Reserved */\n",
              "body .kt { color: #B00040 } /* Keyword.Type */\n",
              "body .m { color: #666 } /* Literal.Number */\n",
              "body .s { color: #BA2121 } /* Literal.String */\n",
              "body .na { color: #687822 } /* Name.Attribute */\n",
              "body .nb { color: #008000 } /* Name.Builtin */\n",
              "body .nc { color: #00F; font-weight: bold } /* Name.Class */\n",
              "body .no { color: #800 } /* Name.Constant */\n",
              "body .nd { color: #A2F } /* Name.Decorator */\n",
              "body .ni { color: #717171; font-weight: bold } /* Name.Entity */\n",
              "body .ne { color: #CB3F38; font-weight: bold } /* Name.Exception */\n",
              "body .nf { color: #00F } /* Name.Function */\n",
              "body .nl { color: #767600 } /* Name.Label */\n",
              "body .nn { color: #00F; font-weight: bold } /* Name.Namespace */\n",
              "body .nt { color: #008000; font-weight: bold } /* Name.Tag */\n",
              "body .nv { color: #19177C } /* Name.Variable */\n",
              "body .ow { color: #A2F; font-weight: bold } /* Operator.Word */\n",
              "body .w { color: #BBB } /* Text.Whitespace */\n",
              "body .mb { color: #666 } /* Literal.Number.Bin */\n",
              "body .mf { color: #666 } /* Literal.Number.Float */\n",
              "body .mh { color: #666 } /* Literal.Number.Hex */\n",
              "body .mi { color: #666 } /* Literal.Number.Integer */\n",
              "body .mo { color: #666 } /* Literal.Number.Oct */\n",
              "body .sa { color: #BA2121 } /* Literal.String.Affix */\n",
              "body .sb { color: #BA2121 } /* Literal.String.Backtick */\n",
              "body .sc { color: #BA2121 } /* Literal.String.Char */\n",
              "body .dl { color: #BA2121 } /* Literal.String.Delimiter */\n",
              "body .sd { color: #BA2121; font-style: italic } /* Literal.String.Doc */\n",
              "body .s2 { color: #BA2121 } /* Literal.String.Double */\n",
              "body .se { color: #AA5D1F; font-weight: bold } /* Literal.String.Escape */\n",
              "body .sh { color: #BA2121 } /* Literal.String.Heredoc */\n",
              "body .si { color: #A45A77; font-weight: bold } /* Literal.String.Interpol */\n",
              "body .sx { color: #008000 } /* Literal.String.Other */\n",
              "body .sr { color: #A45A77 } /* Literal.String.Regex */\n",
              "body .s1 { color: #BA2121 } /* Literal.String.Single */\n",
              "body .ss { color: #19177C } /* Literal.String.Symbol */\n",
              "body .bp { color: #008000 } /* Name.Builtin.Pseudo */\n",
              "body .fm { color: #00F } /* Name.Function.Magic */\n",
              "body .vc { color: #19177C } /* Name.Variable.Class */\n",
              "body .vg { color: #19177C } /* Name.Variable.Global */\n",
              "body .vi { color: #19177C } /* Name.Variable.Instance */\n",
              "body .vm { color: #19177C } /* Name.Variable.Magic */\n",
              "body .il { color: #666 } /* Literal.Number.Integer.Long */\n",
              "\n",
              "  </style>\n",
              "</head>\n",
              "<body>\n",
              "<h2></h2>\n",
              "\n",
              "<div class=\"highlight\"><pre><span></span><span class=\"k\">def</span><span class=\"w\"> </span><span class=\"nf\">move_not_inwards</span><span class=\"p\">(</span><span class=\"n\">s</span><span class=\"p\">):</span>\n",
              "<span class=\"w\">    </span><span class=\"sd\">&quot;&quot;&quot;Rewrite sentence s by moving negation sign inward.</span>\n",
              "<span class=\"sd\">    &gt;&gt;&gt; move_not_inwards(~(A | B))</span>\n",
              "<span class=\"sd\">    (~A &amp; ~B)</span>\n",
              "<span class=\"sd\">    &quot;&quot;&quot;</span>\n",
              "    <span class=\"n\">s</span> <span class=\"o\">=</span> <span class=\"n\">expr</span><span class=\"p\">(</span><span class=\"n\">s</span><span class=\"p\">)</span>\n",
              "    <span class=\"k\">if</span> <span class=\"n\">s</span><span class=\"o\">.</span><span class=\"n\">op</span> <span class=\"o\">==</span> <span class=\"s1\">&#39;~&#39;</span><span class=\"p\">:</span>\n",
              "        <span class=\"k\">def</span><span class=\"w\"> </span><span class=\"nf\">NOT</span><span class=\"p\">(</span><span class=\"n\">b</span><span class=\"p\">):</span>\n",
              "            <span class=\"k\">return</span> <span class=\"n\">move_not_inwards</span><span class=\"p\">(</span><span class=\"o\">~</span><span class=\"n\">b</span><span class=\"p\">)</span>\n",
              "\n",
              "        <span class=\"n\">a</span> <span class=\"o\">=</span> <span class=\"n\">s</span><span class=\"o\">.</span><span class=\"n\">args</span><span class=\"p\">[</span><span class=\"mi\">0</span><span class=\"p\">]</span>\n",
              "        <span class=\"k\">if</span> <span class=\"n\">a</span><span class=\"o\">.</span><span class=\"n\">op</span> <span class=\"o\">==</span> <span class=\"s1\">&#39;~&#39;</span><span class=\"p\">:</span>\n",
              "            <span class=\"k\">return</span> <span class=\"n\">move_not_inwards</span><span class=\"p\">(</span><span class=\"n\">a</span><span class=\"o\">.</span><span class=\"n\">args</span><span class=\"p\">[</span><span class=\"mi\">0</span><span class=\"p\">])</span>  <span class=\"c1\"># ~~A ==&gt; A</span>\n",
              "        <span class=\"k\">if</span> <span class=\"n\">a</span><span class=\"o\">.</span><span class=\"n\">op</span> <span class=\"o\">==</span> <span class=\"s1\">&#39;&amp;&#39;</span><span class=\"p\">:</span>\n",
              "            <span class=\"k\">return</span> <span class=\"n\">associate</span><span class=\"p\">(</span><span class=\"s1\">&#39;|&#39;</span><span class=\"p\">,</span> <span class=\"nb\">list</span><span class=\"p\">(</span><span class=\"nb\">map</span><span class=\"p\">(</span><span class=\"n\">NOT</span><span class=\"p\">,</span> <span class=\"n\">a</span><span class=\"o\">.</span><span class=\"n\">args</span><span class=\"p\">)))</span>\n",
              "        <span class=\"k\">if</span> <span class=\"n\">a</span><span class=\"o\">.</span><span class=\"n\">op</span> <span class=\"o\">==</span> <span class=\"s1\">&#39;|&#39;</span><span class=\"p\">:</span>\n",
              "            <span class=\"k\">return</span> <span class=\"n\">associate</span><span class=\"p\">(</span><span class=\"s1\">&#39;&amp;&#39;</span><span class=\"p\">,</span> <span class=\"nb\">list</span><span class=\"p\">(</span><span class=\"nb\">map</span><span class=\"p\">(</span><span class=\"n\">NOT</span><span class=\"p\">,</span> <span class=\"n\">a</span><span class=\"o\">.</span><span class=\"n\">args</span><span class=\"p\">)))</span>\n",
              "        <span class=\"k\">return</span> <span class=\"n\">s</span>\n",
              "    <span class=\"k\">elif</span> <span class=\"n\">is_symbol</span><span class=\"p\">(</span><span class=\"n\">s</span><span class=\"o\">.</span><span class=\"n\">op</span><span class=\"p\">)</span> <span class=\"ow\">or</span> <span class=\"ow\">not</span> <span class=\"n\">s</span><span class=\"o\">.</span><span class=\"n\">args</span><span class=\"p\">:</span>\n",
              "        <span class=\"k\">return</span> <span class=\"n\">s</span>\n",
              "    <span class=\"k\">else</span><span class=\"p\">:</span>\n",
              "        <span class=\"k\">return</span> <span class=\"n\">Expr</span><span class=\"p\">(</span><span class=\"n\">s</span><span class=\"o\">.</span><span class=\"n\">op</span><span class=\"p\">,</span> <span class=\"o\">*</span><span class=\"nb\">list</span><span class=\"p\">(</span><span class=\"nb\">map</span><span class=\"p\">(</span><span class=\"n\">move_not_inwards</span><span class=\"p\">,</span> <span class=\"n\">s</span><span class=\"o\">.</span><span class=\"n\">args</span><span class=\"p\">)))</span>\n",
              "</pre></div>\n",
              "</body>\n",
              "</html>\n"
            ]
          },
          "metadata": {}
        },
        {
          "output_type": "display_data",
          "data": {
            "text/plain": [
              "<IPython.core.display.HTML object>"
            ],
            "text/html": [
              "<!DOCTYPE html PUBLIC \"-//W3C//DTD HTML 4.01//EN\"\n",
              "   \"http://www.w3.org/TR/html4/strict.dtd\">\n",
              "<!--\n",
              "generated by Pygments <https://pygments.org/>\n",
              "Copyright 2006-2025 by the Pygments team.\n",
              "Licensed under the BSD license, see LICENSE for details.\n",
              "-->\n",
              "<html>\n",
              "<head>\n",
              "  <title></title>\n",
              "  <meta http-equiv=\"content-type\" content=\"text/html; charset=None\">\n",
              "  <style type=\"text/css\">\n",
              "/*\n",
              "generated by Pygments <https://pygments.org/>\n",
              "Copyright 2006-2025 by the Pygments team.\n",
              "Licensed under the BSD license, see LICENSE for details.\n",
              "*/\n",
              "pre { line-height: 125%; }\n",
              "td.linenos .normal { color: inherit; background-color: transparent; padding-left: 5px; padding-right: 5px; }\n",
              "span.linenos { color: inherit; background-color: transparent; padding-left: 5px; padding-right: 5px; }\n",
              "td.linenos .special { color: #000000; background-color: #ffffc0; padding-left: 5px; padding-right: 5px; }\n",
              "span.linenos.special { color: #000000; background-color: #ffffc0; padding-left: 5px; padding-right: 5px; }\n",
              "body .hll { background-color: #ffffcc }\n",
              "body { background: #f8f8f8; }\n",
              "body .c { color: #3D7B7B; font-style: italic } /* Comment */\n",
              "body .err { border: 1px solid #F00 } /* Error */\n",
              "body .k { color: #008000; font-weight: bold } /* Keyword */\n",
              "body .o { color: #666 } /* Operator */\n",
              "body .ch { color: #3D7B7B; font-style: italic } /* Comment.Hashbang */\n",
              "body .cm { color: #3D7B7B; font-style: italic } /* Comment.Multiline */\n",
              "body .cp { color: #9C6500 } /* Comment.Preproc */\n",
              "body .cpf { color: #3D7B7B; font-style: italic } /* Comment.PreprocFile */\n",
              "body .c1 { color: #3D7B7B; font-style: italic } /* Comment.Single */\n",
              "body .cs { color: #3D7B7B; font-style: italic } /* Comment.Special */\n",
              "body .gd { color: #A00000 } /* Generic.Deleted */\n",
              "body .ge { font-style: italic } /* Generic.Emph */\n",
              "body .ges { font-weight: bold; font-style: italic } /* Generic.EmphStrong */\n",
              "body .gr { color: #E40000 } /* Generic.Error */\n",
              "body .gh { color: #000080; font-weight: bold } /* Generic.Heading */\n",
              "body .gi { color: #008400 } /* Generic.Inserted */\n",
              "body .go { color: #717171 } /* Generic.Output */\n",
              "body .gp { color: #000080; font-weight: bold } /* Generic.Prompt */\n",
              "body .gs { font-weight: bold } /* Generic.Strong */\n",
              "body .gu { color: #800080; font-weight: bold } /* Generic.Subheading */\n",
              "body .gt { color: #04D } /* Generic.Traceback */\n",
              "body .kc { color: #008000; font-weight: bold } /* Keyword.Constant */\n",
              "body .kd { color: #008000; font-weight: bold } /* Keyword.Declaration */\n",
              "body .kn { color: #008000; font-weight: bold } /* Keyword.Namespace */\n",
              "body .kp { color: #008000 } /* Keyword.Pseudo */\n",
              "body .kr { color: #008000; font-weight: bold } /* Keyword.Reserved */\n",
              "body .kt { color: #B00040 } /* Keyword.Type */\n",
              "body .m { color: #666 } /* Literal.Number */\n",
              "body .s { color: #BA2121 } /* Literal.String */\n",
              "body .na { color: #687822 } /* Name.Attribute */\n",
              "body .nb { color: #008000 } /* Name.Builtin */\n",
              "body .nc { color: #00F; font-weight: bold } /* Name.Class */\n",
              "body .no { color: #800 } /* Name.Constant */\n",
              "body .nd { color: #A2F } /* Name.Decorator */\n",
              "body .ni { color: #717171; font-weight: bold } /* Name.Entity */\n",
              "body .ne { color: #CB3F38; font-weight: bold } /* Name.Exception */\n",
              "body .nf { color: #00F } /* Name.Function */\n",
              "body .nl { color: #767600 } /* Name.Label */\n",
              "body .nn { color: #00F; font-weight: bold } /* Name.Namespace */\n",
              "body .nt { color: #008000; font-weight: bold } /* Name.Tag */\n",
              "body .nv { color: #19177C } /* Name.Variable */\n",
              "body .ow { color: #A2F; font-weight: bold } /* Operator.Word */\n",
              "body .w { color: #BBB } /* Text.Whitespace */\n",
              "body .mb { color: #666 } /* Literal.Number.Bin */\n",
              "body .mf { color: #666 } /* Literal.Number.Float */\n",
              "body .mh { color: #666 } /* Literal.Number.Hex */\n",
              "body .mi { color: #666 } /* Literal.Number.Integer */\n",
              "body .mo { color: #666 } /* Literal.Number.Oct */\n",
              "body .sa { color: #BA2121 } /* Literal.String.Affix */\n",
              "body .sb { color: #BA2121 } /* Literal.String.Backtick */\n",
              "body .sc { color: #BA2121 } /* Literal.String.Char */\n",
              "body .dl { color: #BA2121 } /* Literal.String.Delimiter */\n",
              "body .sd { color: #BA2121; font-style: italic } /* Literal.String.Doc */\n",
              "body .s2 { color: #BA2121 } /* Literal.String.Double */\n",
              "body .se { color: #AA5D1F; font-weight: bold } /* Literal.String.Escape */\n",
              "body .sh { color: #BA2121 } /* Literal.String.Heredoc */\n",
              "body .si { color: #A45A77; font-weight: bold } /* Literal.String.Interpol */\n",
              "body .sx { color: #008000 } /* Literal.String.Other */\n",
              "body .sr { color: #A45A77 } /* Literal.String.Regex */\n",
              "body .s1 { color: #BA2121 } /* Literal.String.Single */\n",
              "body .ss { color: #19177C } /* Literal.String.Symbol */\n",
              "body .bp { color: #008000 } /* Name.Builtin.Pseudo */\n",
              "body .fm { color: #00F } /* Name.Function.Magic */\n",
              "body .vc { color: #19177C } /* Name.Variable.Class */\n",
              "body .vg { color: #19177C } /* Name.Variable.Global */\n",
              "body .vi { color: #19177C } /* Name.Variable.Instance */\n",
              "body .vm { color: #19177C } /* Name.Variable.Magic */\n",
              "body .il { color: #666 } /* Literal.Number.Integer.Long */\n",
              "\n",
              "  </style>\n",
              "</head>\n",
              "<body>\n",
              "<h2></h2>\n",
              "\n",
              "<div class=\"highlight\"><pre><span></span><span class=\"k\">def</span><span class=\"w\"> </span><span class=\"nf\">distribute_and_over_or</span><span class=\"p\">(</span><span class=\"n\">s</span><span class=\"p\">):</span>\n",
              "<span class=\"w\">    </span><span class=\"sd\">&quot;&quot;&quot;Given a sentence s consisting of conjunctions and disjunctions</span>\n",
              "<span class=\"sd\">    of literals, return an equivalent sentence in CNF.</span>\n",
              "<span class=\"sd\">    &gt;&gt;&gt; distribute_and_over_or((A &amp; B) | C)</span>\n",
              "<span class=\"sd\">    ((A | C) &amp; (B | C))</span>\n",
              "<span class=\"sd\">    &quot;&quot;&quot;</span>\n",
              "    <span class=\"n\">s</span> <span class=\"o\">=</span> <span class=\"n\">expr</span><span class=\"p\">(</span><span class=\"n\">s</span><span class=\"p\">)</span>\n",
              "    <span class=\"k\">if</span> <span class=\"n\">s</span><span class=\"o\">.</span><span class=\"n\">op</span> <span class=\"o\">==</span> <span class=\"s1\">&#39;|&#39;</span><span class=\"p\">:</span>\n",
              "        <span class=\"n\">s</span> <span class=\"o\">=</span> <span class=\"n\">associate</span><span class=\"p\">(</span><span class=\"s1\">&#39;|&#39;</span><span class=\"p\">,</span> <span class=\"n\">s</span><span class=\"o\">.</span><span class=\"n\">args</span><span class=\"p\">)</span>\n",
              "        <span class=\"k\">if</span> <span class=\"n\">s</span><span class=\"o\">.</span><span class=\"n\">op</span> <span class=\"o\">!=</span> <span class=\"s1\">&#39;|&#39;</span><span class=\"p\">:</span>\n",
              "            <span class=\"k\">return</span> <span class=\"n\">distribute_and_over_or</span><span class=\"p\">(</span><span class=\"n\">s</span><span class=\"p\">)</span>\n",
              "        <span class=\"k\">if</span> <span class=\"nb\">len</span><span class=\"p\">(</span><span class=\"n\">s</span><span class=\"o\">.</span><span class=\"n\">args</span><span class=\"p\">)</span> <span class=\"o\">==</span> <span class=\"mi\">0</span><span class=\"p\">:</span>\n",
              "            <span class=\"k\">return</span> <span class=\"kc\">False</span>\n",
              "        <span class=\"k\">if</span> <span class=\"nb\">len</span><span class=\"p\">(</span><span class=\"n\">s</span><span class=\"o\">.</span><span class=\"n\">args</span><span class=\"p\">)</span> <span class=\"o\">==</span> <span class=\"mi\">1</span><span class=\"p\">:</span>\n",
              "            <span class=\"k\">return</span> <span class=\"n\">distribute_and_over_or</span><span class=\"p\">(</span><span class=\"n\">s</span><span class=\"o\">.</span><span class=\"n\">args</span><span class=\"p\">[</span><span class=\"mi\">0</span><span class=\"p\">])</span>\n",
              "        <span class=\"n\">conj</span> <span class=\"o\">=</span> <span class=\"n\">first</span><span class=\"p\">(</span><span class=\"n\">arg</span> <span class=\"k\">for</span> <span class=\"n\">arg</span> <span class=\"ow\">in</span> <span class=\"n\">s</span><span class=\"o\">.</span><span class=\"n\">args</span> <span class=\"k\">if</span> <span class=\"n\">arg</span><span class=\"o\">.</span><span class=\"n\">op</span> <span class=\"o\">==</span> <span class=\"s1\">&#39;&amp;&#39;</span><span class=\"p\">)</span>\n",
              "        <span class=\"k\">if</span> <span class=\"ow\">not</span> <span class=\"n\">conj</span><span class=\"p\">:</span>\n",
              "            <span class=\"k\">return</span> <span class=\"n\">s</span>\n",
              "        <span class=\"n\">others</span> <span class=\"o\">=</span> <span class=\"p\">[</span><span class=\"n\">a</span> <span class=\"k\">for</span> <span class=\"n\">a</span> <span class=\"ow\">in</span> <span class=\"n\">s</span><span class=\"o\">.</span><span class=\"n\">args</span> <span class=\"k\">if</span> <span class=\"n\">a</span> <span class=\"ow\">is</span> <span class=\"ow\">not</span> <span class=\"n\">conj</span><span class=\"p\">]</span>\n",
              "        <span class=\"n\">rest</span> <span class=\"o\">=</span> <span class=\"n\">associate</span><span class=\"p\">(</span><span class=\"s1\">&#39;|&#39;</span><span class=\"p\">,</span> <span class=\"n\">others</span><span class=\"p\">)</span>\n",
              "        <span class=\"k\">return</span> <span class=\"n\">associate</span><span class=\"p\">(</span><span class=\"s1\">&#39;&amp;&#39;</span><span class=\"p\">,</span> <span class=\"p\">[</span><span class=\"n\">distribute_and_over_or</span><span class=\"p\">(</span><span class=\"n\">c</span> <span class=\"o\">|</span> <span class=\"n\">rest</span><span class=\"p\">)</span>\n",
              "                               <span class=\"k\">for</span> <span class=\"n\">c</span> <span class=\"ow\">in</span> <span class=\"n\">conj</span><span class=\"o\">.</span><span class=\"n\">args</span><span class=\"p\">])</span>\n",
              "    <span class=\"k\">elif</span> <span class=\"n\">s</span><span class=\"o\">.</span><span class=\"n\">op</span> <span class=\"o\">==</span> <span class=\"s1\">&#39;&amp;&#39;</span><span class=\"p\">:</span>\n",
              "        <span class=\"k\">return</span> <span class=\"n\">associate</span><span class=\"p\">(</span><span class=\"s1\">&#39;&amp;&#39;</span><span class=\"p\">,</span> <span class=\"nb\">list</span><span class=\"p\">(</span><span class=\"nb\">map</span><span class=\"p\">(</span><span class=\"n\">distribute_and_over_or</span><span class=\"p\">,</span> <span class=\"n\">s</span><span class=\"o\">.</span><span class=\"n\">args</span><span class=\"p\">)))</span>\n",
              "    <span class=\"k\">else</span><span class=\"p\">:</span>\n",
              "        <span class=\"k\">return</span> <span class=\"n\">s</span>\n",
              "</pre></div>\n",
              "</body>\n",
              "</html>\n"
            ]
          },
          "metadata": {}
        }
      ],
      "source": [
        "psource(eliminate_implications)\n",
        "psource(move_not_inwards)\n",
        "psource(distribute_and_over_or)"
      ]
    },
    {
      "cell_type": "markdown",
      "metadata": {
        "id": "m1g_gGkoWOXs"
      },
      "source": [
        "Let's convert some sentences to see how it works\n"
      ]
    },
    {
      "cell_type": "code",
      "execution_count": 40,
      "metadata": {
        "id": "G0UNasenWOXs",
        "outputId": "8b6c6d89-149c-430b-a9e7-4cd91291d620",
        "colab": {
          "base_uri": "https://localhost:8080/"
        }
      },
      "outputs": [
        {
          "output_type": "execute_result",
          "data": {
            "text/plain": [
              "((A | ~B) & (B | ~A))"
            ]
          },
          "metadata": {},
          "execution_count": 40
        }
      ],
      "source": [
        "A, B, C, D = expr('A, B, C, D')\n",
        "to_cnf(A |'<=>'| B)"
      ]
    },
    {
      "cell_type": "code",
      "execution_count": 41,
      "metadata": {
        "id": "Z9FWWNp9WOXt",
        "outputId": "9f792db0-0e98-42b4-b24a-920be8b5c3fc",
        "colab": {
          "base_uri": "https://localhost:8080/"
        }
      },
      "outputs": [
        {
          "output_type": "execute_result",
          "data": {
            "text/plain": [
              "((A | ~B | ~C) & (B | ~A) & (C | ~A))"
            ]
          },
          "metadata": {},
          "execution_count": 41
        }
      ],
      "source": [
        "to_cnf(A |'<=>'| (B & C))"
      ]
    },
    {
      "cell_type": "code",
      "execution_count": 42,
      "metadata": {
        "id": "X_nFie8YWOXt",
        "outputId": "2631718f-42e9-4b9c-a4a5-6c429d22afc5",
        "colab": {
          "base_uri": "https://localhost:8080/"
        }
      },
      "outputs": [
        {
          "output_type": "execute_result",
          "data": {
            "text/plain": [
              "(A & (C | B) & (D | B))"
            ]
          },
          "metadata": {},
          "execution_count": 42
        }
      ],
      "source": [
        "to_cnf(A & (B | (C & D)))"
      ]
    },
    {
      "cell_type": "code",
      "execution_count": 43,
      "metadata": {
        "id": "RGdOwUPqWOXt",
        "outputId": "9b791027-081f-46b4-cd0e-d25a138312e6",
        "colab": {
          "base_uri": "https://localhost:8080/"
        }
      },
      "outputs": [
        {
          "output_type": "execute_result",
          "data": {
            "text/plain": [
              "((B | ~A | C | ~D) & (A | ~A | C | ~D) & (B | ~B | C | ~D) & (A | ~B | C | ~D))"
            ]
          },
          "metadata": {},
          "execution_count": 43
        }
      ],
      "source": [
        "to_cnf((A |'<=>'| ~B) |'==>'| (C | ~D))"
      ]
    },
    {
      "cell_type": "markdown",
      "metadata": {
        "id": "mshXIJ1MWOXt"
      },
      "source": [
        "Kita dapat melihat bagaimana fungsi `to_cnf` dipakai dalam permasalahan resolution ini."
      ]
    },
    {
      "cell_type": "code",
      "execution_count": 44,
      "metadata": {
        "id": "eINQg3JfWOXt",
        "outputId": "5fc46666-b79a-443c-ed90-ea57a722044b",
        "colab": {
          "base_uri": "https://localhost:8080/",
          "height": 437
        }
      },
      "outputs": [
        {
          "output_type": "display_data",
          "data": {
            "text/plain": [
              "<IPython.core.display.HTML object>"
            ],
            "text/html": [
              "<!DOCTYPE html PUBLIC \"-//W3C//DTD HTML 4.01//EN\"\n",
              "   \"http://www.w3.org/TR/html4/strict.dtd\">\n",
              "<!--\n",
              "generated by Pygments <https://pygments.org/>\n",
              "Copyright 2006-2025 by the Pygments team.\n",
              "Licensed under the BSD license, see LICENSE for details.\n",
              "-->\n",
              "<html>\n",
              "<head>\n",
              "  <title></title>\n",
              "  <meta http-equiv=\"content-type\" content=\"text/html; charset=None\">\n",
              "  <style type=\"text/css\">\n",
              "/*\n",
              "generated by Pygments <https://pygments.org/>\n",
              "Copyright 2006-2025 by the Pygments team.\n",
              "Licensed under the BSD license, see LICENSE for details.\n",
              "*/\n",
              "pre { line-height: 125%; }\n",
              "td.linenos .normal { color: inherit; background-color: transparent; padding-left: 5px; padding-right: 5px; }\n",
              "span.linenos { color: inherit; background-color: transparent; padding-left: 5px; padding-right: 5px; }\n",
              "td.linenos .special { color: #000000; background-color: #ffffc0; padding-left: 5px; padding-right: 5px; }\n",
              "span.linenos.special { color: #000000; background-color: #ffffc0; padding-left: 5px; padding-right: 5px; }\n",
              "body .hll { background-color: #ffffcc }\n",
              "body { background: #f8f8f8; }\n",
              "body .c { color: #3D7B7B; font-style: italic } /* Comment */\n",
              "body .err { border: 1px solid #F00 } /* Error */\n",
              "body .k { color: #008000; font-weight: bold } /* Keyword */\n",
              "body .o { color: #666 } /* Operator */\n",
              "body .ch { color: #3D7B7B; font-style: italic } /* Comment.Hashbang */\n",
              "body .cm { color: #3D7B7B; font-style: italic } /* Comment.Multiline */\n",
              "body .cp { color: #9C6500 } /* Comment.Preproc */\n",
              "body .cpf { color: #3D7B7B; font-style: italic } /* Comment.PreprocFile */\n",
              "body .c1 { color: #3D7B7B; font-style: italic } /* Comment.Single */\n",
              "body .cs { color: #3D7B7B; font-style: italic } /* Comment.Special */\n",
              "body .gd { color: #A00000 } /* Generic.Deleted */\n",
              "body .ge { font-style: italic } /* Generic.Emph */\n",
              "body .ges { font-weight: bold; font-style: italic } /* Generic.EmphStrong */\n",
              "body .gr { color: #E40000 } /* Generic.Error */\n",
              "body .gh { color: #000080; font-weight: bold } /* Generic.Heading */\n",
              "body .gi { color: #008400 } /* Generic.Inserted */\n",
              "body .go { color: #717171 } /* Generic.Output */\n",
              "body .gp { color: #000080; font-weight: bold } /* Generic.Prompt */\n",
              "body .gs { font-weight: bold } /* Generic.Strong */\n",
              "body .gu { color: #800080; font-weight: bold } /* Generic.Subheading */\n",
              "body .gt { color: #04D } /* Generic.Traceback */\n",
              "body .kc { color: #008000; font-weight: bold } /* Keyword.Constant */\n",
              "body .kd { color: #008000; font-weight: bold } /* Keyword.Declaration */\n",
              "body .kn { color: #008000; font-weight: bold } /* Keyword.Namespace */\n",
              "body .kp { color: #008000 } /* Keyword.Pseudo */\n",
              "body .kr { color: #008000; font-weight: bold } /* Keyword.Reserved */\n",
              "body .kt { color: #B00040 } /* Keyword.Type */\n",
              "body .m { color: #666 } /* Literal.Number */\n",
              "body .s { color: #BA2121 } /* Literal.String */\n",
              "body .na { color: #687822 } /* Name.Attribute */\n",
              "body .nb { color: #008000 } /* Name.Builtin */\n",
              "body .nc { color: #00F; font-weight: bold } /* Name.Class */\n",
              "body .no { color: #800 } /* Name.Constant */\n",
              "body .nd { color: #A2F } /* Name.Decorator */\n",
              "body .ni { color: #717171; font-weight: bold } /* Name.Entity */\n",
              "body .ne { color: #CB3F38; font-weight: bold } /* Name.Exception */\n",
              "body .nf { color: #00F } /* Name.Function */\n",
              "body .nl { color: #767600 } /* Name.Label */\n",
              "body .nn { color: #00F; font-weight: bold } /* Name.Namespace */\n",
              "body .nt { color: #008000; font-weight: bold } /* Name.Tag */\n",
              "body .nv { color: #19177C } /* Name.Variable */\n",
              "body .ow { color: #A2F; font-weight: bold } /* Operator.Word */\n",
              "body .w { color: #BBB } /* Text.Whitespace */\n",
              "body .mb { color: #666 } /* Literal.Number.Bin */\n",
              "body .mf { color: #666 } /* Literal.Number.Float */\n",
              "body .mh { color: #666 } /* Literal.Number.Hex */\n",
              "body .mi { color: #666 } /* Literal.Number.Integer */\n",
              "body .mo { color: #666 } /* Literal.Number.Oct */\n",
              "body .sa { color: #BA2121 } /* Literal.String.Affix */\n",
              "body .sb { color: #BA2121 } /* Literal.String.Backtick */\n",
              "body .sc { color: #BA2121 } /* Literal.String.Char */\n",
              "body .dl { color: #BA2121 } /* Literal.String.Delimiter */\n",
              "body .sd { color: #BA2121; font-style: italic } /* Literal.String.Doc */\n",
              "body .s2 { color: #BA2121 } /* Literal.String.Double */\n",
              "body .se { color: #AA5D1F; font-weight: bold } /* Literal.String.Escape */\n",
              "body .sh { color: #BA2121 } /* Literal.String.Heredoc */\n",
              "body .si { color: #A45A77; font-weight: bold } /* Literal.String.Interpol */\n",
              "body .sx { color: #008000 } /* Literal.String.Other */\n",
              "body .sr { color: #A45A77 } /* Literal.String.Regex */\n",
              "body .s1 { color: #BA2121 } /* Literal.String.Single */\n",
              "body .ss { color: #19177C } /* Literal.String.Symbol */\n",
              "body .bp { color: #008000 } /* Name.Builtin.Pseudo */\n",
              "body .fm { color: #00F } /* Name.Function.Magic */\n",
              "body .vc { color: #19177C } /* Name.Variable.Class */\n",
              "body .vg { color: #19177C } /* Name.Variable.Global */\n",
              "body .vi { color: #19177C } /* Name.Variable.Instance */\n",
              "body .vm { color: #19177C } /* Name.Variable.Magic */\n",
              "body .il { color: #666 } /* Literal.Number.Integer.Long */\n",
              "\n",
              "  </style>\n",
              "</head>\n",
              "<body>\n",
              "<h2></h2>\n",
              "\n",
              "<div class=\"highlight\"><pre><span></span><span class=\"k\">def</span><span class=\"w\"> </span><span class=\"nf\">pl_resolution</span><span class=\"p\">(</span><span class=\"n\">kb</span><span class=\"p\">,</span> <span class=\"n\">alpha</span><span class=\"p\">):</span>\n",
              "<span class=\"w\">    </span><span class=\"sd\">&quot;&quot;&quot;</span>\n",
              "<span class=\"sd\">    [Figure 7.12]</span>\n",
              "<span class=\"sd\">    Propositional-logic resolution: say if alpha follows from KB.</span>\n",
              "<span class=\"sd\">    &gt;&gt;&gt; pl_resolution(horn_clauses_KB, A)</span>\n",
              "<span class=\"sd\">    True</span>\n",
              "<span class=\"sd\">    &quot;&quot;&quot;</span>\n",
              "    <span class=\"n\">clauses</span> <span class=\"o\">=</span> <span class=\"n\">kb</span><span class=\"o\">.</span><span class=\"n\">clauses</span> <span class=\"o\">+</span> <span class=\"n\">conjuncts</span><span class=\"p\">(</span><span class=\"n\">to_cnf</span><span class=\"p\">(</span><span class=\"o\">~</span><span class=\"n\">alpha</span><span class=\"p\">))</span>\n",
              "    <span class=\"n\">new</span> <span class=\"o\">=</span> <span class=\"nb\">set</span><span class=\"p\">()</span>\n",
              "    <span class=\"k\">while</span> <span class=\"kc\">True</span><span class=\"p\">:</span>\n",
              "        <span class=\"n\">n</span> <span class=\"o\">=</span> <span class=\"nb\">len</span><span class=\"p\">(</span><span class=\"n\">clauses</span><span class=\"p\">)</span>\n",
              "        <span class=\"n\">pairs</span> <span class=\"o\">=</span> <span class=\"p\">[(</span><span class=\"n\">clauses</span><span class=\"p\">[</span><span class=\"n\">i</span><span class=\"p\">],</span> <span class=\"n\">clauses</span><span class=\"p\">[</span><span class=\"n\">j</span><span class=\"p\">])</span>\n",
              "                 <span class=\"k\">for</span> <span class=\"n\">i</span> <span class=\"ow\">in</span> <span class=\"nb\">range</span><span class=\"p\">(</span><span class=\"n\">n</span><span class=\"p\">)</span> <span class=\"k\">for</span> <span class=\"n\">j</span> <span class=\"ow\">in</span> <span class=\"nb\">range</span><span class=\"p\">(</span><span class=\"n\">i</span> <span class=\"o\">+</span> <span class=\"mi\">1</span><span class=\"p\">,</span> <span class=\"n\">n</span><span class=\"p\">)]</span>\n",
              "        <span class=\"k\">for</span> <span class=\"p\">(</span><span class=\"n\">ci</span><span class=\"p\">,</span> <span class=\"n\">cj</span><span class=\"p\">)</span> <span class=\"ow\">in</span> <span class=\"n\">pairs</span><span class=\"p\">:</span>\n",
              "            <span class=\"n\">resolvents</span> <span class=\"o\">=</span> <span class=\"n\">pl_resolve</span><span class=\"p\">(</span><span class=\"n\">ci</span><span class=\"p\">,</span> <span class=\"n\">cj</span><span class=\"p\">)</span>\n",
              "            <span class=\"k\">if</span> <span class=\"kc\">False</span> <span class=\"ow\">in</span> <span class=\"n\">resolvents</span><span class=\"p\">:</span>\n",
              "                <span class=\"k\">return</span> <span class=\"kc\">True</span>\n",
              "            <span class=\"n\">new</span> <span class=\"o\">=</span> <span class=\"n\">new</span><span class=\"o\">.</span><span class=\"n\">union</span><span class=\"p\">(</span><span class=\"nb\">set</span><span class=\"p\">(</span><span class=\"n\">resolvents</span><span class=\"p\">))</span>\n",
              "        <span class=\"k\">if</span> <span class=\"n\">new</span><span class=\"o\">.</span><span class=\"n\">issubset</span><span class=\"p\">(</span><span class=\"nb\">set</span><span class=\"p\">(</span><span class=\"n\">clauses</span><span class=\"p\">)):</span>\n",
              "            <span class=\"k\">return</span> <span class=\"kc\">False</span>\n",
              "        <span class=\"k\">for</span> <span class=\"n\">c</span> <span class=\"ow\">in</span> <span class=\"n\">new</span><span class=\"p\">:</span>\n",
              "            <span class=\"k\">if</span> <span class=\"n\">c</span> <span class=\"ow\">not</span> <span class=\"ow\">in</span> <span class=\"n\">clauses</span><span class=\"p\">:</span>\n",
              "                <span class=\"n\">clauses</span><span class=\"o\">.</span><span class=\"n\">append</span><span class=\"p\">(</span><span class=\"n\">c</span><span class=\"p\">)</span>\n",
              "</pre></div>\n",
              "</body>\n",
              "</html>\n"
            ]
          },
          "metadata": {}
        }
      ],
      "source": [
        "psource(pl_resolution)"
      ]
    },
    {
      "cell_type": "code",
      "execution_count": 45,
      "metadata": {
        "id": "QYn731FSWOXt",
        "outputId": "8b937908-94ed-4f77-a4b6-b639d07ebcd8",
        "colab": {
          "base_uri": "https://localhost:8080/"
        }
      },
      "outputs": [
        {
          "output_type": "execute_result",
          "data": {
            "text/plain": [
              "(True, False)"
            ]
          },
          "metadata": {},
          "execution_count": 45
        }
      ],
      "source": [
        "pl_resolution(wumpus_kb, ~P11), pl_resolution(wumpus_kb, P11)"
      ]
    },
    {
      "cell_type": "markdown",
      "source": [
        "$KB \\vDash \\neg P_{1,1}$ (pasti tidak ada lubang di kotak [1,1])\n",
        "\n",
        "$KB \\nvDash P_{1,1}$ (tidak bisa disimpulkan bahwa ada lubang di [1,1])"
      ],
      "metadata": {
        "id": "asfMsinTWD0_"
      }
    },
    {
      "cell_type": "code",
      "execution_count": 46,
      "metadata": {
        "id": "UpTe6Wu5WOXt",
        "outputId": "39c22e43-cad2-453e-c047-fc2178982c3e",
        "colab": {
          "base_uri": "https://localhost:8080/"
        }
      },
      "outputs": [
        {
          "output_type": "execute_result",
          "data": {
            "text/plain": [
              "(False, False)"
            ]
          },
          "metadata": {},
          "execution_count": 46
        }
      ],
      "source": [
        "pl_resolution(wumpus_kb, ~P22), pl_resolution(wumpus_kb, P22)"
      ]
    },
    {
      "cell_type": "markdown",
      "metadata": {
        "id": "4L4hm56XWOXt"
      },
      "source": [
        "### Forward and backward chaining\n",
        "Sebelumnya, kita sudah membahas dua algoritma untuk mengecek apakah sebuah kalimat entailed oleh KB. Dan kali ini akan ditambahkan algoritma ketiga.\n",
        "\n",
        "Perbedaan utamanya adalah: tujuan kita sekarang adalah menentukan apakah sebuah basis pengetahuan (*knowledge base*) yang berisi definite clauses meng-*entail* sebuah simbol proposisi tunggal `q` (*query*).\n",
        "Tapi ada satu catatan: basis pengetahuan di sini hanya boleh berisi Horn clauses.\n",
        "\n",
        "Previously, we said we will look at two algorithms to check if a sentence is entailed by the `KB`. Here's a third one.\n",
        "The difference here is that our goal now is to determine if a knowledge base of definite clauses entails a single proposition symbol *q* - the query.\n",
        "There is a catch however - the knowledge base can only contain **Horn clauses**.\n",
        "<br>\n",
        "#### Horn Clauses\n",
        "Horn clause dapat didefinisikan sebagai *disjungsi* dari *literal* dengan **paling banyak** satu literal positif.\n",
        "\n",
        "\n",
        "-  Horn clause dengan tepat satu literal positif disebut *definite clause*\n",
        "-  Contoh Horn clause:\n",
        "\n",
        "$$\\neg a\\lor\\neg b\\lor\\neg c\\lor\\neg d... \\lor z$$\n",
        "\n",
        "Ini, secara kebetulan, juga merupakan definite clause\n",
        "<br>\n",
        "\n",
        "Dengan menggunakan hukum De Morgan, contoh di atas bisa disederhanakan menjadi:\n",
        "<br>\n",
        "$$a\\land b\\land c\\land d ... \\implies z$$\n",
        "<br>\n",
        "\n",
        "Ini terlihat seperti reprsentasi logis dari cara manusia memproses data dan fakta, iya kan? Jika kita mengasumsikan bahwa `a`, `b`, `c`, `d` ... semuanya benar secara bersamaan, maka kita bisa menyimpulkan bahwa `z` juga benar pada saat itu.\n",
        "\n",
        "Ada beberapa hal menarik dari *Horn clauses*, yang membuat inferensi algoritmik atau *resolution* menjadi lebih mudah:\n",
        "\n",
        "- *Definite clause* dapat ditulis sebagai implikasi:\n",
        "\n",
        "Sederhananya, sebuah *definite clause* bisa dipandang sebagai implikasi.\n",
        "- - Premis (pengetahuan yang mendasari implikasi) adalah konjungsi literal positif\n",
        "- - konklusinya adalah literal positif. Jadi kalimatnya menjadi lebih mudah dipahami. Premis biasannya disebut *body* dan kesimpulan disebut *head*. Sementara, sebuah literal positif tunggal disebut *fact*\n",
        "\n",
        "- **Forward chaining dan Backward chaining** dapat digunakan untuk inferensi dengan **Horn clauses**: *Forward chaining* dan secara semantik identik dengan `AND-OR-Graph-Search` (Sebelumnya sudah dibahas di bab *search algorithms*). Detail implementasi akan dibahas sebentar lagi\n",
        "\n",
        "- Memutuskan *entailment* dengan *Horn clauses* bersifat linear terhadap ukuran `KB`: Surprisingly, algoritma `forward and backward chaining` hanya menelusuri setiap elemen dalam `KB` paling banyak satu kali, sehingga masalah menjadi jauh lebih sederhana.\n",
        "\n",
        "\n",
        "\n",
        "Funsi `pl_fc_entails` mengimplementasikan *forward chaining* untuk mengecek apakah sebuah `KB` meng-entail simbol `q`\n",
        "\n",
        "Sebelum dilanjut, perlu dicatat bahwa `pl_fc_entails` tidak menggunakan `KB` biasa. Basis pengetahuan disini adalah instance dari kelas `PropDefiniteKB` (turunan dari `PropKB`) yang dimodifikasi untuk menyimpan *definite clauses*\n",
        "\n",
        "Perbedaan utamanya adalah penambahan metode baru (`helper method`) pada `PropDefiniteKB` untuk mengembalikan daftar klausa dalam `KB` yang memiliki simbol `p` pada premisnya:"
      ]
    },
    {
      "cell_type": "code",
      "execution_count": 47,
      "metadata": {
        "id": "OCPy2-A6WOXt",
        "outputId": "f72ed77e-27d9-4688-ff01-84ce609e5a1c",
        "colab": {
          "base_uri": "https://localhost:8080/",
          "height": 104
        }
      },
      "outputs": [
        {
          "output_type": "display_data",
          "data": {
            "text/plain": [
              "<IPython.core.display.HTML object>"
            ],
            "text/html": [
              "<!DOCTYPE html PUBLIC \"-//W3C//DTD HTML 4.01//EN\"\n",
              "   \"http://www.w3.org/TR/html4/strict.dtd\">\n",
              "<!--\n",
              "generated by Pygments <https://pygments.org/>\n",
              "Copyright 2006-2025 by the Pygments team.\n",
              "Licensed under the BSD license, see LICENSE for details.\n",
              "-->\n",
              "<html>\n",
              "<head>\n",
              "  <title></title>\n",
              "  <meta http-equiv=\"content-type\" content=\"text/html; charset=None\">\n",
              "  <style type=\"text/css\">\n",
              "/*\n",
              "generated by Pygments <https://pygments.org/>\n",
              "Copyright 2006-2025 by the Pygments team.\n",
              "Licensed under the BSD license, see LICENSE for details.\n",
              "*/\n",
              "pre { line-height: 125%; }\n",
              "td.linenos .normal { color: inherit; background-color: transparent; padding-left: 5px; padding-right: 5px; }\n",
              "span.linenos { color: inherit; background-color: transparent; padding-left: 5px; padding-right: 5px; }\n",
              "td.linenos .special { color: #000000; background-color: #ffffc0; padding-left: 5px; padding-right: 5px; }\n",
              "span.linenos.special { color: #000000; background-color: #ffffc0; padding-left: 5px; padding-right: 5px; }\n",
              "body .hll { background-color: #ffffcc }\n",
              "body { background: #f8f8f8; }\n",
              "body .c { color: #3D7B7B; font-style: italic } /* Comment */\n",
              "body .err { border: 1px solid #F00 } /* Error */\n",
              "body .k { color: #008000; font-weight: bold } /* Keyword */\n",
              "body .o { color: #666 } /* Operator */\n",
              "body .ch { color: #3D7B7B; font-style: italic } /* Comment.Hashbang */\n",
              "body .cm { color: #3D7B7B; font-style: italic } /* Comment.Multiline */\n",
              "body .cp { color: #9C6500 } /* Comment.Preproc */\n",
              "body .cpf { color: #3D7B7B; font-style: italic } /* Comment.PreprocFile */\n",
              "body .c1 { color: #3D7B7B; font-style: italic } /* Comment.Single */\n",
              "body .cs { color: #3D7B7B; font-style: italic } /* Comment.Special */\n",
              "body .gd { color: #A00000 } /* Generic.Deleted */\n",
              "body .ge { font-style: italic } /* Generic.Emph */\n",
              "body .ges { font-weight: bold; font-style: italic } /* Generic.EmphStrong */\n",
              "body .gr { color: #E40000 } /* Generic.Error */\n",
              "body .gh { color: #000080; font-weight: bold } /* Generic.Heading */\n",
              "body .gi { color: #008400 } /* Generic.Inserted */\n",
              "body .go { color: #717171 } /* Generic.Output */\n",
              "body .gp { color: #000080; font-weight: bold } /* Generic.Prompt */\n",
              "body .gs { font-weight: bold } /* Generic.Strong */\n",
              "body .gu { color: #800080; font-weight: bold } /* Generic.Subheading */\n",
              "body .gt { color: #04D } /* Generic.Traceback */\n",
              "body .kc { color: #008000; font-weight: bold } /* Keyword.Constant */\n",
              "body .kd { color: #008000; font-weight: bold } /* Keyword.Declaration */\n",
              "body .kn { color: #008000; font-weight: bold } /* Keyword.Namespace */\n",
              "body .kp { color: #008000 } /* Keyword.Pseudo */\n",
              "body .kr { color: #008000; font-weight: bold } /* Keyword.Reserved */\n",
              "body .kt { color: #B00040 } /* Keyword.Type */\n",
              "body .m { color: #666 } /* Literal.Number */\n",
              "body .s { color: #BA2121 } /* Literal.String */\n",
              "body .na { color: #687822 } /* Name.Attribute */\n",
              "body .nb { color: #008000 } /* Name.Builtin */\n",
              "body .nc { color: #00F; font-weight: bold } /* Name.Class */\n",
              "body .no { color: #800 } /* Name.Constant */\n",
              "body .nd { color: #A2F } /* Name.Decorator */\n",
              "body .ni { color: #717171; font-weight: bold } /* Name.Entity */\n",
              "body .ne { color: #CB3F38; font-weight: bold } /* Name.Exception */\n",
              "body .nf { color: #00F } /* Name.Function */\n",
              "body .nl { color: #767600 } /* Name.Label */\n",
              "body .nn { color: #00F; font-weight: bold } /* Name.Namespace */\n",
              "body .nt { color: #008000; font-weight: bold } /* Name.Tag */\n",
              "body .nv { color: #19177C } /* Name.Variable */\n",
              "body .ow { color: #A2F; font-weight: bold } /* Operator.Word */\n",
              "body .w { color: #BBB } /* Text.Whitespace */\n",
              "body .mb { color: #666 } /* Literal.Number.Bin */\n",
              "body .mf { color: #666 } /* Literal.Number.Float */\n",
              "body .mh { color: #666 } /* Literal.Number.Hex */\n",
              "body .mi { color: #666 } /* Literal.Number.Integer */\n",
              "body .mo { color: #666 } /* Literal.Number.Oct */\n",
              "body .sa { color: #BA2121 } /* Literal.String.Affix */\n",
              "body .sb { color: #BA2121 } /* Literal.String.Backtick */\n",
              "body .sc { color: #BA2121 } /* Literal.String.Char */\n",
              "body .dl { color: #BA2121 } /* Literal.String.Delimiter */\n",
              "body .sd { color: #BA2121; font-style: italic } /* Literal.String.Doc */\n",
              "body .s2 { color: #BA2121 } /* Literal.String.Double */\n",
              "body .se { color: #AA5D1F; font-weight: bold } /* Literal.String.Escape */\n",
              "body .sh { color: #BA2121 } /* Literal.String.Heredoc */\n",
              "body .si { color: #A45A77; font-weight: bold } /* Literal.String.Interpol */\n",
              "body .sx { color: #008000 } /* Literal.String.Other */\n",
              "body .sr { color: #A45A77 } /* Literal.String.Regex */\n",
              "body .s1 { color: #BA2121 } /* Literal.String.Single */\n",
              "body .ss { color: #19177C } /* Literal.String.Symbol */\n",
              "body .bp { color: #008000 } /* Name.Builtin.Pseudo */\n",
              "body .fm { color: #00F } /* Name.Function.Magic */\n",
              "body .vc { color: #19177C } /* Name.Variable.Class */\n",
              "body .vg { color: #19177C } /* Name.Variable.Global */\n",
              "body .vi { color: #19177C } /* Name.Variable.Instance */\n",
              "body .vm { color: #19177C } /* Name.Variable.Magic */\n",
              "body .il { color: #666 } /* Literal.Number.Integer.Long */\n",
              "\n",
              "  </style>\n",
              "</head>\n",
              "<body>\n",
              "<h2></h2>\n",
              "\n",
              "<div class=\"highlight\"><pre><span></span>    <span class=\"k\">def</span><span class=\"w\"> </span><span class=\"nf\">clauses_with_premise</span><span class=\"p\">(</span><span class=\"bp\">self</span><span class=\"p\">,</span> <span class=\"n\">p</span><span class=\"p\">):</span>\n",
              "<span class=\"w\">        </span><span class=\"sd\">&quot;&quot;&quot;Return a list of the clauses in KB that have p in their premise.</span>\n",
              "<span class=\"sd\">        This could be cached away for O(1) speed, but we&#39;ll recompute it.&quot;&quot;&quot;</span>\n",
              "        <span class=\"k\">return</span> <span class=\"p\">[</span><span class=\"n\">c</span> <span class=\"k\">for</span> <span class=\"n\">c</span> <span class=\"ow\">in</span> <span class=\"bp\">self</span><span class=\"o\">.</span><span class=\"n\">clauses</span> <span class=\"k\">if</span> <span class=\"n\">c</span><span class=\"o\">.</span><span class=\"n\">op</span> <span class=\"o\">==</span> <span class=\"s1\">&#39;==&gt;&#39;</span> <span class=\"ow\">and</span> <span class=\"n\">p</span> <span class=\"ow\">in</span> <span class=\"n\">conjuncts</span><span class=\"p\">(</span><span class=\"n\">c</span><span class=\"o\">.</span><span class=\"n\">args</span><span class=\"p\">[</span><span class=\"mi\">0</span><span class=\"p\">])]</span>\n",
              "</pre></div>\n",
              "</body>\n",
              "</html>\n"
            ]
          },
          "metadata": {}
        }
      ],
      "source": [
        "psource(PropDefiniteKB.clauses_with_premise)"
      ]
    },
    {
      "cell_type": "markdown",
      "metadata": {
        "id": "5pf6WQw4WOXt"
      },
      "source": [
        "Sekarang kita lihat algoritma `p1_fc_entailse`"
      ]
    },
    {
      "cell_type": "code",
      "execution_count": 48,
      "metadata": {
        "id": "oKZs8D-BWOXt",
        "outputId": "768598ec-57da-4802-d616-9ca1eee30c9f",
        "colab": {
          "base_uri": "https://localhost:8080/",
          "height": 402
        }
      },
      "outputs": [
        {
          "output_type": "display_data",
          "data": {
            "text/plain": [
              "<IPython.core.display.HTML object>"
            ],
            "text/html": [
              "<!DOCTYPE html PUBLIC \"-//W3C//DTD HTML 4.01//EN\"\n",
              "   \"http://www.w3.org/TR/html4/strict.dtd\">\n",
              "<!--\n",
              "generated by Pygments <https://pygments.org/>\n",
              "Copyright 2006-2025 by the Pygments team.\n",
              "Licensed under the BSD license, see LICENSE for details.\n",
              "-->\n",
              "<html>\n",
              "<head>\n",
              "  <title></title>\n",
              "  <meta http-equiv=\"content-type\" content=\"text/html; charset=None\">\n",
              "  <style type=\"text/css\">\n",
              "/*\n",
              "generated by Pygments <https://pygments.org/>\n",
              "Copyright 2006-2025 by the Pygments team.\n",
              "Licensed under the BSD license, see LICENSE for details.\n",
              "*/\n",
              "pre { line-height: 125%; }\n",
              "td.linenos .normal { color: inherit; background-color: transparent; padding-left: 5px; padding-right: 5px; }\n",
              "span.linenos { color: inherit; background-color: transparent; padding-left: 5px; padding-right: 5px; }\n",
              "td.linenos .special { color: #000000; background-color: #ffffc0; padding-left: 5px; padding-right: 5px; }\n",
              "span.linenos.special { color: #000000; background-color: #ffffc0; padding-left: 5px; padding-right: 5px; }\n",
              "body .hll { background-color: #ffffcc }\n",
              "body { background: #f8f8f8; }\n",
              "body .c { color: #3D7B7B; font-style: italic } /* Comment */\n",
              "body .err { border: 1px solid #F00 } /* Error */\n",
              "body .k { color: #008000; font-weight: bold } /* Keyword */\n",
              "body .o { color: #666 } /* Operator */\n",
              "body .ch { color: #3D7B7B; font-style: italic } /* Comment.Hashbang */\n",
              "body .cm { color: #3D7B7B; font-style: italic } /* Comment.Multiline */\n",
              "body .cp { color: #9C6500 } /* Comment.Preproc */\n",
              "body .cpf { color: #3D7B7B; font-style: italic } /* Comment.PreprocFile */\n",
              "body .c1 { color: #3D7B7B; font-style: italic } /* Comment.Single */\n",
              "body .cs { color: #3D7B7B; font-style: italic } /* Comment.Special */\n",
              "body .gd { color: #A00000 } /* Generic.Deleted */\n",
              "body .ge { font-style: italic } /* Generic.Emph */\n",
              "body .ges { font-weight: bold; font-style: italic } /* Generic.EmphStrong */\n",
              "body .gr { color: #E40000 } /* Generic.Error */\n",
              "body .gh { color: #000080; font-weight: bold } /* Generic.Heading */\n",
              "body .gi { color: #008400 } /* Generic.Inserted */\n",
              "body .go { color: #717171 } /* Generic.Output */\n",
              "body .gp { color: #000080; font-weight: bold } /* Generic.Prompt */\n",
              "body .gs { font-weight: bold } /* Generic.Strong */\n",
              "body .gu { color: #800080; font-weight: bold } /* Generic.Subheading */\n",
              "body .gt { color: #04D } /* Generic.Traceback */\n",
              "body .kc { color: #008000; font-weight: bold } /* Keyword.Constant */\n",
              "body .kd { color: #008000; font-weight: bold } /* Keyword.Declaration */\n",
              "body .kn { color: #008000; font-weight: bold } /* Keyword.Namespace */\n",
              "body .kp { color: #008000 } /* Keyword.Pseudo */\n",
              "body .kr { color: #008000; font-weight: bold } /* Keyword.Reserved */\n",
              "body .kt { color: #B00040 } /* Keyword.Type */\n",
              "body .m { color: #666 } /* Literal.Number */\n",
              "body .s { color: #BA2121 } /* Literal.String */\n",
              "body .na { color: #687822 } /* Name.Attribute */\n",
              "body .nb { color: #008000 } /* Name.Builtin */\n",
              "body .nc { color: #00F; font-weight: bold } /* Name.Class */\n",
              "body .no { color: #800 } /* Name.Constant */\n",
              "body .nd { color: #A2F } /* Name.Decorator */\n",
              "body .ni { color: #717171; font-weight: bold } /* Name.Entity */\n",
              "body .ne { color: #CB3F38; font-weight: bold } /* Name.Exception */\n",
              "body .nf { color: #00F } /* Name.Function */\n",
              "body .nl { color: #767600 } /* Name.Label */\n",
              "body .nn { color: #00F; font-weight: bold } /* Name.Namespace */\n",
              "body .nt { color: #008000; font-weight: bold } /* Name.Tag */\n",
              "body .nv { color: #19177C } /* Name.Variable */\n",
              "body .ow { color: #A2F; font-weight: bold } /* Operator.Word */\n",
              "body .w { color: #BBB } /* Text.Whitespace */\n",
              "body .mb { color: #666 } /* Literal.Number.Bin */\n",
              "body .mf { color: #666 } /* Literal.Number.Float */\n",
              "body .mh { color: #666 } /* Literal.Number.Hex */\n",
              "body .mi { color: #666 } /* Literal.Number.Integer */\n",
              "body .mo { color: #666 } /* Literal.Number.Oct */\n",
              "body .sa { color: #BA2121 } /* Literal.String.Affix */\n",
              "body .sb { color: #BA2121 } /* Literal.String.Backtick */\n",
              "body .sc { color: #BA2121 } /* Literal.String.Char */\n",
              "body .dl { color: #BA2121 } /* Literal.String.Delimiter */\n",
              "body .sd { color: #BA2121; font-style: italic } /* Literal.String.Doc */\n",
              "body .s2 { color: #BA2121 } /* Literal.String.Double */\n",
              "body .se { color: #AA5D1F; font-weight: bold } /* Literal.String.Escape */\n",
              "body .sh { color: #BA2121 } /* Literal.String.Heredoc */\n",
              "body .si { color: #A45A77; font-weight: bold } /* Literal.String.Interpol */\n",
              "body .sx { color: #008000 } /* Literal.String.Other */\n",
              "body .sr { color: #A45A77 } /* Literal.String.Regex */\n",
              "body .s1 { color: #BA2121 } /* Literal.String.Single */\n",
              "body .ss { color: #19177C } /* Literal.String.Symbol */\n",
              "body .bp { color: #008000 } /* Name.Builtin.Pseudo */\n",
              "body .fm { color: #00F } /* Name.Function.Magic */\n",
              "body .vc { color: #19177C } /* Name.Variable.Class */\n",
              "body .vg { color: #19177C } /* Name.Variable.Global */\n",
              "body .vi { color: #19177C } /* Name.Variable.Instance */\n",
              "body .vm { color: #19177C } /* Name.Variable.Magic */\n",
              "body .il { color: #666 } /* Literal.Number.Integer.Long */\n",
              "\n",
              "  </style>\n",
              "</head>\n",
              "<body>\n",
              "<h2></h2>\n",
              "\n",
              "<div class=\"highlight\"><pre><span></span><span class=\"k\">def</span><span class=\"w\"> </span><span class=\"nf\">pl_fc_entails</span><span class=\"p\">(</span><span class=\"n\">kb</span><span class=\"p\">,</span> <span class=\"n\">q</span><span class=\"p\">):</span>\n",
              "<span class=\"w\">    </span><span class=\"sd\">&quot;&quot;&quot;</span>\n",
              "<span class=\"sd\">    [Figure 7.15]</span>\n",
              "<span class=\"sd\">    Use forward chaining to see if a PropDefiniteKB entails symbol q.</span>\n",
              "<span class=\"sd\">    &gt;&gt;&gt; pl_fc_entails(horn_clauses_KB, expr(&#39;Q&#39;))</span>\n",
              "<span class=\"sd\">    True</span>\n",
              "<span class=\"sd\">    &quot;&quot;&quot;</span>\n",
              "    <span class=\"n\">count</span> <span class=\"o\">=</span> <span class=\"p\">{</span><span class=\"n\">c</span><span class=\"p\">:</span> <span class=\"nb\">len</span><span class=\"p\">(</span><span class=\"n\">conjuncts</span><span class=\"p\">(</span><span class=\"n\">c</span><span class=\"o\">.</span><span class=\"n\">args</span><span class=\"p\">[</span><span class=\"mi\">0</span><span class=\"p\">]))</span> <span class=\"k\">for</span> <span class=\"n\">c</span> <span class=\"ow\">in</span> <span class=\"n\">kb</span><span class=\"o\">.</span><span class=\"n\">clauses</span> <span class=\"k\">if</span> <span class=\"n\">c</span><span class=\"o\">.</span><span class=\"n\">op</span> <span class=\"o\">==</span> <span class=\"s1\">&#39;==&gt;&#39;</span><span class=\"p\">}</span>\n",
              "    <span class=\"n\">inferred</span> <span class=\"o\">=</span> <span class=\"n\">defaultdict</span><span class=\"p\">(</span><span class=\"nb\">bool</span><span class=\"p\">)</span>\n",
              "    <span class=\"n\">agenda</span> <span class=\"o\">=</span> <span class=\"p\">[</span><span class=\"n\">s</span> <span class=\"k\">for</span> <span class=\"n\">s</span> <span class=\"ow\">in</span> <span class=\"n\">kb</span><span class=\"o\">.</span><span class=\"n\">clauses</span> <span class=\"k\">if</span> <span class=\"n\">is_prop_symbol</span><span class=\"p\">(</span><span class=\"n\">s</span><span class=\"o\">.</span><span class=\"n\">op</span><span class=\"p\">)]</span>\n",
              "    <span class=\"k\">while</span> <span class=\"n\">agenda</span><span class=\"p\">:</span>\n",
              "        <span class=\"n\">p</span> <span class=\"o\">=</span> <span class=\"n\">agenda</span><span class=\"o\">.</span><span class=\"n\">pop</span><span class=\"p\">()</span>\n",
              "        <span class=\"k\">if</span> <span class=\"n\">p</span> <span class=\"o\">==</span> <span class=\"n\">q</span><span class=\"p\">:</span>\n",
              "            <span class=\"k\">return</span> <span class=\"kc\">True</span>\n",
              "        <span class=\"k\">if</span> <span class=\"ow\">not</span> <span class=\"n\">inferred</span><span class=\"p\">[</span><span class=\"n\">p</span><span class=\"p\">]:</span>\n",
              "            <span class=\"n\">inferred</span><span class=\"p\">[</span><span class=\"n\">p</span><span class=\"p\">]</span> <span class=\"o\">=</span> <span class=\"kc\">True</span>\n",
              "            <span class=\"k\">for</span> <span class=\"n\">c</span> <span class=\"ow\">in</span> <span class=\"n\">kb</span><span class=\"o\">.</span><span class=\"n\">clauses_with_premise</span><span class=\"p\">(</span><span class=\"n\">p</span><span class=\"p\">):</span>\n",
              "                <span class=\"n\">count</span><span class=\"p\">[</span><span class=\"n\">c</span><span class=\"p\">]</span> <span class=\"o\">-=</span> <span class=\"mi\">1</span>\n",
              "                <span class=\"k\">if</span> <span class=\"n\">count</span><span class=\"p\">[</span><span class=\"n\">c</span><span class=\"p\">]</span> <span class=\"o\">==</span> <span class=\"mi\">0</span><span class=\"p\">:</span>\n",
              "                    <span class=\"n\">agenda</span><span class=\"o\">.</span><span class=\"n\">append</span><span class=\"p\">(</span><span class=\"n\">c</span><span class=\"o\">.</span><span class=\"n\">args</span><span class=\"p\">[</span><span class=\"mi\">1</span><span class=\"p\">])</span>\n",
              "    <span class=\"k\">return</span> <span class=\"kc\">False</span>\n",
              "</pre></div>\n",
              "</body>\n",
              "</html>\n"
            ]
          },
          "metadata": {}
        }
      ],
      "source": [
        "psource(pl_fc_entails)"
      ]
    },
    {
      "cell_type": "markdown",
      "metadata": {
        "id": "nQIIQudtWOXt"
      },
      "source": [
        "Fungsi ini menerima basis pengetahuan `KB` (instance dari `PropDefiniteKB`) dan sebuah query `q` sebagai input.\n",
        "\n",
        "- `count` menyimpan jumlah simbol dalam premis setiap kalimat di `KB`\n",
        "- fungsi bantu `conjuncts` memecah kalimat berdasarkan konjungsi\n",
        "- `inferred` adalah `defaultdict` boolean untuk melacak apakah semua premis dari setiap klausa sudah diiferensikan\n",
        "- `agenda` awalnya menyimpan daftar klausa yang sudah diketahui benar oleh `KB`. Fungsi `is_prop_symbol` mengecek apakah sebuah simbol adalah simbol logika proposisional yang valid.\n",
        "\n",
        "\n",
        "selanjutnya, kita iterasi melalui `agenda`, setiap kali mengambil simbol `p`\n",
        "\n",
        "- Jika query `q` sama dengan `p`, berarti *entailment* berlaku → kembalikan `True`.\n",
        "- Agenda diproses dengan mengurangi `count` untuk setiap implikasi yang memiliki premis `p`.\n",
        "- Jika `count` mencapai nol, artinya semua premis dari implikasi tersebut sudah diketahui benar, sehingga kesimpulannya bisa dimasukkan ke dalam agenda\n",
        "\n",
        "Metode `clauses_with_premise` tadi digunakan untuk mencari klausa-klausa dalam `KB` yang memiliki `p` di premisnya\n",
        "\n",
        "Sekarang kita sudah paham cara kerjanya. Selanjutnya, mari lihat contoh penggunaannya, tapi sebelumnya kita perlu mendefinisikan basis pengetahuan kita terlebih dahulu."
      ]
    },
    {
      "cell_type": "code",
      "execution_count": 49,
      "metadata": {
        "collapsed": true,
        "id": "22_Ld7IxWOXt"
      },
      "outputs": [],
      "source": [
        "clauses = ['(B & F)==>E',\n",
        "           '(A & E & F)==>G',\n",
        "           '(B & C)==>F',\n",
        "           '(A & B)==>D',\n",
        "           '(E & F)==>H',\n",
        "           '(H & I)==>J',\n",
        "           'A',\n",
        "           'B',\n",
        "           'C']\n",
        "\n",
        "# asumsikan kita mengetahui klausa klausa berikut bernilai benar"
      ]
    },
    {
      "cell_type": "code",
      "execution_count": 50,
      "metadata": {
        "collapsed": true,
        "id": "owjwQfh3WOXu"
      },
      "outputs": [],
      "source": [
        "# sekarang dari semua klausa diatas kita akan `tell` ke basis pengetahuan (`KB`) kita\n",
        "definite_clauses_KB = PropDefiniteKB()\n",
        "for clause in clauses:\n",
        "    definite_clauses_KB.tell(expr(clause))\n",
        "\n",
        "# setelah itu, kita bisa mengecek apakah basis pengetahuan kita *meng-entail* query tertentu"
      ]
    },
    {
      "cell_type": "code",
      "execution_count": 51,
      "metadata": {
        "id": "sNfU2qNkWOXu",
        "outputId": "0110720f-6462-4d49-ac0c-e02cc33f363a",
        "colab": {
          "base_uri": "https://localhost:8080/"
        }
      },
      "outputs": [
        {
          "output_type": "execute_result",
          "data": {
            "text/plain": [
              "True"
            ]
          },
          "metadata": {},
          "execution_count": 51
        }
      ],
      "source": [
        "pl_fc_entails(definite_clauses_KB, expr('G'))"
      ]
    },
    {
      "cell_type": "markdown",
      "source": [
        "1. kita mulai Dari fakta A, B, C\n",
        "\n",
        "2. Karena ada B & C, maka dari klausa (3) kita dapat F\n",
        "\n",
        "3. Sekarang kita punya B & F, dari klausa (1) kita dapat E\n",
        "\n",
        "4. Jadi saat ini fakta yang kita tahu: A, B, C, F, E\n",
        "\n",
        "5. Perhatikan klausa (2): (A & E & F) ==> G\n",
        "\n",
        "* A sudah True\n",
        "\n",
        "* E sudah True\n",
        "\n",
        "* F sudah True\n",
        "\n",
        "**Maka G bisa disimpulkan benar**"
      ],
      "metadata": {
        "id": "QaTgUer7dtmu"
      }
    },
    {
      "cell_type": "code",
      "execution_count": 52,
      "metadata": {
        "id": "jBf7m7WGWOXu",
        "outputId": "f66b2ff9-3488-40d7-9815-4ab1ec49347c",
        "colab": {
          "base_uri": "https://localhost:8080/"
        }
      },
      "outputs": [
        {
          "output_type": "execute_result",
          "data": {
            "text/plain": [
              "True"
            ]
          },
          "metadata": {},
          "execution_count": 52
        }
      ],
      "source": [
        "pl_fc_entails(definite_clauses_KB, expr('H'))"
      ]
    },
    {
      "cell_type": "code",
      "execution_count": 53,
      "metadata": {
        "id": "BLgaxJOLWOXu",
        "outputId": "d2d9b6b7-d9c0-450a-99bc-d60e909cef71",
        "colab": {
          "base_uri": "https://localhost:8080/"
        }
      },
      "outputs": [
        {
          "output_type": "execute_result",
          "data": {
            "text/plain": [
              "False"
            ]
          },
          "metadata": {},
          "execution_count": 53
        }
      ],
      "source": [
        "pl_fc_entails(definite_clauses_KB, expr('I'))"
      ]
    },
    {
      "cell_type": "code",
      "execution_count": 54,
      "metadata": {
        "id": "usIYiMNYWOXu",
        "outputId": "c892a290-08c0-4ecb-e62e-ea73535c92d1",
        "colab": {
          "base_uri": "https://localhost:8080/"
        }
      },
      "outputs": [
        {
          "output_type": "execute_result",
          "data": {
            "text/plain": [
              "False"
            ]
          },
          "metadata": {},
          "execution_count": 54
        }
      ],
      "source": [
        "pl_fc_entails(definite_clauses_KB, expr('J'))"
      ]
    },
    {
      "cell_type": "markdown",
      "metadata": {
        "id": "-6fF16fxWOXu"
      },
      "source": [
        "### Effective Propositional Model Checking\n",
        "\n",
        "Bagian sebelumnya kita sudah membahas prosedur algoritmik untuk model checking.\n",
        "Di bagian ini, kita akan melihat cara membuatnya lebih efisien secara komputasi\n",
        "\n",
        "Masalah yang kita coba selesaikan biasanya disebut *propositional satisfiability problem* atau **SAT problem**\n",
        "sederhananya, jika ada sebuah model yang dapat memuaskan suatu formula Boolean, maka formula tersebut disebut satisfiable.\n",
        "\n",
        "Masalah SAT adalah masalah pertama yang terbukti sebagai *NP-complete*.\n",
        "Karakteristik utama dari masalah *NP-complete* adalah:\n",
        "\n",
        "- Jika ada solusi, mudah untuk memverifikasi bahwa solusi tersebut benar.\n",
        "\n",
        "- Tetapi, waktu yang diperlukan untuk menemukan solusi dengan algoritma yang diketahui saat ini akan meningkat secara eksponensial terhadap ukuran masalah.\n",
        "\n",
        "\n",
        "Karena sifat ini, metode **heuristik** dan pendekatan kira-kira sering digunakan untuk menemukan solusi masalah SAT.\n",
        "\n",
        "Kemampuan menyelesaikan masalah SAT berskala besar sangat penting, karena banyak masalah kombinatorial dalam ilmu komputer bisa direduksi menjadi masalah SAT, yaitu pengecekan apakah suatu kalimat proposisional *satisfiable* dengan batasan tertentu.\n",
        "\n",
        "dua algoritma baru yang dapat melakukan propositional model checking dengan cara yang lebih efisien. Akan diperkenalkan\n",
        "\n"
      ]
    },
    {
      "cell_type": "markdown",
      "source": [
        "#### 1. Algoritma DPLL (Davis-Putnam-Logeman-Loveland)"
      ],
      "metadata": {
        "id": "x3BWhSWb1DFj"
      }
    },
    {
      "cell_type": "markdown",
      "metadata": {
        "id": "5IL-eBqLWOXu"
      },
      "source": [
        "Algoritma ini mirip dengan Backtracking-Search,\n",
        "tetapi bekerja secara rekursif dengan enumerasi setiap model secara depth-first dan memiliki beberapa perbaikan dibanding algoritma seperti `tt_entails`:\n",
        "\n",
        "This algorithm is very similar to Backtracking-Search.\n",
        "It recursively enumerates possible models in a depth-first fashion with the following improvements over algorithms like `tt_entails`:\n",
        "1. Early termination:\n",
        "\n",
        "Dalam beberapa kasus, algoritma bisa menentukan nilai kebenaran hanya dari *partial model*. Contohnya, $(P\\lor Q)\\land(P\\lor R)$ pasti bernilai `true` jika $P$ bernilai `true`, terlepas dari nilai variabel lain.\n",
        "Hal ini membuat ruang pencarian menjadi lebih kecil\n",
        "\n",
        "2. Pure symbol heuristic:\n",
        "\n",
        "Jika sebuah simbol selalu muncul dengan tanda yang sama (hanya positif atau negatif) di semua klausa, maka disebut sebagai *pure symbol*.\n",
        "Supaya kalimat proposional `true`, pure symbol bisa langsung ditetapkan sesuai kebutuhan. Contoh: $(P\\lor\\neg Q)\\land(\\neg Q\\lor\\neg R)\\land(R\\lor P)$ Simbol *pure* disini adalah $P$ dan $Q$.\n",
        "\n",
        "Maka, agar kalimat bernilai benar, $P = true$  dan $Q = false$\n",
        "\n",
        "> Pure symbol heuristic membantu menyederhanakan masalah SAT sedikit\n",
        "\n",
        "3. Unit clause heuristic:\n",
        "\n",
        "Didalam konteks DPLL, klausa dengan hanya satu literal atau klausa yang semua literalnya bernilai `false` kecuali satu, disebut *unit clause*. Jika sebuah klausa adalah *unit clause*. Maka satu satunya cara agar klausa tersebut bernilai `true` adalah dengan memberi nilai benar pada literal terakhir,\n",
        "Satu-satunya cara membuat klausa ini benar adalah dengan menetapkan literal tersebut ke nilai yang benar.\n",
        "\n",
        " *We have no other choice*\n",
        "\n",
        "Menetapkan nilai pada sebuah *unit clause* bisa menghasilkan *unit clause* lain. Contohnya, jika $P = false$, maka klausa $(P \\lor Q)$ berubah menjadi *unit clause* yang memaksa $Q = true$\n",
        "\n",
        "\n",
        "Rangkaian penetapan secara paksa yang dihasilkan dari unit clauses sebelumnya disebut *unit propagation*. Dengan cara ini, heuristik ini semakin menyederhanakan masalah.\n",
        "\n",
        "Algoritma DPLL sebenarnya juga menggunakan beberapa trik lain untuk menangani masalah berskala besar.\n",
        "Namun, trik tersebut tidak dibahas di notebook ini. (Dari sananya begitu, lihat Section 7.6 pada buku untuk detail lebih lanjut.)\n",
        "\n",
        "*Let's have a look at the algorithm*"
      ]
    },
    {
      "cell_type": "code",
      "execution_count": 55,
      "metadata": {
        "id": "lGOh5Pa5WOXu",
        "outputId": "af7ca212-44b5-4fff-e719-aa707de6127c",
        "colab": {
          "base_uri": "https://localhost:8080/",
          "height": 384
        }
      },
      "outputs": [
        {
          "output_type": "display_data",
          "data": {
            "text/plain": [
              "<IPython.core.display.HTML object>"
            ],
            "text/html": [
              "<!DOCTYPE html PUBLIC \"-//W3C//DTD HTML 4.01//EN\"\n",
              "   \"http://www.w3.org/TR/html4/strict.dtd\">\n",
              "<!--\n",
              "generated by Pygments <https://pygments.org/>\n",
              "Copyright 2006-2025 by the Pygments team.\n",
              "Licensed under the BSD license, see LICENSE for details.\n",
              "-->\n",
              "<html>\n",
              "<head>\n",
              "  <title></title>\n",
              "  <meta http-equiv=\"content-type\" content=\"text/html; charset=None\">\n",
              "  <style type=\"text/css\">\n",
              "/*\n",
              "generated by Pygments <https://pygments.org/>\n",
              "Copyright 2006-2025 by the Pygments team.\n",
              "Licensed under the BSD license, see LICENSE for details.\n",
              "*/\n",
              "pre { line-height: 125%; }\n",
              "td.linenos .normal { color: inherit; background-color: transparent; padding-left: 5px; padding-right: 5px; }\n",
              "span.linenos { color: inherit; background-color: transparent; padding-left: 5px; padding-right: 5px; }\n",
              "td.linenos .special { color: #000000; background-color: #ffffc0; padding-left: 5px; padding-right: 5px; }\n",
              "span.linenos.special { color: #000000; background-color: #ffffc0; padding-left: 5px; padding-right: 5px; }\n",
              "body .hll { background-color: #ffffcc }\n",
              "body { background: #f8f8f8; }\n",
              "body .c { color: #3D7B7B; font-style: italic } /* Comment */\n",
              "body .err { border: 1px solid #F00 } /* Error */\n",
              "body .k { color: #008000; font-weight: bold } /* Keyword */\n",
              "body .o { color: #666 } /* Operator */\n",
              "body .ch { color: #3D7B7B; font-style: italic } /* Comment.Hashbang */\n",
              "body .cm { color: #3D7B7B; font-style: italic } /* Comment.Multiline */\n",
              "body .cp { color: #9C6500 } /* Comment.Preproc */\n",
              "body .cpf { color: #3D7B7B; font-style: italic } /* Comment.PreprocFile */\n",
              "body .c1 { color: #3D7B7B; font-style: italic } /* Comment.Single */\n",
              "body .cs { color: #3D7B7B; font-style: italic } /* Comment.Special */\n",
              "body .gd { color: #A00000 } /* Generic.Deleted */\n",
              "body .ge { font-style: italic } /* Generic.Emph */\n",
              "body .ges { font-weight: bold; font-style: italic } /* Generic.EmphStrong */\n",
              "body .gr { color: #E40000 } /* Generic.Error */\n",
              "body .gh { color: #000080; font-weight: bold } /* Generic.Heading */\n",
              "body .gi { color: #008400 } /* Generic.Inserted */\n",
              "body .go { color: #717171 } /* Generic.Output */\n",
              "body .gp { color: #000080; font-weight: bold } /* Generic.Prompt */\n",
              "body .gs { font-weight: bold } /* Generic.Strong */\n",
              "body .gu { color: #800080; font-weight: bold } /* Generic.Subheading */\n",
              "body .gt { color: #04D } /* Generic.Traceback */\n",
              "body .kc { color: #008000; font-weight: bold } /* Keyword.Constant */\n",
              "body .kd { color: #008000; font-weight: bold } /* Keyword.Declaration */\n",
              "body .kn { color: #008000; font-weight: bold } /* Keyword.Namespace */\n",
              "body .kp { color: #008000 } /* Keyword.Pseudo */\n",
              "body .kr { color: #008000; font-weight: bold } /* Keyword.Reserved */\n",
              "body .kt { color: #B00040 } /* Keyword.Type */\n",
              "body .m { color: #666 } /* Literal.Number */\n",
              "body .s { color: #BA2121 } /* Literal.String */\n",
              "body .na { color: #687822 } /* Name.Attribute */\n",
              "body .nb { color: #008000 } /* Name.Builtin */\n",
              "body .nc { color: #00F; font-weight: bold } /* Name.Class */\n",
              "body .no { color: #800 } /* Name.Constant */\n",
              "body .nd { color: #A2F } /* Name.Decorator */\n",
              "body .ni { color: #717171; font-weight: bold } /* Name.Entity */\n",
              "body .ne { color: #CB3F38; font-weight: bold } /* Name.Exception */\n",
              "body .nf { color: #00F } /* Name.Function */\n",
              "body .nl { color: #767600 } /* Name.Label */\n",
              "body .nn { color: #00F; font-weight: bold } /* Name.Namespace */\n",
              "body .nt { color: #008000; font-weight: bold } /* Name.Tag */\n",
              "body .nv { color: #19177C } /* Name.Variable */\n",
              "body .ow { color: #A2F; font-weight: bold } /* Operator.Word */\n",
              "body .w { color: #BBB } /* Text.Whitespace */\n",
              "body .mb { color: #666 } /* Literal.Number.Bin */\n",
              "body .mf { color: #666 } /* Literal.Number.Float */\n",
              "body .mh { color: #666 } /* Literal.Number.Hex */\n",
              "body .mi { color: #666 } /* Literal.Number.Integer */\n",
              "body .mo { color: #666 } /* Literal.Number.Oct */\n",
              "body .sa { color: #BA2121 } /* Literal.String.Affix */\n",
              "body .sb { color: #BA2121 } /* Literal.String.Backtick */\n",
              "body .sc { color: #BA2121 } /* Literal.String.Char */\n",
              "body .dl { color: #BA2121 } /* Literal.String.Delimiter */\n",
              "body .sd { color: #BA2121; font-style: italic } /* Literal.String.Doc */\n",
              "body .s2 { color: #BA2121 } /* Literal.String.Double */\n",
              "body .se { color: #AA5D1F; font-weight: bold } /* Literal.String.Escape */\n",
              "body .sh { color: #BA2121 } /* Literal.String.Heredoc */\n",
              "body .si { color: #A45A77; font-weight: bold } /* Literal.String.Interpol */\n",
              "body .sx { color: #008000 } /* Literal.String.Other */\n",
              "body .sr { color: #A45A77 } /* Literal.String.Regex */\n",
              "body .s1 { color: #BA2121 } /* Literal.String.Single */\n",
              "body .ss { color: #19177C } /* Literal.String.Symbol */\n",
              "body .bp { color: #008000 } /* Name.Builtin.Pseudo */\n",
              "body .fm { color: #00F } /* Name.Function.Magic */\n",
              "body .vc { color: #19177C } /* Name.Variable.Class */\n",
              "body .vg { color: #19177C } /* Name.Variable.Global */\n",
              "body .vi { color: #19177C } /* Name.Variable.Instance */\n",
              "body .vm { color: #19177C } /* Name.Variable.Magic */\n",
              "body .il { color: #666 } /* Literal.Number.Integer.Long */\n",
              "\n",
              "  </style>\n",
              "</head>\n",
              "<body>\n",
              "<h2></h2>\n",
              "\n",
              "<div class=\"highlight\"><pre><span></span><span class=\"k\">def</span><span class=\"w\"> </span><span class=\"nf\">dpll</span><span class=\"p\">(</span><span class=\"n\">clauses</span><span class=\"p\">,</span> <span class=\"n\">symbols</span><span class=\"p\">,</span> <span class=\"n\">model</span><span class=\"p\">,</span> <span class=\"n\">branching_heuristic</span><span class=\"o\">=</span><span class=\"n\">no_branching_heuristic</span><span class=\"p\">):</span>\n",
              "<span class=\"w\">    </span><span class=\"sd\">&quot;&quot;&quot;See if the clauses are true in a partial model.&quot;&quot;&quot;</span>\n",
              "    <span class=\"n\">unknown_clauses</span> <span class=\"o\">=</span> <span class=\"p\">[]</span>  <span class=\"c1\"># clauses with an unknown truth value</span>\n",
              "    <span class=\"k\">for</span> <span class=\"n\">c</span> <span class=\"ow\">in</span> <span class=\"n\">clauses</span><span class=\"p\">:</span>\n",
              "        <span class=\"n\">val</span> <span class=\"o\">=</span> <span class=\"n\">pl_true</span><span class=\"p\">(</span><span class=\"n\">c</span><span class=\"p\">,</span> <span class=\"n\">model</span><span class=\"p\">)</span>\n",
              "        <span class=\"k\">if</span> <span class=\"n\">val</span> <span class=\"ow\">is</span> <span class=\"kc\">False</span><span class=\"p\">:</span>\n",
              "            <span class=\"k\">return</span> <span class=\"kc\">False</span>\n",
              "        <span class=\"k\">if</span> <span class=\"n\">val</span> <span class=\"ow\">is</span> <span class=\"kc\">None</span><span class=\"p\">:</span>\n",
              "            <span class=\"n\">unknown_clauses</span><span class=\"o\">.</span><span class=\"n\">append</span><span class=\"p\">(</span><span class=\"n\">c</span><span class=\"p\">)</span>\n",
              "    <span class=\"k\">if</span> <span class=\"ow\">not</span> <span class=\"n\">unknown_clauses</span><span class=\"p\">:</span>\n",
              "        <span class=\"k\">return</span> <span class=\"n\">model</span>\n",
              "    <span class=\"n\">P</span><span class=\"p\">,</span> <span class=\"n\">value</span> <span class=\"o\">=</span> <span class=\"n\">find_pure_symbol</span><span class=\"p\">(</span><span class=\"n\">symbols</span><span class=\"p\">,</span> <span class=\"n\">unknown_clauses</span><span class=\"p\">)</span>\n",
              "    <span class=\"k\">if</span> <span class=\"n\">P</span><span class=\"p\">:</span>\n",
              "        <span class=\"k\">return</span> <span class=\"n\">dpll</span><span class=\"p\">(</span><span class=\"n\">clauses</span><span class=\"p\">,</span> <span class=\"n\">remove_all</span><span class=\"p\">(</span><span class=\"n\">P</span><span class=\"p\">,</span> <span class=\"n\">symbols</span><span class=\"p\">),</span> <span class=\"n\">extend</span><span class=\"p\">(</span><span class=\"n\">model</span><span class=\"p\">,</span> <span class=\"n\">P</span><span class=\"p\">,</span> <span class=\"n\">value</span><span class=\"p\">),</span> <span class=\"n\">branching_heuristic</span><span class=\"p\">)</span>\n",
              "    <span class=\"n\">P</span><span class=\"p\">,</span> <span class=\"n\">value</span> <span class=\"o\">=</span> <span class=\"n\">find_unit_clause</span><span class=\"p\">(</span><span class=\"n\">clauses</span><span class=\"p\">,</span> <span class=\"n\">model</span><span class=\"p\">)</span>\n",
              "    <span class=\"k\">if</span> <span class=\"n\">P</span><span class=\"p\">:</span>\n",
              "        <span class=\"k\">return</span> <span class=\"n\">dpll</span><span class=\"p\">(</span><span class=\"n\">clauses</span><span class=\"p\">,</span> <span class=\"n\">remove_all</span><span class=\"p\">(</span><span class=\"n\">P</span><span class=\"p\">,</span> <span class=\"n\">symbols</span><span class=\"p\">),</span> <span class=\"n\">extend</span><span class=\"p\">(</span><span class=\"n\">model</span><span class=\"p\">,</span> <span class=\"n\">P</span><span class=\"p\">,</span> <span class=\"n\">value</span><span class=\"p\">),</span> <span class=\"n\">branching_heuristic</span><span class=\"p\">)</span>\n",
              "    <span class=\"n\">P</span><span class=\"p\">,</span> <span class=\"n\">value</span> <span class=\"o\">=</span> <span class=\"n\">branching_heuristic</span><span class=\"p\">(</span><span class=\"n\">symbols</span><span class=\"p\">,</span> <span class=\"n\">unknown_clauses</span><span class=\"p\">)</span>\n",
              "    <span class=\"k\">return</span> <span class=\"p\">(</span><span class=\"n\">dpll</span><span class=\"p\">(</span><span class=\"n\">clauses</span><span class=\"p\">,</span> <span class=\"n\">remove_all</span><span class=\"p\">(</span><span class=\"n\">P</span><span class=\"p\">,</span> <span class=\"n\">symbols</span><span class=\"p\">),</span> <span class=\"n\">extend</span><span class=\"p\">(</span><span class=\"n\">model</span><span class=\"p\">,</span> <span class=\"n\">P</span><span class=\"p\">,</span> <span class=\"n\">value</span><span class=\"p\">),</span> <span class=\"n\">branching_heuristic</span><span class=\"p\">)</span> <span class=\"ow\">or</span>\n",
              "            <span class=\"n\">dpll</span><span class=\"p\">(</span><span class=\"n\">clauses</span><span class=\"p\">,</span> <span class=\"n\">remove_all</span><span class=\"p\">(</span><span class=\"n\">P</span><span class=\"p\">,</span> <span class=\"n\">symbols</span><span class=\"p\">),</span> <span class=\"n\">extend</span><span class=\"p\">(</span><span class=\"n\">model</span><span class=\"p\">,</span> <span class=\"n\">P</span><span class=\"p\">,</span> <span class=\"ow\">not</span> <span class=\"n\">value</span><span class=\"p\">),</span> <span class=\"n\">branching_heuristic</span><span class=\"p\">))</span>\n",
              "</pre></div>\n",
              "</body>\n",
              "</html>\n"
            ]
          },
          "metadata": {}
        }
      ],
      "source": [
        "psource(dpll)"
      ]
    },
    {
      "cell_type": "markdown",
      "metadata": {
        "id": "CPhgE0YuWOXu"
      },
      "source": [
        "Algoritma ini menggungakan ide-ide yang sudah dijelaskan sebelumnya, untuk mengecek *satisfiability* dan sebuah kalimat dalam logika proposisional.\n",
        "\n",
        "algoritma bekerja secara rekursif, memanggil dirinya sendiri dan menyederhanakan masalah pada setiap langkah. dengan memanfaatkan fungsi pembantu `find_pure_symbol` dan `find_unit_clause` untuk melaksanakan langkah ke-2 dan ke-3 sebagaimana telah dijelaskan sebelumnya."
      ]
    },
    {
      "cell_type": "markdown",
      "source": [
        "Agar lebih praktis, biasanya kita pakai helper function dpll_satisfiable yang akan otomatis mengubah input menjadi bentuk *Conjunctive Normal Form* (CNF) lalu memanggil dpll."
      ],
      "metadata": {
        "id": "0xxQ_h-4N7f4"
      }
    },
    {
      "cell_type": "code",
      "execution_count": 56,
      "metadata": {
        "id": "4LpO1BnrWOXu",
        "outputId": "b67b175d-9d22-461f-a651-de17ce62c754",
        "colab": {
          "base_uri": "https://localhost:8080/",
          "height": 209
        }
      },
      "outputs": [
        {
          "output_type": "display_data",
          "data": {
            "text/plain": [
              "<IPython.core.display.HTML object>"
            ],
            "text/html": [
              "<!DOCTYPE html PUBLIC \"-//W3C//DTD HTML 4.01//EN\"\n",
              "   \"http://www.w3.org/TR/html4/strict.dtd\">\n",
              "<!--\n",
              "generated by Pygments <https://pygments.org/>\n",
              "Copyright 2006-2025 by the Pygments team.\n",
              "Licensed under the BSD license, see LICENSE for details.\n",
              "-->\n",
              "<html>\n",
              "<head>\n",
              "  <title></title>\n",
              "  <meta http-equiv=\"content-type\" content=\"text/html; charset=None\">\n",
              "  <style type=\"text/css\">\n",
              "/*\n",
              "generated by Pygments <https://pygments.org/>\n",
              "Copyright 2006-2025 by the Pygments team.\n",
              "Licensed under the BSD license, see LICENSE for details.\n",
              "*/\n",
              "pre { line-height: 125%; }\n",
              "td.linenos .normal { color: inherit; background-color: transparent; padding-left: 5px; padding-right: 5px; }\n",
              "span.linenos { color: inherit; background-color: transparent; padding-left: 5px; padding-right: 5px; }\n",
              "td.linenos .special { color: #000000; background-color: #ffffc0; padding-left: 5px; padding-right: 5px; }\n",
              "span.linenos.special { color: #000000; background-color: #ffffc0; padding-left: 5px; padding-right: 5px; }\n",
              "body .hll { background-color: #ffffcc }\n",
              "body { background: #f8f8f8; }\n",
              "body .c { color: #3D7B7B; font-style: italic } /* Comment */\n",
              "body .err { border: 1px solid #F00 } /* Error */\n",
              "body .k { color: #008000; font-weight: bold } /* Keyword */\n",
              "body .o { color: #666 } /* Operator */\n",
              "body .ch { color: #3D7B7B; font-style: italic } /* Comment.Hashbang */\n",
              "body .cm { color: #3D7B7B; font-style: italic } /* Comment.Multiline */\n",
              "body .cp { color: #9C6500 } /* Comment.Preproc */\n",
              "body .cpf { color: #3D7B7B; font-style: italic } /* Comment.PreprocFile */\n",
              "body .c1 { color: #3D7B7B; font-style: italic } /* Comment.Single */\n",
              "body .cs { color: #3D7B7B; font-style: italic } /* Comment.Special */\n",
              "body .gd { color: #A00000 } /* Generic.Deleted */\n",
              "body .ge { font-style: italic } /* Generic.Emph */\n",
              "body .ges { font-weight: bold; font-style: italic } /* Generic.EmphStrong */\n",
              "body .gr { color: #E40000 } /* Generic.Error */\n",
              "body .gh { color: #000080; font-weight: bold } /* Generic.Heading */\n",
              "body .gi { color: #008400 } /* Generic.Inserted */\n",
              "body .go { color: #717171 } /* Generic.Output */\n",
              "body .gp { color: #000080; font-weight: bold } /* Generic.Prompt */\n",
              "body .gs { font-weight: bold } /* Generic.Strong */\n",
              "body .gu { color: #800080; font-weight: bold } /* Generic.Subheading */\n",
              "body .gt { color: #04D } /* Generic.Traceback */\n",
              "body .kc { color: #008000; font-weight: bold } /* Keyword.Constant */\n",
              "body .kd { color: #008000; font-weight: bold } /* Keyword.Declaration */\n",
              "body .kn { color: #008000; font-weight: bold } /* Keyword.Namespace */\n",
              "body .kp { color: #008000 } /* Keyword.Pseudo */\n",
              "body .kr { color: #008000; font-weight: bold } /* Keyword.Reserved */\n",
              "body .kt { color: #B00040 } /* Keyword.Type */\n",
              "body .m { color: #666 } /* Literal.Number */\n",
              "body .s { color: #BA2121 } /* Literal.String */\n",
              "body .na { color: #687822 } /* Name.Attribute */\n",
              "body .nb { color: #008000 } /* Name.Builtin */\n",
              "body .nc { color: #00F; font-weight: bold } /* Name.Class */\n",
              "body .no { color: #800 } /* Name.Constant */\n",
              "body .nd { color: #A2F } /* Name.Decorator */\n",
              "body .ni { color: #717171; font-weight: bold } /* Name.Entity */\n",
              "body .ne { color: #CB3F38; font-weight: bold } /* Name.Exception */\n",
              "body .nf { color: #00F } /* Name.Function */\n",
              "body .nl { color: #767600 } /* Name.Label */\n",
              "body .nn { color: #00F; font-weight: bold } /* Name.Namespace */\n",
              "body .nt { color: #008000; font-weight: bold } /* Name.Tag */\n",
              "body .nv { color: #19177C } /* Name.Variable */\n",
              "body .ow { color: #A2F; font-weight: bold } /* Operator.Word */\n",
              "body .w { color: #BBB } /* Text.Whitespace */\n",
              "body .mb { color: #666 } /* Literal.Number.Bin */\n",
              "body .mf { color: #666 } /* Literal.Number.Float */\n",
              "body .mh { color: #666 } /* Literal.Number.Hex */\n",
              "body .mi { color: #666 } /* Literal.Number.Integer */\n",
              "body .mo { color: #666 } /* Literal.Number.Oct */\n",
              "body .sa { color: #BA2121 } /* Literal.String.Affix */\n",
              "body .sb { color: #BA2121 } /* Literal.String.Backtick */\n",
              "body .sc { color: #BA2121 } /* Literal.String.Char */\n",
              "body .dl { color: #BA2121 } /* Literal.String.Delimiter */\n",
              "body .sd { color: #BA2121; font-style: italic } /* Literal.String.Doc */\n",
              "body .s2 { color: #BA2121 } /* Literal.String.Double */\n",
              "body .se { color: #AA5D1F; font-weight: bold } /* Literal.String.Escape */\n",
              "body .sh { color: #BA2121 } /* Literal.String.Heredoc */\n",
              "body .si { color: #A45A77; font-weight: bold } /* Literal.String.Interpol */\n",
              "body .sx { color: #008000 } /* Literal.String.Other */\n",
              "body .sr { color: #A45A77 } /* Literal.String.Regex */\n",
              "body .s1 { color: #BA2121 } /* Literal.String.Single */\n",
              "body .ss { color: #19177C } /* Literal.String.Symbol */\n",
              "body .bp { color: #008000 } /* Name.Builtin.Pseudo */\n",
              "body .fm { color: #00F } /* Name.Function.Magic */\n",
              "body .vc { color: #19177C } /* Name.Variable.Class */\n",
              "body .vg { color: #19177C } /* Name.Variable.Global */\n",
              "body .vi { color: #19177C } /* Name.Variable.Instance */\n",
              "body .vm { color: #19177C } /* Name.Variable.Magic */\n",
              "body .il { color: #666 } /* Literal.Number.Integer.Long */\n",
              "\n",
              "  </style>\n",
              "</head>\n",
              "<body>\n",
              "<h2></h2>\n",
              "\n",
              "<div class=\"highlight\"><pre><span></span><span class=\"k\">def</span><span class=\"w\"> </span><span class=\"nf\">dpll_satisfiable</span><span class=\"p\">(</span><span class=\"n\">s</span><span class=\"p\">,</span> <span class=\"n\">branching_heuristic</span><span class=\"o\">=</span><span class=\"n\">no_branching_heuristic</span><span class=\"p\">):</span>\n",
              "<span class=\"w\">    </span><span class=\"sd\">&quot;&quot;&quot;Check satisfiability of a propositional sentence.</span>\n",
              "<span class=\"sd\">    This differs from the book code in two ways: (1) it returns a model</span>\n",
              "<span class=\"sd\">    rather than True when it succeeds; this is more useful. (2) The</span>\n",
              "<span class=\"sd\">    function find_pure_symbol is passed a list of unknown clauses, rather</span>\n",
              "<span class=\"sd\">    than a list of all clauses and the model; this is more efficient.</span>\n",
              "<span class=\"sd\">    &gt;&gt;&gt; dpll_satisfiable(A |&#39;&lt;=&gt;&#39;| B) == {A: True, B: True}</span>\n",
              "<span class=\"sd\">    True</span>\n",
              "<span class=\"sd\">    &quot;&quot;&quot;</span>\n",
              "    <span class=\"k\">return</span> <span class=\"n\">dpll</span><span class=\"p\">(</span><span class=\"n\">conjuncts</span><span class=\"p\">(</span><span class=\"n\">to_cnf</span><span class=\"p\">(</span><span class=\"n\">s</span><span class=\"p\">)),</span> <span class=\"n\">prop_symbols</span><span class=\"p\">(</span><span class=\"n\">s</span><span class=\"p\">),</span> <span class=\"p\">{},</span> <span class=\"n\">branching_heuristic</span><span class=\"p\">)</span>\n",
              "</pre></div>\n",
              "</body>\n",
              "</html>\n"
            ]
          },
          "metadata": {}
        }
      ],
      "source": [
        "psource(dpll_satisfiable)"
      ]
    },
    {
      "cell_type": "markdown",
      "metadata": {
        "id": "DjzeWfJAWOXu"
      },
      "source": [
        "> Let's see a few examples of usage.\n",
        "\n",
        "\n",
        "\n",
        "\n"
      ]
    },
    {
      "cell_type": "code",
      "execution_count": 63,
      "metadata": {
        "collapsed": true,
        "id": "EexXYhskWOXu"
      },
      "outputs": [],
      "source": [
        "A, B, C, D = expr('A, B, C, D')"
      ]
    },
    {
      "cell_type": "code",
      "execution_count": 64,
      "metadata": {
        "id": "BijTkwOMWOXu",
        "outputId": "1158eafd-f1ed-4bf6-99c7-e65e78d740c0",
        "colab": {
          "base_uri": "https://localhost:8080/"
        }
      },
      "outputs": [
        {
          "output_type": "execute_result",
          "data": {
            "text/plain": [
              "{A: True, D: True, B: True, C: False}"
            ]
          },
          "metadata": {},
          "execution_count": 64
        }
      ],
      "source": [
        "dpll_satisfiable(A & B & ~C & D)"
      ]
    },
    {
      "cell_type": "markdown",
      "metadata": {
        "id": "9O40mCzkWOXv"
      },
      "source": [
        "This is a simple case to highlight that the algorithm actually works."
      ]
    },
    {
      "cell_type": "code",
      "execution_count": 65,
      "metadata": {
        "id": "KSIWmmvxWOXv",
        "outputId": "2d813019-38cf-4b4c-e791-a08f2ea24818",
        "colab": {
          "base_uri": "https://localhost:8080/"
        }
      },
      "outputs": [
        {
          "output_type": "execute_result",
          "data": {
            "text/plain": [
              "{D: False, B: True}"
            ]
          },
          "metadata": {},
          "execution_count": 65
        }
      ],
      "source": [
        "dpll_satisfiable((A & B) | (C & ~A) | (B & ~D))"
      ]
    },
    {
      "cell_type": "markdown",
      "metadata": {
        "id": "nM36GMLHWOXv"
      },
      "source": [
        "Jika sebuah simbol tidak muncul di hasil solusi, itu berarti nilai simbol tersebut tidak memengaruhi kebenaran model."
      ]
    },
    {
      "cell_type": "code",
      "execution_count": 66,
      "metadata": {
        "id": "VFN_z11uWOXv",
        "outputId": "c7d65b45-7d7a-4d40-89ce-b28f3a8cbc6e",
        "colab": {
          "base_uri": "https://localhost:8080/"
        }
      },
      "outputs": [
        {
          "output_type": "execute_result",
          "data": {
            "text/plain": [
              "{A: True, B: True}"
            ]
          },
          "metadata": {},
          "execution_count": 66
        }
      ],
      "source": [
        "dpll_satisfiable(A |'<=>'| B)"
      ]
    },
    {
      "cell_type": "code",
      "execution_count": 70,
      "metadata": {
        "id": "jKDNbNAEWOXv",
        "outputId": "6b930a23-864a-404e-bce5-09e5b0e6618a",
        "colab": {
          "base_uri": "https://localhost:8080/"
        }
      },
      "outputs": [
        {
          "output_type": "execute_result",
          "data": {
            "text/plain": [
              "{C: True, A: True, B: False}"
            ]
          },
          "metadata": {},
          "execution_count": 70
        }
      ],
      "source": [
        "dpll_satisfiable((A |'<=>'| B) |'==>'| (C & ~A))"
      ]
    },
    {
      "cell_type": "code",
      "execution_count": 62,
      "metadata": {
        "id": "fs3OJljBWOXv",
        "outputId": "c3be0ce8-554a-4940-bb24-aabc0c52b12b",
        "colab": {
          "base_uri": "https://localhost:8080/"
        }
      },
      "outputs": [
        {
          "output_type": "execute_result",
          "data": {
            "text/plain": [
              "{A: True}"
            ]
          },
          "metadata": {},
          "execution_count": 62
        }
      ],
      "source": [
        "dpll_satisfiable((A | (B & C)) |'<=>'| ((A | B) & (A | C)))"
      ]
    },
    {
      "cell_type": "markdown",
      "source": [
        "#### 2. Algoritma WalkSAT"
      ],
      "metadata": {
        "id": "XmcB8Odv1O7f"
      }
    },
    {
      "cell_type": "markdown",
      "metadata": {
        "id": "CqBEV227WOXv"
      },
      "source": [
        "Algoritma ini sangat mirip dengan *Hill Climbing*.\n",
        "Pada setiap iterasi, algoritma memilih sebuah klausa yang tidak terpuaskan (*unsatisfied clause*) dan membalikkan (*flip*) sebuah simbol dalam klausa tersebut.\n",
        "Ini mirip dengan menemukan *neighboring state* dalam algoritma `hill_climbing`.\n",
        "\n",
        "Simbol yang akan dibalik ditentukan oleh sebuah fungsi evaluasi yang menghitung jumlah klausa yang unsatisfied.\n",
        "Kadang, simbol juga dibalik secara acak untuk menghindari `local optima`. Sebuah keseimbangan halus antara keserakahan (*greediness*) dan keacakan (*randomness*) diperlukan. Alternatifnya, beberapa versi algoritma memulai ulang (*restart*) dengan penugasan acak baru sepenuhnya jika tidak ditemukan solusi dalam waktu lama, sebagai cara untuk keluar dari `local minima` dari jumlah klausa yang tidak terpuaskan.\n",
        "\n",
        "> Let's have a look at the algorithm."
      ]
    },
    {
      "cell_type": "code",
      "execution_count": 71,
      "metadata": {
        "id": "05LN6oZnWOXv",
        "outputId": "08ea8c16-a7f0-49dc-c3ad-a6201e899fd8",
        "colab": {
          "base_uri": "https://localhost:8080/",
          "height": 577
        }
      },
      "outputs": [
        {
          "output_type": "display_data",
          "data": {
            "text/plain": [
              "<IPython.core.display.HTML object>"
            ],
            "text/html": [
              "<!DOCTYPE html PUBLIC \"-//W3C//DTD HTML 4.01//EN\"\n",
              "   \"http://www.w3.org/TR/html4/strict.dtd\">\n",
              "<!--\n",
              "generated by Pygments <https://pygments.org/>\n",
              "Copyright 2006-2025 by the Pygments team.\n",
              "Licensed under the BSD license, see LICENSE for details.\n",
              "-->\n",
              "<html>\n",
              "<head>\n",
              "  <title></title>\n",
              "  <meta http-equiv=\"content-type\" content=\"text/html; charset=None\">\n",
              "  <style type=\"text/css\">\n",
              "/*\n",
              "generated by Pygments <https://pygments.org/>\n",
              "Copyright 2006-2025 by the Pygments team.\n",
              "Licensed under the BSD license, see LICENSE for details.\n",
              "*/\n",
              "pre { line-height: 125%; }\n",
              "td.linenos .normal { color: inherit; background-color: transparent; padding-left: 5px; padding-right: 5px; }\n",
              "span.linenos { color: inherit; background-color: transparent; padding-left: 5px; padding-right: 5px; }\n",
              "td.linenos .special { color: #000000; background-color: #ffffc0; padding-left: 5px; padding-right: 5px; }\n",
              "span.linenos.special { color: #000000; background-color: #ffffc0; padding-left: 5px; padding-right: 5px; }\n",
              "body .hll { background-color: #ffffcc }\n",
              "body { background: #f8f8f8; }\n",
              "body .c { color: #3D7B7B; font-style: italic } /* Comment */\n",
              "body .err { border: 1px solid #F00 } /* Error */\n",
              "body .k { color: #008000; font-weight: bold } /* Keyword */\n",
              "body .o { color: #666 } /* Operator */\n",
              "body .ch { color: #3D7B7B; font-style: italic } /* Comment.Hashbang */\n",
              "body .cm { color: #3D7B7B; font-style: italic } /* Comment.Multiline */\n",
              "body .cp { color: #9C6500 } /* Comment.Preproc */\n",
              "body .cpf { color: #3D7B7B; font-style: italic } /* Comment.PreprocFile */\n",
              "body .c1 { color: #3D7B7B; font-style: italic } /* Comment.Single */\n",
              "body .cs { color: #3D7B7B; font-style: italic } /* Comment.Special */\n",
              "body .gd { color: #A00000 } /* Generic.Deleted */\n",
              "body .ge { font-style: italic } /* Generic.Emph */\n",
              "body .ges { font-weight: bold; font-style: italic } /* Generic.EmphStrong */\n",
              "body .gr { color: #E40000 } /* Generic.Error */\n",
              "body .gh { color: #000080; font-weight: bold } /* Generic.Heading */\n",
              "body .gi { color: #008400 } /* Generic.Inserted */\n",
              "body .go { color: #717171 } /* Generic.Output */\n",
              "body .gp { color: #000080; font-weight: bold } /* Generic.Prompt */\n",
              "body .gs { font-weight: bold } /* Generic.Strong */\n",
              "body .gu { color: #800080; font-weight: bold } /* Generic.Subheading */\n",
              "body .gt { color: #04D } /* Generic.Traceback */\n",
              "body .kc { color: #008000; font-weight: bold } /* Keyword.Constant */\n",
              "body .kd { color: #008000; font-weight: bold } /* Keyword.Declaration */\n",
              "body .kn { color: #008000; font-weight: bold } /* Keyword.Namespace */\n",
              "body .kp { color: #008000 } /* Keyword.Pseudo */\n",
              "body .kr { color: #008000; font-weight: bold } /* Keyword.Reserved */\n",
              "body .kt { color: #B00040 } /* Keyword.Type */\n",
              "body .m { color: #666 } /* Literal.Number */\n",
              "body .s { color: #BA2121 } /* Literal.String */\n",
              "body .na { color: #687822 } /* Name.Attribute */\n",
              "body .nb { color: #008000 } /* Name.Builtin */\n",
              "body .nc { color: #00F; font-weight: bold } /* Name.Class */\n",
              "body .no { color: #800 } /* Name.Constant */\n",
              "body .nd { color: #A2F } /* Name.Decorator */\n",
              "body .ni { color: #717171; font-weight: bold } /* Name.Entity */\n",
              "body .ne { color: #CB3F38; font-weight: bold } /* Name.Exception */\n",
              "body .nf { color: #00F } /* Name.Function */\n",
              "body .nl { color: #767600 } /* Name.Label */\n",
              "body .nn { color: #00F; font-weight: bold } /* Name.Namespace */\n",
              "body .nt { color: #008000; font-weight: bold } /* Name.Tag */\n",
              "body .nv { color: #19177C } /* Name.Variable */\n",
              "body .ow { color: #A2F; font-weight: bold } /* Operator.Word */\n",
              "body .w { color: #BBB } /* Text.Whitespace */\n",
              "body .mb { color: #666 } /* Literal.Number.Bin */\n",
              "body .mf { color: #666 } /* Literal.Number.Float */\n",
              "body .mh { color: #666 } /* Literal.Number.Hex */\n",
              "body .mi { color: #666 } /* Literal.Number.Integer */\n",
              "body .mo { color: #666 } /* Literal.Number.Oct */\n",
              "body .sa { color: #BA2121 } /* Literal.String.Affix */\n",
              "body .sb { color: #BA2121 } /* Literal.String.Backtick */\n",
              "body .sc { color: #BA2121 } /* Literal.String.Char */\n",
              "body .dl { color: #BA2121 } /* Literal.String.Delimiter */\n",
              "body .sd { color: #BA2121; font-style: italic } /* Literal.String.Doc */\n",
              "body .s2 { color: #BA2121 } /* Literal.String.Double */\n",
              "body .se { color: #AA5D1F; font-weight: bold } /* Literal.String.Escape */\n",
              "body .sh { color: #BA2121 } /* Literal.String.Heredoc */\n",
              "body .si { color: #A45A77; font-weight: bold } /* Literal.String.Interpol */\n",
              "body .sx { color: #008000 } /* Literal.String.Other */\n",
              "body .sr { color: #A45A77 } /* Literal.String.Regex */\n",
              "body .s1 { color: #BA2121 } /* Literal.String.Single */\n",
              "body .ss { color: #19177C } /* Literal.String.Symbol */\n",
              "body .bp { color: #008000 } /* Name.Builtin.Pseudo */\n",
              "body .fm { color: #00F } /* Name.Function.Magic */\n",
              "body .vc { color: #19177C } /* Name.Variable.Class */\n",
              "body .vg { color: #19177C } /* Name.Variable.Global */\n",
              "body .vi { color: #19177C } /* Name.Variable.Instance */\n",
              "body .vm { color: #19177C } /* Name.Variable.Magic */\n",
              "body .il { color: #666 } /* Literal.Number.Integer.Long */\n",
              "\n",
              "  </style>\n",
              "</head>\n",
              "<body>\n",
              "<h2></h2>\n",
              "\n",
              "<div class=\"highlight\"><pre><span></span><span class=\"k\">def</span><span class=\"w\"> </span><span class=\"nf\">WalkSAT</span><span class=\"p\">(</span><span class=\"n\">clauses</span><span class=\"p\">,</span> <span class=\"n\">p</span><span class=\"o\">=</span><span class=\"mf\">0.5</span><span class=\"p\">,</span> <span class=\"n\">max_flips</span><span class=\"o\">=</span><span class=\"mi\">10000</span><span class=\"p\">):</span>\n",
              "<span class=\"w\">    </span><span class=\"sd\">&quot;&quot;&quot;Checks for satisfiability of all clauses by randomly flipping values of variables</span>\n",
              "<span class=\"sd\">    &gt;&gt;&gt; WalkSAT([A &amp; ~A], 0.5, 100) is None</span>\n",
              "<span class=\"sd\">    True</span>\n",
              "<span class=\"sd\">    &quot;&quot;&quot;</span>\n",
              "    <span class=\"c1\"># Set of all symbols in all clauses</span>\n",
              "    <span class=\"n\">symbols</span> <span class=\"o\">=</span> <span class=\"p\">{</span><span class=\"n\">sym</span> <span class=\"k\">for</span> <span class=\"n\">clause</span> <span class=\"ow\">in</span> <span class=\"n\">clauses</span> <span class=\"k\">for</span> <span class=\"n\">sym</span> <span class=\"ow\">in</span> <span class=\"n\">prop_symbols</span><span class=\"p\">(</span><span class=\"n\">clause</span><span class=\"p\">)}</span>\n",
              "    <span class=\"c1\"># model is a random assignment of true/false to the symbols in clauses</span>\n",
              "    <span class=\"n\">model</span> <span class=\"o\">=</span> <span class=\"p\">{</span><span class=\"n\">s</span><span class=\"p\">:</span> <span class=\"n\">random</span><span class=\"o\">.</span><span class=\"n\">choice</span><span class=\"p\">([</span><span class=\"kc\">True</span><span class=\"p\">,</span> <span class=\"kc\">False</span><span class=\"p\">])</span> <span class=\"k\">for</span> <span class=\"n\">s</span> <span class=\"ow\">in</span> <span class=\"n\">symbols</span><span class=\"p\">}</span>\n",
              "    <span class=\"k\">for</span> <span class=\"n\">i</span> <span class=\"ow\">in</span> <span class=\"nb\">range</span><span class=\"p\">(</span><span class=\"n\">max_flips</span><span class=\"p\">):</span>\n",
              "        <span class=\"n\">satisfied</span><span class=\"p\">,</span> <span class=\"n\">unsatisfied</span> <span class=\"o\">=</span> <span class=\"p\">[],</span> <span class=\"p\">[]</span>\n",
              "        <span class=\"k\">for</span> <span class=\"n\">clause</span> <span class=\"ow\">in</span> <span class=\"n\">clauses</span><span class=\"p\">:</span>\n",
              "            <span class=\"p\">(</span><span class=\"n\">satisfied</span> <span class=\"k\">if</span> <span class=\"n\">pl_true</span><span class=\"p\">(</span><span class=\"n\">clause</span><span class=\"p\">,</span> <span class=\"n\">model</span><span class=\"p\">)</span> <span class=\"k\">else</span> <span class=\"n\">unsatisfied</span><span class=\"p\">)</span><span class=\"o\">.</span><span class=\"n\">append</span><span class=\"p\">(</span><span class=\"n\">clause</span><span class=\"p\">)</span>\n",
              "        <span class=\"k\">if</span> <span class=\"ow\">not</span> <span class=\"n\">unsatisfied</span><span class=\"p\">:</span>  <span class=\"c1\"># if model satisfies all the clauses</span>\n",
              "            <span class=\"k\">return</span> <span class=\"n\">model</span>\n",
              "        <span class=\"n\">clause</span> <span class=\"o\">=</span> <span class=\"n\">random</span><span class=\"o\">.</span><span class=\"n\">choice</span><span class=\"p\">(</span><span class=\"n\">unsatisfied</span><span class=\"p\">)</span>\n",
              "        <span class=\"k\">if</span> <span class=\"n\">probability</span><span class=\"p\">(</span><span class=\"n\">p</span><span class=\"p\">):</span>\n",
              "            <span class=\"n\">sym</span> <span class=\"o\">=</span> <span class=\"n\">random</span><span class=\"o\">.</span><span class=\"n\">choice</span><span class=\"p\">(</span><span class=\"nb\">list</span><span class=\"p\">(</span><span class=\"n\">prop_symbols</span><span class=\"p\">(</span><span class=\"n\">clause</span><span class=\"p\">)))</span>\n",
              "        <span class=\"k\">else</span><span class=\"p\">:</span>\n",
              "            <span class=\"c1\"># Flip the symbol in clause that maximizes number of sat. clauses</span>\n",
              "            <span class=\"k\">def</span><span class=\"w\"> </span><span class=\"nf\">sat_count</span><span class=\"p\">(</span><span class=\"n\">sym</span><span class=\"p\">):</span>\n",
              "                <span class=\"c1\"># Return the the number of clauses satisfied after flipping the symbol.</span>\n",
              "                <span class=\"n\">model</span><span class=\"p\">[</span><span class=\"n\">sym</span><span class=\"p\">]</span> <span class=\"o\">=</span> <span class=\"ow\">not</span> <span class=\"n\">model</span><span class=\"p\">[</span><span class=\"n\">sym</span><span class=\"p\">]</span>\n",
              "                <span class=\"n\">count</span> <span class=\"o\">=</span> <span class=\"nb\">len</span><span class=\"p\">([</span><span class=\"n\">clause</span> <span class=\"k\">for</span> <span class=\"n\">clause</span> <span class=\"ow\">in</span> <span class=\"n\">clauses</span> <span class=\"k\">if</span> <span class=\"n\">pl_true</span><span class=\"p\">(</span><span class=\"n\">clause</span><span class=\"p\">,</span> <span class=\"n\">model</span><span class=\"p\">)])</span>\n",
              "                <span class=\"n\">model</span><span class=\"p\">[</span><span class=\"n\">sym</span><span class=\"p\">]</span> <span class=\"o\">=</span> <span class=\"ow\">not</span> <span class=\"n\">model</span><span class=\"p\">[</span><span class=\"n\">sym</span><span class=\"p\">]</span>\n",
              "                <span class=\"k\">return</span> <span class=\"n\">count</span>\n",
              "\n",
              "            <span class=\"n\">sym</span> <span class=\"o\">=</span> <span class=\"nb\">max</span><span class=\"p\">(</span><span class=\"n\">prop_symbols</span><span class=\"p\">(</span><span class=\"n\">clause</span><span class=\"p\">),</span> <span class=\"n\">key</span><span class=\"o\">=</span><span class=\"n\">sat_count</span><span class=\"p\">)</span>\n",
              "        <span class=\"n\">model</span><span class=\"p\">[</span><span class=\"n\">sym</span><span class=\"p\">]</span> <span class=\"o\">=</span> <span class=\"ow\">not</span> <span class=\"n\">model</span><span class=\"p\">[</span><span class=\"n\">sym</span><span class=\"p\">]</span>\n",
              "    <span class=\"c1\"># If no solution is found within the flip limit, we return failure</span>\n",
              "    <span class=\"k\">return</span> <span class=\"kc\">None</span>\n",
              "</pre></div>\n",
              "</body>\n",
              "</html>\n"
            ]
          },
          "metadata": {}
        }
      ],
      "source": [
        "psource(WalkSAT)"
      ]
    },
    {
      "cell_type": "markdown",
      "metadata": {
        "id": "G1tqo6gdWOXv"
      },
      "source": [
        "Fungsi ini menerima tiga argumentThe function takes three arguments:\n",
        "\n",
        "1. `clauses` yaitu klausa-klausa yang ingin kita penuhi\n",
        "\n",
        "2. `p` untuk probabilitas untuk mengubah sebuah simbol secara acak.\n",
        "\n",
        "3. `max_flips` yang merupakan jumlah maksimum pembalikan (`flips`) yang akan dijalankan algoritma. Jika setelah itu klausa-klausa masih belum puas, algoritma mengembalikan `None` untuk menandakan kegagalan.\n",
        "\n",
        "Let's see a few examples of usage."
      ]
    },
    {
      "cell_type": "code",
      "execution_count": 72,
      "metadata": {
        "collapsed": true,
        "id": "DWMrqgHvWOXv"
      },
      "outputs": [],
      "source": [
        "A, B, C, D = expr('A, B, C, D')"
      ]
    },
    {
      "cell_type": "code",
      "execution_count": 73,
      "metadata": {
        "id": "9QaQ4yizWOXv",
        "outputId": "d0da6b69-a770-41f9-c2e6-e16ef6f148c6",
        "colab": {
          "base_uri": "https://localhost:8080/"
        }
      },
      "outputs": [
        {
          "output_type": "execute_result",
          "data": {
            "text/plain": [
              "{A: True, D: True, B: True, C: False}"
            ]
          },
          "metadata": {},
          "execution_count": 73
        }
      ],
      "source": [
        "WalkSAT([A, B, ~C, D], 0.5, 100)"
      ]
    },
    {
      "cell_type": "markdown",
      "metadata": {
        "id": "Xzxil0CgWOXv"
      },
      "source": [
        "Ini adalah kasus sederhana untuk menunjukkan bahwa algoritma dapat converge"
      ]
    },
    {
      "cell_type": "code",
      "execution_count": 74,
      "metadata": {
        "id": "XzMIRhPAWOXv",
        "outputId": "4e4e8333-b956-47b3-8d26-f32a09bd2b3b",
        "colab": {
          "base_uri": "https://localhost:8080/"
        }
      },
      "outputs": [
        {
          "output_type": "execute_result",
          "data": {
            "text/plain": [
              "{A: True, B: True, C: True}"
            ]
          },
          "metadata": {},
          "execution_count": 74
        }
      ],
      "source": [
        "WalkSAT([A & B, A & C], 0.5, 100)"
      ]
    },
    {
      "cell_type": "code",
      "execution_count": 75,
      "metadata": {
        "id": "TLhBvylKWOXv",
        "outputId": "f8a38a78-6ee0-4226-b4b6-e9489282e6e1",
        "colab": {
          "base_uri": "https://localhost:8080/"
        }
      },
      "outputs": [
        {
          "output_type": "execute_result",
          "data": {
            "text/plain": [
              "{A: True, D: True, B: True, C: True}"
            ]
          },
          "metadata": {},
          "execution_count": 75
        }
      ],
      "source": [
        "WalkSAT([A & B, C & D, C & B], 0.5, 100)"
      ]
    },
    {
      "cell_type": "code",
      "execution_count": 76,
      "metadata": {
        "collapsed": true,
        "id": "LbLLn17hWOXv"
      },
      "outputs": [],
      "source": [
        "WalkSAT([A & B, C | D, ~(D | B)], 0.5, 1000)"
      ]
    },
    {
      "cell_type": "markdown",
      "metadata": {
        "id": "laGZrIFvWOXw"
      },
      "source": [
        "Kasus ini tidak ada output karena `WalkSAT` tidak menemukan model di mana klausa-klausa tersebut benar.\n",
        "Kita bisa menyelesaikan klausa-klausa ini untuk melihat bahwa mereka bersama-sama membentuk kontradiksi, dan oleh karena itu memang tidak seharusnya memiliki solusi."
      ]
    },
    {
      "cell_type": "markdown",
      "metadata": {
        "id": "tnWsn2joWOXw"
      },
      "source": [
        "Satu perbedaan penting antara algoritma ini dengan `dpll_satisfiable` adalah bahwa kedua algoritma menerima input dengan cara yang berbeda.\n",
        "\n",
        "Agar `WalkSAT` bisa menerima kalimat lengkap sebagai input, kita bisa menulis sebuah fungsi pembantu yang mengonversi kalimat input ke dalam bentuk CNF, lalu memanggil `WalkSAT` dengan daftar konjungsi dari bentuk CNF tersebut."
      ]
    },
    {
      "cell_type": "code",
      "execution_count": null,
      "metadata": {
        "collapsed": true,
        "id": "grhYGKsAWOXw"
      },
      "outputs": [],
      "source": [
        "def WalkSAT_CNF(sentence, p=0.5, max_flips=10000):\n",
        "    return WalkSAT(conjuncts(to_cnf(sentence)), 0, max_flips)"
      ]
    },
    {
      "cell_type": "markdown",
      "metadata": {
        "id": "0zeCgtb6WOXw"
      },
      "source": [
        "Sekarang kita bisa memanggil `WalkSAT_CNF` dan `DPLL_satisfiable` dengan argumen yang sama."
      ]
    },
    {
      "cell_type": "code",
      "execution_count": null,
      "metadata": {
        "id": "au89EHNoWOXw",
        "outputId": "7b3361b4-f2a0-45bf-b0c8-4662fd2b2d50"
      },
      "outputs": [
        {
          "data": {
            "text/plain": [
              "{A: True, B: True, C: False, D: True}"
            ]
          },
          "execution_count": 62,
          "metadata": {},
          "output_type": "execute_result"
        }
      ],
      "source": [
        "WalkSAT_CNF((A & B) | (C & ~A) | (B & ~D), 0.5, 1000)"
      ]
    },
    {
      "cell_type": "markdown",
      "metadata": {
        "id": "b3MixLCJWOXw"
      },
      "source": [
        "**Yeay Berhasil !!**\n",
        "\n",
        "Perhatikan bahwa solusi yang dihasilkan oleh `WalkSAT` tidak menghilangkan variabel yang tidak berhubungan dengan kalimat.\n",
        "Jika kalimat independen terhadap variabel tertentu, solusinya akan berisi nilai acak untuk variabel tersebut karena sifat stokastik dari algoritma.\n",
        "\n",
        "\n",
        "Kita bisa bandingkan runtime `WalkSAT` dan `DPLL` untuk beberapa kasus. Kita akan menggunakan `%%timeit` untuk melakukan ini.\n",
        "\n"
      ]
    },
    {
      "cell_type": "code",
      "execution_count": null,
      "metadata": {
        "collapsed": true,
        "id": "eyd1c-RMWOXw"
      },
      "outputs": [],
      "source": [
        "sentence_1 = A |'<=>'| B\n",
        "sentence_2 = (A & B) | (C & ~A) | (B & ~D)\n",
        "sentence_3 = (A | (B & C)) |'<=>'| ((A | B) & (A | C))"
      ]
    },
    {
      "cell_type": "code",
      "execution_count": null,
      "metadata": {
        "id": "m82V3JXKWOXw",
        "outputId": "325f77eb-2b30-412f-db01-b888f61b59c9"
      },
      "outputs": [
        {
          "name": "stdout",
          "output_type": "stream",
          "text": [
            "1.55 ms ± 64.6 µs per loop (mean ± std. dev. of 7 runs, 1000 loops each)\n"
          ]
        }
      ],
      "source": [
        "%%timeit\n",
        "dpll_satisfiable(sentence_1)\n",
        "dpll_satisfiable(sentence_2)\n",
        "dpll_satisfiable(sentence_3)"
      ]
    },
    {
      "cell_type": "code",
      "execution_count": null,
      "metadata": {
        "id": "f_1UJYbBWOXw",
        "outputId": "b8116492-c6a3-4eee-854d-3211bd448d61"
      },
      "outputs": [
        {
          "name": "stdout",
          "output_type": "stream",
          "text": [
            "1.02 ms ± 6.92 µs per loop (mean ± std. dev. of 7 runs, 1000 loops each)\n"
          ]
        }
      ],
      "source": [
        "%%timeit\n",
        "WalkSAT_CNF(sentence_1)\n",
        "WalkSAT_CNF(sentence_2)\n",
        "WalkSAT_CNF(sentence_3)"
      ]
    },
    {
      "cell_type": "markdown",
      "metadata": {
        "id": "O0VPZ0kpWOXw"
      },
      "source": [
        "Rata-rata, untuk kasus yang dapat diselesaikan, `WalkSAT` lebih cepat daripada `DPLL` karena untuk jumlah variabel yang kecil,\n",
        "`WalkSAT` dapat mengurangi ruang pencarian secara signifikan.\n",
        "\n",
        "Hasilnya bisa berbeda untuk kalimat dengan lebih banyak simbol.\n",
        "Kalian boleh banget untuk bereksperimen dengan ini, untuk dapat memahami *trade-off* dari algoritma-algoritma ini dengan lebih baik."
      ]
    },
    {
      "cell_type": "markdown",
      "source": [
        "# Baru sampe sini"
      ],
      "metadata": {
        "id": "HsosOnqDTcMI"
      }
    },
    {
      "cell_type": "markdown",
      "metadata": {
        "id": "KlBmdrMwWOXw"
      },
      "source": [
        "### SATPlan"
      ]
    },
    {
      "cell_type": "markdown",
      "metadata": {
        "id": "_SpjqQPfWOXw"
      },
      "source": [
        "In this section we show how to make plans by logical inference. The basic idea is very simple. It includes the following three steps:\n",
        "1. Constuct a sentence that includes:\n",
        "    1. A colection of assertions about the initial state.\n",
        "    2. The successor-state axioms for all the possible actions at each time up to some maximum time t.\n",
        "    3. The assertion that the goal is achieved at time t.\n",
        "2. Present the whole sentence to a SAT solver.\n",
        "3. Assuming a model is found, extract from the model those variables that represent actions and are assigned true. Together they represent a plan to achieve the goals.\n",
        "\n",
        "\n",
        "Lets have a look at the algorithm"
      ]
    },
    {
      "cell_type": "code",
      "execution_count": null,
      "metadata": {
        "id": "q_qbFpZEWOXw",
        "outputId": "e4deca94-6171-4ef1-cd14-1e83f91b85b5"
      },
      "outputs": [
        {
          "data": {
            "text/html": [
              "<!DOCTYPE html PUBLIC \"-//W3C//DTD HTML 4.01//EN\"\n",
              "   \"http://www.w3.org/TR/html4/strict.dtd\">\n",
              "\n",
              "<html>\n",
              "<head>\n",
              "  <title></title>\n",
              "  <meta http-equiv=\"content-type\" content=\"text/html; charset=None\">\n",
              "  <style type=\"text/css\">\n",
              "td.linenos { background-color: #f0f0f0; padding-right: 10px; }\n",
              "span.lineno { background-color: #f0f0f0; padding: 0 5px 0 5px; }\n",
              "pre { line-height: 125%; }\n",
              "body .hll { background-color: #ffffcc }\n",
              "body  { background: #f8f8f8; }\n",
              "body .c { color: #408080; font-style: italic } /* Comment */\n",
              "body .err { border: 1px solid #FF0000 } /* Error */\n",
              "body .k { color: #008000; font-weight: bold } /* Keyword */\n",
              "body .o { color: #666666 } /* Operator */\n",
              "body .ch { color: #408080; font-style: italic } /* Comment.Hashbang */\n",
              "body .cm { color: #408080; font-style: italic } /* Comment.Multiline */\n",
              "body .cp { color: #BC7A00 } /* Comment.Preproc */\n",
              "body .cpf { color: #408080; font-style: italic } /* Comment.PreprocFile */\n",
              "body .c1 { color: #408080; font-style: italic } /* Comment.Single */\n",
              "body .cs { color: #408080; font-style: italic } /* Comment.Special */\n",
              "body .gd { color: #A00000 } /* Generic.Deleted */\n",
              "body .ge { font-style: italic } /* Generic.Emph */\n",
              "body .gr { color: #FF0000 } /* Generic.Error */\n",
              "body .gh { color: #000080; font-weight: bold } /* Generic.Heading */\n",
              "body .gi { color: #00A000 } /* Generic.Inserted */\n",
              "body .go { color: #888888 } /* Generic.Output */\n",
              "body .gp { color: #000080; font-weight: bold } /* Generic.Prompt */\n",
              "body .gs { font-weight: bold } /* Generic.Strong */\n",
              "body .gu { color: #800080; font-weight: bold } /* Generic.Subheading */\n",
              "body .gt { color: #0044DD } /* Generic.Traceback */\n",
              "body .kc { color: #008000; font-weight: bold } /* Keyword.Constant */\n",
              "body .kd { color: #008000; font-weight: bold } /* Keyword.Declaration */\n",
              "body .kn { color: #008000; font-weight: bold } /* Keyword.Namespace */\n",
              "body .kp { color: #008000 } /* Keyword.Pseudo */\n",
              "body .kr { color: #008000; font-weight: bold } /* Keyword.Reserved */\n",
              "body .kt { color: #B00040 } /* Keyword.Type */\n",
              "body .m { color: #666666 } /* Literal.Number */\n",
              "body .s { color: #BA2121 } /* Literal.String */\n",
              "body .na { color: #7D9029 } /* Name.Attribute */\n",
              "body .nb { color: #008000 } /* Name.Builtin */\n",
              "body .nc { color: #0000FF; font-weight: bold } /* Name.Class */\n",
              "body .no { color: #880000 } /* Name.Constant */\n",
              "body .nd { color: #AA22FF } /* Name.Decorator */\n",
              "body .ni { color: #999999; font-weight: bold } /* Name.Entity */\n",
              "body .ne { color: #D2413A; font-weight: bold } /* Name.Exception */\n",
              "body .nf { color: #0000FF } /* Name.Function */\n",
              "body .nl { color: #A0A000 } /* Name.Label */\n",
              "body .nn { color: #0000FF; font-weight: bold } /* Name.Namespace */\n",
              "body .nt { color: #008000; font-weight: bold } /* Name.Tag */\n",
              "body .nv { color: #19177C } /* Name.Variable */\n",
              "body .ow { color: #AA22FF; font-weight: bold } /* Operator.Word */\n",
              "body .w { color: #bbbbbb } /* Text.Whitespace */\n",
              "body .mb { color: #666666 } /* Literal.Number.Bin */\n",
              "body .mf { color: #666666 } /* Literal.Number.Float */\n",
              "body .mh { color: #666666 } /* Literal.Number.Hex */\n",
              "body .mi { color: #666666 } /* Literal.Number.Integer */\n",
              "body .mo { color: #666666 } /* Literal.Number.Oct */\n",
              "body .sa { color: #BA2121 } /* Literal.String.Affix */\n",
              "body .sb { color: #BA2121 } /* Literal.String.Backtick */\n",
              "body .sc { color: #BA2121 } /* Literal.String.Char */\n",
              "body .dl { color: #BA2121 } /* Literal.String.Delimiter */\n",
              "body .sd { color: #BA2121; font-style: italic } /* Literal.String.Doc */\n",
              "body .s2 { color: #BA2121 } /* Literal.String.Double */\n",
              "body .se { color: #BB6622; font-weight: bold } /* Literal.String.Escape */\n",
              "body .sh { color: #BA2121 } /* Literal.String.Heredoc */\n",
              "body .si { color: #BB6688; font-weight: bold } /* Literal.String.Interpol */\n",
              "body .sx { color: #008000 } /* Literal.String.Other */\n",
              "body .sr { color: #BB6688 } /* Literal.String.Regex */\n",
              "body .s1 { color: #BA2121 } /* Literal.String.Single */\n",
              "body .ss { color: #19177C } /* Literal.String.Symbol */\n",
              "body .bp { color: #008000 } /* Name.Builtin.Pseudo */\n",
              "body .fm { color: #0000FF } /* Name.Function.Magic */\n",
              "body .vc { color: #19177C } /* Name.Variable.Class */\n",
              "body .vg { color: #19177C } /* Name.Variable.Global */\n",
              "body .vi { color: #19177C } /* Name.Variable.Instance */\n",
              "body .vm { color: #19177C } /* Name.Variable.Magic */\n",
              "body .il { color: #666666 } /* Literal.Number.Integer.Long */\n",
              "\n",
              "  </style>\n",
              "</head>\n",
              "<body>\n",
              "<h2></h2>\n",
              "\n",
              "<div class=\"highlight\"><pre><span></span><span class=\"k\">def</span> <span class=\"nf\">SAT_plan</span><span class=\"p\">(</span><span class=\"n\">init</span><span class=\"p\">,</span> <span class=\"n\">transition</span><span class=\"p\">,</span> <span class=\"n\">goal</span><span class=\"p\">,</span> <span class=\"n\">t_max</span><span class=\"p\">,</span> <span class=\"n\">SAT_solver</span><span class=\"o\">=</span><span class=\"n\">dpll_satisfiable</span><span class=\"p\">):</span>\n",
              "    <span class=\"sd\">&quot;&quot;&quot;Converts a planning problem to Satisfaction problem by translating it to a cnf sentence.</span>\n",
              "<span class=\"sd\">    [Figure 7.22]&quot;&quot;&quot;</span>\n",
              "\n",
              "    <span class=\"c1\"># Functions used by SAT_plan</span>\n",
              "    <span class=\"k\">def</span> <span class=\"nf\">translate_to_SAT</span><span class=\"p\">(</span><span class=\"n\">init</span><span class=\"p\">,</span> <span class=\"n\">transition</span><span class=\"p\">,</span> <span class=\"n\">goal</span><span class=\"p\">,</span> <span class=\"n\">time</span><span class=\"p\">):</span>\n",
              "        <span class=\"n\">clauses</span> <span class=\"o\">=</span> <span class=\"p\">[]</span>\n",
              "        <span class=\"n\">states</span> <span class=\"o\">=</span> <span class=\"p\">[</span><span class=\"n\">state</span> <span class=\"k\">for</span> <span class=\"n\">state</span> <span class=\"ow\">in</span> <span class=\"n\">transition</span><span class=\"p\">]</span>\n",
              "\n",
              "        <span class=\"c1\"># Symbol claiming state s at time t</span>\n",
              "        <span class=\"n\">state_counter</span> <span class=\"o\">=</span> <span class=\"n\">itertools</span><span class=\"o\">.</span><span class=\"n\">count</span><span class=\"p\">()</span>\n",
              "        <span class=\"k\">for</span> <span class=\"n\">s</span> <span class=\"ow\">in</span> <span class=\"n\">states</span><span class=\"p\">:</span>\n",
              "            <span class=\"k\">for</span> <span class=\"n\">t</span> <span class=\"ow\">in</span> <span class=\"nb\">range</span><span class=\"p\">(</span><span class=\"n\">time</span><span class=\"o\">+</span><span class=\"mi\">1</span><span class=\"p\">):</span>\n",
              "                <span class=\"n\">state_sym</span><span class=\"p\">[</span><span class=\"n\">s</span><span class=\"p\">,</span> <span class=\"n\">t</span><span class=\"p\">]</span> <span class=\"o\">=</span> <span class=\"n\">Expr</span><span class=\"p\">(</span><span class=\"s2\">&quot;State_{}&quot;</span><span class=\"o\">.</span><span class=\"n\">format</span><span class=\"p\">(</span><span class=\"nb\">next</span><span class=\"p\">(</span><span class=\"n\">state_counter</span><span class=\"p\">)))</span>\n",
              "\n",
              "        <span class=\"c1\"># Add initial state axiom</span>\n",
              "        <span class=\"n\">clauses</span><span class=\"o\">.</span><span class=\"n\">append</span><span class=\"p\">(</span><span class=\"n\">state_sym</span><span class=\"p\">[</span><span class=\"n\">init</span><span class=\"p\">,</span> <span class=\"mi\">0</span><span class=\"p\">])</span>\n",
              "\n",
              "        <span class=\"c1\"># Add goal state axiom</span>\n",
              "        <span class=\"n\">clauses</span><span class=\"o\">.</span><span class=\"n\">append</span><span class=\"p\">(</span><span class=\"n\">state_sym</span><span class=\"p\">[</span><span class=\"n\">goal</span><span class=\"p\">,</span> <span class=\"n\">time</span><span class=\"p\">])</span>\n",
              "\n",
              "        <span class=\"c1\"># All possible transitions</span>\n",
              "        <span class=\"n\">transition_counter</span> <span class=\"o\">=</span> <span class=\"n\">itertools</span><span class=\"o\">.</span><span class=\"n\">count</span><span class=\"p\">()</span>\n",
              "        <span class=\"k\">for</span> <span class=\"n\">s</span> <span class=\"ow\">in</span> <span class=\"n\">states</span><span class=\"p\">:</span>\n",
              "            <span class=\"k\">for</span> <span class=\"n\">action</span> <span class=\"ow\">in</span> <span class=\"n\">transition</span><span class=\"p\">[</span><span class=\"n\">s</span><span class=\"p\">]:</span>\n",
              "                <span class=\"n\">s_</span> <span class=\"o\">=</span> <span class=\"n\">transition</span><span class=\"p\">[</span><span class=\"n\">s</span><span class=\"p\">][</span><span class=\"n\">action</span><span class=\"p\">]</span>\n",
              "                <span class=\"k\">for</span> <span class=\"n\">t</span> <span class=\"ow\">in</span> <span class=\"nb\">range</span><span class=\"p\">(</span><span class=\"n\">time</span><span class=\"p\">):</span>\n",
              "                    <span class=\"c1\"># Action &#39;action&#39; taken from state &#39;s&#39; at time &#39;t&#39; to reach &#39;s_&#39;</span>\n",
              "                    <span class=\"n\">action_sym</span><span class=\"p\">[</span><span class=\"n\">s</span><span class=\"p\">,</span> <span class=\"n\">action</span><span class=\"p\">,</span> <span class=\"n\">t</span><span class=\"p\">]</span> <span class=\"o\">=</span> <span class=\"n\">Expr</span><span class=\"p\">(</span>\n",
              "                        <span class=\"s2\">&quot;Transition_{}&quot;</span><span class=\"o\">.</span><span class=\"n\">format</span><span class=\"p\">(</span><span class=\"nb\">next</span><span class=\"p\">(</span><span class=\"n\">transition_counter</span><span class=\"p\">)))</span>\n",
              "\n",
              "                    <span class=\"c1\"># Change the state from s to s_</span>\n",
              "                    <span class=\"n\">clauses</span><span class=\"o\">.</span><span class=\"n\">append</span><span class=\"p\">(</span><span class=\"n\">action_sym</span><span class=\"p\">[</span><span class=\"n\">s</span><span class=\"p\">,</span> <span class=\"n\">action</span><span class=\"p\">,</span> <span class=\"n\">t</span><span class=\"p\">]</span> <span class=\"o\">|</span><span class=\"s1\">&#39;==&gt;&#39;</span><span class=\"o\">|</span> <span class=\"n\">state_sym</span><span class=\"p\">[</span><span class=\"n\">s</span><span class=\"p\">,</span> <span class=\"n\">t</span><span class=\"p\">])</span>\n",
              "                    <span class=\"n\">clauses</span><span class=\"o\">.</span><span class=\"n\">append</span><span class=\"p\">(</span><span class=\"n\">action_sym</span><span class=\"p\">[</span><span class=\"n\">s</span><span class=\"p\">,</span> <span class=\"n\">action</span><span class=\"p\">,</span> <span class=\"n\">t</span><span class=\"p\">]</span> <span class=\"o\">|</span><span class=\"s1\">&#39;==&gt;&#39;</span><span class=\"o\">|</span> <span class=\"n\">state_sym</span><span class=\"p\">[</span><span class=\"n\">s_</span><span class=\"p\">,</span> <span class=\"n\">t</span> <span class=\"o\">+</span> <span class=\"mi\">1</span><span class=\"p\">])</span>\n",
              "\n",
              "        <span class=\"c1\"># Allow only one state at any time</span>\n",
              "        <span class=\"k\">for</span> <span class=\"n\">t</span> <span class=\"ow\">in</span> <span class=\"nb\">range</span><span class=\"p\">(</span><span class=\"n\">time</span><span class=\"o\">+</span><span class=\"mi\">1</span><span class=\"p\">):</span>\n",
              "            <span class=\"c1\"># must be a state at any time</span>\n",
              "            <span class=\"n\">clauses</span><span class=\"o\">.</span><span class=\"n\">append</span><span class=\"p\">(</span><span class=\"n\">associate</span><span class=\"p\">(</span><span class=\"s1\">&#39;|&#39;</span><span class=\"p\">,</span> <span class=\"p\">[</span><span class=\"n\">state_sym</span><span class=\"p\">[</span><span class=\"n\">s</span><span class=\"p\">,</span> <span class=\"n\">t</span><span class=\"p\">]</span> <span class=\"k\">for</span> <span class=\"n\">s</span> <span class=\"ow\">in</span> <span class=\"n\">states</span><span class=\"p\">]))</span>\n",
              "\n",
              "            <span class=\"k\">for</span> <span class=\"n\">s</span> <span class=\"ow\">in</span> <span class=\"n\">states</span><span class=\"p\">:</span>\n",
              "                <span class=\"k\">for</span> <span class=\"n\">s_</span> <span class=\"ow\">in</span> <span class=\"n\">states</span><span class=\"p\">[</span><span class=\"n\">states</span><span class=\"o\">.</span><span class=\"n\">index</span><span class=\"p\">(</span><span class=\"n\">s</span><span class=\"p\">)</span> <span class=\"o\">+</span> <span class=\"mi\">1</span><span class=\"p\">:]:</span>\n",
              "                    <span class=\"c1\"># for each pair of states s, s_ only one is possible at time t</span>\n",
              "                    <span class=\"n\">clauses</span><span class=\"o\">.</span><span class=\"n\">append</span><span class=\"p\">((</span><span class=\"o\">~</span><span class=\"n\">state_sym</span><span class=\"p\">[</span><span class=\"n\">s</span><span class=\"p\">,</span> <span class=\"n\">t</span><span class=\"p\">])</span> <span class=\"o\">|</span> <span class=\"p\">(</span><span class=\"o\">~</span><span class=\"n\">state_sym</span><span class=\"p\">[</span><span class=\"n\">s_</span><span class=\"p\">,</span> <span class=\"n\">t</span><span class=\"p\">]))</span>\n",
              "\n",
              "        <span class=\"c1\"># Restrict to one transition per timestep</span>\n",
              "        <span class=\"k\">for</span> <span class=\"n\">t</span> <span class=\"ow\">in</span> <span class=\"nb\">range</span><span class=\"p\">(</span><span class=\"n\">time</span><span class=\"p\">):</span>\n",
              "            <span class=\"c1\"># list of possible transitions at time t</span>\n",
              "            <span class=\"n\">transitions_t</span> <span class=\"o\">=</span> <span class=\"p\">[</span><span class=\"n\">tr</span> <span class=\"k\">for</span> <span class=\"n\">tr</span> <span class=\"ow\">in</span> <span class=\"n\">action_sym</span> <span class=\"k\">if</span> <span class=\"n\">tr</span><span class=\"p\">[</span><span class=\"mi\">2</span><span class=\"p\">]</span> <span class=\"o\">==</span> <span class=\"n\">t</span><span class=\"p\">]</span>\n",
              "\n",
              "            <span class=\"c1\"># make sure at least one of the transitions happens</span>\n",
              "            <span class=\"n\">clauses</span><span class=\"o\">.</span><span class=\"n\">append</span><span class=\"p\">(</span><span class=\"n\">associate</span><span class=\"p\">(</span><span class=\"s1\">&#39;|&#39;</span><span class=\"p\">,</span> <span class=\"p\">[</span><span class=\"n\">action_sym</span><span class=\"p\">[</span><span class=\"n\">tr</span><span class=\"p\">]</span> <span class=\"k\">for</span> <span class=\"n\">tr</span> <span class=\"ow\">in</span> <span class=\"n\">transitions_t</span><span class=\"p\">]))</span>\n",
              "\n",
              "            <span class=\"k\">for</span> <span class=\"n\">tr</span> <span class=\"ow\">in</span> <span class=\"n\">transitions_t</span><span class=\"p\">:</span>\n",
              "                <span class=\"k\">for</span> <span class=\"n\">tr_</span> <span class=\"ow\">in</span> <span class=\"n\">transitions_t</span><span class=\"p\">[</span><span class=\"n\">transitions_t</span><span class=\"o\">.</span><span class=\"n\">index</span><span class=\"p\">(</span><span class=\"n\">tr</span><span class=\"p\">)</span> <span class=\"o\">+</span> <span class=\"mi\">1</span><span class=\"p\">:]:</span>\n",
              "                    <span class=\"c1\"># there cannot be two transitions tr and tr_ at time t</span>\n",
              "                    <span class=\"n\">clauses</span><span class=\"o\">.</span><span class=\"n\">append</span><span class=\"p\">(</span><span class=\"o\">~</span><span class=\"n\">action_sym</span><span class=\"p\">[</span><span class=\"n\">tr</span><span class=\"p\">]</span> <span class=\"o\">|</span> <span class=\"o\">~</span><span class=\"n\">action_sym</span><span class=\"p\">[</span><span class=\"n\">tr_</span><span class=\"p\">])</span>\n",
              "\n",
              "        <span class=\"c1\"># Combine the clauses to form the cnf</span>\n",
              "        <span class=\"k\">return</span> <span class=\"n\">associate</span><span class=\"p\">(</span><span class=\"s1\">&#39;&amp;&#39;</span><span class=\"p\">,</span> <span class=\"n\">clauses</span><span class=\"p\">)</span>\n",
              "\n",
              "    <span class=\"k\">def</span> <span class=\"nf\">extract_solution</span><span class=\"p\">(</span><span class=\"n\">model</span><span class=\"p\">):</span>\n",
              "        <span class=\"n\">true_transitions</span> <span class=\"o\">=</span> <span class=\"p\">[</span><span class=\"n\">t</span> <span class=\"k\">for</span> <span class=\"n\">t</span> <span class=\"ow\">in</span> <span class=\"n\">action_sym</span> <span class=\"k\">if</span> <span class=\"n\">model</span><span class=\"p\">[</span><span class=\"n\">action_sym</span><span class=\"p\">[</span><span class=\"n\">t</span><span class=\"p\">]]]</span>\n",
              "        <span class=\"c1\"># Sort transitions based on time, which is the 3rd element of the tuple</span>\n",
              "        <span class=\"n\">true_transitions</span><span class=\"o\">.</span><span class=\"n\">sort</span><span class=\"p\">(</span><span class=\"n\">key</span><span class=\"o\">=</span><span class=\"k\">lambda</span> <span class=\"n\">x</span><span class=\"p\">:</span> <span class=\"n\">x</span><span class=\"p\">[</span><span class=\"mi\">2</span><span class=\"p\">])</span>\n",
              "        <span class=\"k\">return</span> <span class=\"p\">[</span><span class=\"n\">action</span> <span class=\"k\">for</span> <span class=\"n\">s</span><span class=\"p\">,</span> <span class=\"n\">action</span><span class=\"p\">,</span> <span class=\"n\">time</span> <span class=\"ow\">in</span> <span class=\"n\">true_transitions</span><span class=\"p\">]</span>\n",
              "\n",
              "    <span class=\"c1\"># Body of SAT_plan algorithm</span>\n",
              "    <span class=\"k\">for</span> <span class=\"n\">t</span> <span class=\"ow\">in</span> <span class=\"nb\">range</span><span class=\"p\">(</span><span class=\"n\">t_max</span><span class=\"p\">):</span>\n",
              "        <span class=\"c1\"># dictionaries to help extract the solution from model</span>\n",
              "        <span class=\"n\">state_sym</span> <span class=\"o\">=</span> <span class=\"p\">{}</span>\n",
              "        <span class=\"n\">action_sym</span> <span class=\"o\">=</span> <span class=\"p\">{}</span>\n",
              "\n",
              "        <span class=\"n\">cnf</span> <span class=\"o\">=</span> <span class=\"n\">translate_to_SAT</span><span class=\"p\">(</span><span class=\"n\">init</span><span class=\"p\">,</span> <span class=\"n\">transition</span><span class=\"p\">,</span> <span class=\"n\">goal</span><span class=\"p\">,</span> <span class=\"n\">t</span><span class=\"p\">)</span>\n",
              "        <span class=\"n\">model</span> <span class=\"o\">=</span> <span class=\"n\">SAT_solver</span><span class=\"p\">(</span><span class=\"n\">cnf</span><span class=\"p\">)</span>\n",
              "        <span class=\"k\">if</span> <span class=\"n\">model</span> <span class=\"ow\">is</span> <span class=\"ow\">not</span> <span class=\"bp\">False</span><span class=\"p\">:</span>\n",
              "            <span class=\"k\">return</span> <span class=\"n\">extract_solution</span><span class=\"p\">(</span><span class=\"n\">model</span><span class=\"p\">)</span>\n",
              "    <span class=\"k\">return</span> <span class=\"bp\">None</span>\n",
              "</pre></div>\n",
              "</body>\n",
              "</html>\n"
            ],
            "text/plain": [
              "<IPython.core.display.HTML object>"
            ]
          },
          "metadata": {},
          "output_type": "display_data"
        }
      ],
      "source": [
        "psource(SAT_plan)"
      ]
    },
    {
      "cell_type": "markdown",
      "metadata": {
        "id": "So7vEvxGWOXw"
      },
      "source": [
        "Let's see few examples of its usage. First we define a transition and then call `SAT_plan`."
      ]
    },
    {
      "cell_type": "code",
      "execution_count": null,
      "metadata": {
        "id": "gqIJy3qvWOXw",
        "outputId": "46fb6895-92c4-4d13-f675-ef00717c287b"
      },
      "outputs": [
        {
          "name": "stdout",
          "output_type": "stream",
          "text": [
            "None\n",
            "['Right']\n",
            "['Left', 'Left']\n"
          ]
        }
      ],
      "source": [
        "transition = {'A': {'Left': 'A', 'Right': 'B'},\n",
        "            'B': {'Left': 'A', 'Right': 'C'},\n",
        "            'C': {'Left': 'B', 'Right': 'C'}}\n",
        "\n",
        "\n",
        "print(SAT_plan('A', transition, 'C', 2))\n",
        "print(SAT_plan('A', transition, 'B', 3))\n",
        "print(SAT_plan('C', transition, 'A', 3))"
      ]
    },
    {
      "cell_type": "markdown",
      "metadata": {
        "id": "Jxn5Gw35WOXw"
      },
      "source": [
        "Let us do the same for another transition."
      ]
    },
    {
      "cell_type": "code",
      "execution_count": null,
      "metadata": {
        "id": "f5uVyqzlWOXw",
        "outputId": "9dff6f82-36e3-46aa-98b1-35a3cee9764d"
      },
      "outputs": [
        {
          "name": "stdout",
          "output_type": "stream",
          "text": [
            "['Right', 'Down']\n"
          ]
        }
      ],
      "source": [
        "transition = {(0, 0): {'Right': (0, 1), 'Down': (1, 0)},\n",
        "            (0, 1): {'Left': (1, 0), 'Down': (1, 1)},\n",
        "            (1, 0): {'Right': (1, 0), 'Up': (1, 0), 'Left': (1, 0), 'Down': (1, 0)},\n",
        "            (1, 1): {'Left': (1, 0), 'Up': (0, 1)}}\n",
        "\n",
        "\n",
        "print(SAT_plan((0, 0), transition, (1, 1), 4))"
      ]
    },
    {
      "cell_type": "markdown",
      "metadata": {
        "id": "wjOtKpoGWOXx"
      },
      "source": [
        "## First-Order Logic Knowledge Bases: `FolKB`\n",
        "\n",
        "The class `FolKB` can be used to represent a knowledge base of First-order logic sentences. You would initialize and use it the same way as you would for `PropKB` except that the clauses are first-order definite clauses. We will see how to write such clauses to create a database and query them in the following sections."
      ]
    },
    {
      "cell_type": "markdown",
      "metadata": {
        "id": "5fb-zL_7WOXx"
      },
      "source": [
        "## Criminal KB\n",
        "In this section we create a `FolKB` based on the following paragraph.<br/>\n",
        "<em>The law says that it is a crime for an American to sell weapons to hostile nations. The country Nono, an enemy of America, has some missiles, and all of its missiles were sold to it by Colonel West, who is American.</em><br/>\n",
        "The first step is to extract the facts and convert them into first-order definite clauses. Extracting the facts from data alone is a challenging task. Fortunately, we have a small paragraph and can do extraction and conversion manually. We'll store the clauses in list aptly named `clauses`."
      ]
    },
    {
      "cell_type": "code",
      "execution_count": null,
      "metadata": {
        "collapsed": true,
        "id": "eHUdxI0eWOXx"
      },
      "outputs": [],
      "source": [
        "clauses = []"
      ]
    },
    {
      "cell_type": "markdown",
      "metadata": {
        "id": "eMQaWmqIWOXx"
      },
      "source": [
        "<em>“... it is a crime for an American to sell weapons to hostile nations”</em><br/>\n",
        "The keywords to look for here are 'crime', 'American', 'sell', 'weapon' and 'hostile'. We use predicate symbols to make meaning of them.\n",
        "\n",
        "* `Criminal(x)`: `x` is a criminal\n",
        "* `American(x)`: `x` is an American\n",
        "* `Sells(x ,y, z)`: `x` sells `y` to `z`\n",
        "* `Weapon(x)`: `x` is a weapon\n",
        "* `Hostile(x)`: `x` is a hostile nation\n",
        "\n",
        "Let us now combine them with appropriate variable naming to depict the meaning of the sentence. The criminal `x` is also the American `x` who sells weapon `y` to `z`, which is a hostile nation.\n",
        "\n",
        "$\\text{American}(x) \\land \\text{Weapon}(y) \\land \\text{Sells}(x, y, z) \\land \\text{Hostile}(z) \\implies \\text{Criminal} (x)$"
      ]
    },
    {
      "cell_type": "code",
      "execution_count": null,
      "metadata": {
        "collapsed": true,
        "id": "6T6k1domWOXx"
      },
      "outputs": [],
      "source": [
        "clauses.append(expr(\"(American(x) & Weapon(y) & Sells(x, y, z) & Hostile(z)) ==> Criminal(x)\"))"
      ]
    },
    {
      "cell_type": "markdown",
      "metadata": {
        "id": "KfRyfcKqWOXx"
      },
      "source": [
        "<em>\"The country Nono, an enemy of America\"</em><br/>\n",
        "We now know that Nono is an enemy of America. We represent these nations using the constant symbols `Nono` and `America`. the enemy relation is show using the predicate symbol `Enemy`.\n",
        "\n",
        "$\\text{Enemy}(\\text{Nono}, \\text{America})$"
      ]
    },
    {
      "cell_type": "code",
      "execution_count": null,
      "metadata": {
        "collapsed": true,
        "id": "hEdB613cWOXx"
      },
      "outputs": [],
      "source": [
        "clauses.append(expr(\"Enemy(Nono, America)\"))"
      ]
    },
    {
      "cell_type": "markdown",
      "metadata": {
        "id": "hPLkn7ZkWOXx"
      },
      "source": [
        "<em>\"Nono ... has some missiles\"</em><br/>\n",
        "This states the existence of some missile which is owned by Nono. $\\exists x \\text{Owns}(\\text{Nono}, x) \\land \\text{Missile}(x)$. We invoke existential instantiation to introduce a new constant `M1` which is the missile owned by Nono.\n",
        "\n",
        "$\\text{Owns}(\\text{Nono}, \\text{M1}), \\text{Missile}(\\text{M1})$"
      ]
    },
    {
      "cell_type": "code",
      "execution_count": null,
      "metadata": {
        "collapsed": true,
        "id": "G4Gndq5HWOXx"
      },
      "outputs": [],
      "source": [
        "clauses.append(expr(\"Owns(Nono, M1)\"))\n",
        "clauses.append(expr(\"Missile(M1)\"))"
      ]
    },
    {
      "cell_type": "markdown",
      "metadata": {
        "collapsed": true,
        "id": "7-YnM96wWOXx"
      },
      "source": [
        "<em>\"All of its missiles were sold to it by Colonel West\"</em><br/>\n",
        "If Nono owns something and it classifies as a missile, then it was sold to Nono by West.\n",
        "\n",
        "$\\text{Missile}(x) \\land \\text{Owns}(\\text{Nono}, x) \\implies \\text{Sells}(\\text{West}, x, \\text{Nono})$"
      ]
    },
    {
      "cell_type": "code",
      "execution_count": null,
      "metadata": {
        "collapsed": true,
        "id": "u6FVQbS0WOXx"
      },
      "outputs": [],
      "source": [
        "clauses.append(expr(\"(Missile(x) & Owns(Nono, x)) ==> Sells(West, x, Nono)\"))"
      ]
    },
    {
      "cell_type": "markdown",
      "metadata": {
        "id": "haj9Yi4GWOXx"
      },
      "source": [
        "<em>\"West, who is American\"</em><br/>\n",
        "West is an American.\n",
        "\n",
        "$\\text{American}(\\text{West})$"
      ]
    },
    {
      "cell_type": "code",
      "execution_count": null,
      "metadata": {
        "collapsed": true,
        "id": "eBC4IqMHWOXx"
      },
      "outputs": [],
      "source": [
        "clauses.append(expr(\"American(West)\"))"
      ]
    },
    {
      "cell_type": "markdown",
      "metadata": {
        "id": "ty6wkFtkWOXx"
      },
      "source": [
        "We also know, from our understanding of language, that missiles are weapons and that an enemy of America counts as “hostile”.\n",
        "\n",
        "$\\text{Missile}(x) \\implies \\text{Weapon}(x), \\text{Enemy}(x, \\text{America}) \\implies \\text{Hostile}(x)$"
      ]
    },
    {
      "cell_type": "code",
      "execution_count": null,
      "metadata": {
        "collapsed": true,
        "id": "Vsd1YybsWOXy"
      },
      "outputs": [],
      "source": [
        "clauses.append(expr(\"Missile(x) ==> Weapon(x)\"))\n",
        "clauses.append(expr(\"Enemy(x, America) ==> Hostile(x)\"))"
      ]
    },
    {
      "cell_type": "markdown",
      "metadata": {
        "id": "o7U2rlIwWOXy"
      },
      "source": [
        "Now that we have converted the information into first-order definite clauses we can create our first-order logic knowledge base."
      ]
    },
    {
      "cell_type": "code",
      "execution_count": null,
      "metadata": {
        "collapsed": true,
        "id": "Z_3S3CQUWOXy"
      },
      "outputs": [],
      "source": [
        "crime_kb = FolKB(clauses)"
      ]
    },
    {
      "cell_type": "markdown",
      "metadata": {
        "id": "yxO367IhWOXy"
      },
      "source": [
        "The `subst` helper function substitutes variables with given values in first-order logic statements.\n",
        "This will be useful in later algorithms.\n",
        "It's implementation is quite simple and self-explanatory."
      ]
    },
    {
      "cell_type": "code",
      "execution_count": null,
      "metadata": {
        "id": "IpQP-fz2WOXy",
        "outputId": "5d9d2944-2136-426f-a41e-6a9ca1d8faea"
      },
      "outputs": [
        {
          "data": {
            "text/html": [
              "<!DOCTYPE html PUBLIC \"-//W3C//DTD HTML 4.01//EN\"\n",
              "   \"http://www.w3.org/TR/html4/strict.dtd\">\n",
              "\n",
              "<html>\n",
              "<head>\n",
              "  <title></title>\n",
              "  <meta http-equiv=\"content-type\" content=\"text/html; charset=None\">\n",
              "  <style type=\"text/css\">\n",
              "td.linenos { background-color: #f0f0f0; padding-right: 10px; }\n",
              "span.lineno { background-color: #f0f0f0; padding: 0 5px 0 5px; }\n",
              "pre { line-height: 125%; }\n",
              "body .hll { background-color: #ffffcc }\n",
              "body  { background: #f8f8f8; }\n",
              "body .c { color: #408080; font-style: italic } /* Comment */\n",
              "body .err { border: 1px solid #FF0000 } /* Error */\n",
              "body .k { color: #008000; font-weight: bold } /* Keyword */\n",
              "body .o { color: #666666 } /* Operator */\n",
              "body .ch { color: #408080; font-style: italic } /* Comment.Hashbang */\n",
              "body .cm { color: #408080; font-style: italic } /* Comment.Multiline */\n",
              "body .cp { color: #BC7A00 } /* Comment.Preproc */\n",
              "body .cpf { color: #408080; font-style: italic } /* Comment.PreprocFile */\n",
              "body .c1 { color: #408080; font-style: italic } /* Comment.Single */\n",
              "body .cs { color: #408080; font-style: italic } /* Comment.Special */\n",
              "body .gd { color: #A00000 } /* Generic.Deleted */\n",
              "body .ge { font-style: italic } /* Generic.Emph */\n",
              "body .gr { color: #FF0000 } /* Generic.Error */\n",
              "body .gh { color: #000080; font-weight: bold } /* Generic.Heading */\n",
              "body .gi { color: #00A000 } /* Generic.Inserted */\n",
              "body .go { color: #888888 } /* Generic.Output */\n",
              "body .gp { color: #000080; font-weight: bold } /* Generic.Prompt */\n",
              "body .gs { font-weight: bold } /* Generic.Strong */\n",
              "body .gu { color: #800080; font-weight: bold } /* Generic.Subheading */\n",
              "body .gt { color: #0044DD } /* Generic.Traceback */\n",
              "body .kc { color: #008000; font-weight: bold } /* Keyword.Constant */\n",
              "body .kd { color: #008000; font-weight: bold } /* Keyword.Declaration */\n",
              "body .kn { color: #008000; font-weight: bold } /* Keyword.Namespace */\n",
              "body .kp { color: #008000 } /* Keyword.Pseudo */\n",
              "body .kr { color: #008000; font-weight: bold } /* Keyword.Reserved */\n",
              "body .kt { color: #B00040 } /* Keyword.Type */\n",
              "body .m { color: #666666 } /* Literal.Number */\n",
              "body .s { color: #BA2121 } /* Literal.String */\n",
              "body .na { color: #7D9029 } /* Name.Attribute */\n",
              "body .nb { color: #008000 } /* Name.Builtin */\n",
              "body .nc { color: #0000FF; font-weight: bold } /* Name.Class */\n",
              "body .no { color: #880000 } /* Name.Constant */\n",
              "body .nd { color: #AA22FF } /* Name.Decorator */\n",
              "body .ni { color: #999999; font-weight: bold } /* Name.Entity */\n",
              "body .ne { color: #D2413A; font-weight: bold } /* Name.Exception */\n",
              "body .nf { color: #0000FF } /* Name.Function */\n",
              "body .nl { color: #A0A000 } /* Name.Label */\n",
              "body .nn { color: #0000FF; font-weight: bold } /* Name.Namespace */\n",
              "body .nt { color: #008000; font-weight: bold } /* Name.Tag */\n",
              "body .nv { color: #19177C } /* Name.Variable */\n",
              "body .ow { color: #AA22FF; font-weight: bold } /* Operator.Word */\n",
              "body .w { color: #bbbbbb } /* Text.Whitespace */\n",
              "body .mb { color: #666666 } /* Literal.Number.Bin */\n",
              "body .mf { color: #666666 } /* Literal.Number.Float */\n",
              "body .mh { color: #666666 } /* Literal.Number.Hex */\n",
              "body .mi { color: #666666 } /* Literal.Number.Integer */\n",
              "body .mo { color: #666666 } /* Literal.Number.Oct */\n",
              "body .sa { color: #BA2121 } /* Literal.String.Affix */\n",
              "body .sb { color: #BA2121 } /* Literal.String.Backtick */\n",
              "body .sc { color: #BA2121 } /* Literal.String.Char */\n",
              "body .dl { color: #BA2121 } /* Literal.String.Delimiter */\n",
              "body .sd { color: #BA2121; font-style: italic } /* Literal.String.Doc */\n",
              "body .s2 { color: #BA2121 } /* Literal.String.Double */\n",
              "body .se { color: #BB6622; font-weight: bold } /* Literal.String.Escape */\n",
              "body .sh { color: #BA2121 } /* Literal.String.Heredoc */\n",
              "body .si { color: #BB6688; font-weight: bold } /* Literal.String.Interpol */\n",
              "body .sx { color: #008000 } /* Literal.String.Other */\n",
              "body .sr { color: #BB6688 } /* Literal.String.Regex */\n",
              "body .s1 { color: #BA2121 } /* Literal.String.Single */\n",
              "body .ss { color: #19177C } /* Literal.String.Symbol */\n",
              "body .bp { color: #008000 } /* Name.Builtin.Pseudo */\n",
              "body .fm { color: #0000FF } /* Name.Function.Magic */\n",
              "body .vc { color: #19177C } /* Name.Variable.Class */\n",
              "body .vg { color: #19177C } /* Name.Variable.Global */\n",
              "body .vi { color: #19177C } /* Name.Variable.Instance */\n",
              "body .vm { color: #19177C } /* Name.Variable.Magic */\n",
              "body .il { color: #666666 } /* Literal.Number.Integer.Long */\n",
              "\n",
              "  </style>\n",
              "</head>\n",
              "<body>\n",
              "<h2></h2>\n",
              "\n",
              "<div class=\"highlight\"><pre><span></span><span class=\"k\">def</span> <span class=\"nf\">subst</span><span class=\"p\">(</span><span class=\"n\">s</span><span class=\"p\">,</span> <span class=\"n\">x</span><span class=\"p\">):</span>\n",
              "    <span class=\"sd\">&quot;&quot;&quot;Substitute the substitution s into the expression x.</span>\n",
              "<span class=\"sd\">    &gt;&gt;&gt; subst({x: 42, y:0}, F(x) + y)</span>\n",
              "<span class=\"sd\">    (F(42) + 0)</span>\n",
              "<span class=\"sd\">    &quot;&quot;&quot;</span>\n",
              "    <span class=\"k\">if</span> <span class=\"nb\">isinstance</span><span class=\"p\">(</span><span class=\"n\">x</span><span class=\"p\">,</span> <span class=\"nb\">list</span><span class=\"p\">):</span>\n",
              "        <span class=\"k\">return</span> <span class=\"p\">[</span><span class=\"n\">subst</span><span class=\"p\">(</span><span class=\"n\">s</span><span class=\"p\">,</span> <span class=\"n\">xi</span><span class=\"p\">)</span> <span class=\"k\">for</span> <span class=\"n\">xi</span> <span class=\"ow\">in</span> <span class=\"n\">x</span><span class=\"p\">]</span>\n",
              "    <span class=\"k\">elif</span> <span class=\"nb\">isinstance</span><span class=\"p\">(</span><span class=\"n\">x</span><span class=\"p\">,</span> <span class=\"nb\">tuple</span><span class=\"p\">):</span>\n",
              "        <span class=\"k\">return</span> <span class=\"nb\">tuple</span><span class=\"p\">([</span><span class=\"n\">subst</span><span class=\"p\">(</span><span class=\"n\">s</span><span class=\"p\">,</span> <span class=\"n\">xi</span><span class=\"p\">)</span> <span class=\"k\">for</span> <span class=\"n\">xi</span> <span class=\"ow\">in</span> <span class=\"n\">x</span><span class=\"p\">])</span>\n",
              "    <span class=\"k\">elif</span> <span class=\"ow\">not</span> <span class=\"nb\">isinstance</span><span class=\"p\">(</span><span class=\"n\">x</span><span class=\"p\">,</span> <span class=\"n\">Expr</span><span class=\"p\">):</span>\n",
              "        <span class=\"k\">return</span> <span class=\"n\">x</span>\n",
              "    <span class=\"k\">elif</span> <span class=\"n\">is_var_symbol</span><span class=\"p\">(</span><span class=\"n\">x</span><span class=\"o\">.</span><span class=\"n\">op</span><span class=\"p\">):</span>\n",
              "        <span class=\"k\">return</span> <span class=\"n\">s</span><span class=\"o\">.</span><span class=\"n\">get</span><span class=\"p\">(</span><span class=\"n\">x</span><span class=\"p\">,</span> <span class=\"n\">x</span><span class=\"p\">)</span>\n",
              "    <span class=\"k\">else</span><span class=\"p\">:</span>\n",
              "        <span class=\"k\">return</span> <span class=\"n\">Expr</span><span class=\"p\">(</span><span class=\"n\">x</span><span class=\"o\">.</span><span class=\"n\">op</span><span class=\"p\">,</span> <span class=\"o\">*</span><span class=\"p\">[</span><span class=\"n\">subst</span><span class=\"p\">(</span><span class=\"n\">s</span><span class=\"p\">,</span> <span class=\"n\">arg</span><span class=\"p\">)</span> <span class=\"k\">for</span> <span class=\"n\">arg</span> <span class=\"ow\">in</span> <span class=\"n\">x</span><span class=\"o\">.</span><span class=\"n\">args</span><span class=\"p\">])</span>\n",
              "</pre></div>\n",
              "</body>\n",
              "</html>\n"
            ],
            "text/plain": [
              "<IPython.core.display.HTML object>"
            ]
          },
          "metadata": {},
          "output_type": "display_data"
        }
      ],
      "source": [
        "psource(subst)"
      ]
    },
    {
      "cell_type": "markdown",
      "metadata": {
        "id": "gMQnj3VQWOXy"
      },
      "source": [
        "Here's an example of how `subst` can be used."
      ]
    },
    {
      "cell_type": "code",
      "execution_count": null,
      "metadata": {
        "id": "0aprps5NWOXy",
        "outputId": "767dea03-f7c9-44a6-82e8-516f5e6025f2"
      },
      "outputs": [
        {
          "data": {
            "text/plain": [
              "Owns(Nono, M1)"
            ]
          },
          "execution_count": 78,
          "metadata": {},
          "output_type": "execute_result"
        }
      ],
      "source": [
        "subst({x: expr('Nono'), y: expr('M1')}, expr('Owns(x, y)'))"
      ]
    },
    {
      "cell_type": "markdown",
      "metadata": {
        "id": "JNeP_gMKWOXy"
      },
      "source": [
        "## Inference in First-Order Logic\n",
        "In this section we look at a forward chaining and a backward chaining algorithm for `FolKB`. Both aforementioned algorithms rely on a process called <strong>unification</strong>, a key component of all first-order inference algorithms."
      ]
    },
    {
      "cell_type": "markdown",
      "metadata": {
        "id": "AEgfpdXuWOXy"
      },
      "source": [
        "### Unification\n",
        "We sometimes require finding substitutions that make different logical expressions look identical. This process, called unification, is done by the `unify` algorithm. It takes as input two sentences and returns a <em>unifier</em> for them if one exists. A unifier is a dictionary which stores the substitutions required to make the two sentences identical. It does so by recursively unifying the components of a sentence, where the unification of a variable symbol `var` with a constant symbol `Const` is the mapping `{var: Const}`. Let's look at a few examples."
      ]
    },
    {
      "cell_type": "code",
      "execution_count": null,
      "metadata": {
        "id": "jnDW8SN0WOXy",
        "outputId": "6e3f5095-ecf8-4194-b796-3316332caae9"
      },
      "outputs": [
        {
          "data": {
            "text/plain": [
              "{x: 3}"
            ]
          },
          "execution_count": 79,
          "metadata": {},
          "output_type": "execute_result"
        }
      ],
      "source": [
        "unify(expr('x'), 3)"
      ]
    },
    {
      "cell_type": "code",
      "execution_count": null,
      "metadata": {
        "id": "Jmf5Mdd7WOXy",
        "outputId": "f2ef277a-4266-4b95-b6fd-d88a6363bbd3"
      },
      "outputs": [
        {
          "data": {
            "text/plain": [
              "{x: B}"
            ]
          },
          "execution_count": 80,
          "metadata": {},
          "output_type": "execute_result"
        }
      ],
      "source": [
        "unify(expr('A(x)'), expr('A(B)'))"
      ]
    },
    {
      "cell_type": "code",
      "execution_count": null,
      "metadata": {
        "id": "4py7r6vmWOXy",
        "outputId": "fb137ce4-09ca-4397-c506-87fdad7c4dd3"
      },
      "outputs": [
        {
          "data": {
            "text/plain": [
              "{x: Bella, y: Dobby}"
            ]
          },
          "execution_count": 81,
          "metadata": {},
          "output_type": "execute_result"
        }
      ],
      "source": [
        "unify(expr('Cat(x) & Dog(Dobby)'), expr('Cat(Bella) & Dog(y)'))"
      ]
    },
    {
      "cell_type": "markdown",
      "metadata": {
        "id": "aKIf0Jb5WOXy"
      },
      "source": [
        "In cases where there is no possible substitution that unifies the two sentences the function return `None`."
      ]
    },
    {
      "cell_type": "code",
      "execution_count": null,
      "metadata": {
        "id": "Ezh3QVhSWOXy",
        "outputId": "dd2cd76e-7aae-4355-9c71-2fa089aabce4"
      },
      "outputs": [
        {
          "name": "stdout",
          "output_type": "stream",
          "text": [
            "None\n"
          ]
        }
      ],
      "source": [
        "print(unify(expr('Cat(x)'), expr('Dog(Dobby)')))"
      ]
    },
    {
      "cell_type": "markdown",
      "metadata": {
        "id": "OJQ5BjItWOXy"
      },
      "source": [
        "We also need to take care we do not unintentionally use the same variable name. Unify treats them as a single variable which prevents it from taking multiple value."
      ]
    },
    {
      "cell_type": "code",
      "execution_count": null,
      "metadata": {
        "id": "8xoL2PmaWOXy",
        "outputId": "2428cc96-21d1-4932-ddea-6581a679a31f"
      },
      "outputs": [
        {
          "name": "stdout",
          "output_type": "stream",
          "text": [
            "None\n"
          ]
        }
      ],
      "source": [
        "print(unify(expr('Cat(x) & Dog(Dobby)'), expr('Cat(Bella) & Dog(x)')))"
      ]
    },
    {
      "cell_type": "markdown",
      "metadata": {
        "id": "CxB360ohWOXz"
      },
      "source": [
        "### Forward Chaining Algorithm\n",
        "We consider the simple forward-chaining algorithm presented in <em>Figure 9.3</em>. We look at each rule in the knowledge base and see if the premises can be satisfied. This is done by finding a substitution which unifies each of the premise with a clause in the `KB`. If we are able to unify the premises, the conclusion (with the corresponding substitution) is added to the `KB`. This inferencing process is repeated until either the query can be answered or till no new sentences can be added. We test if the newly added clause unifies with the query in which case the substitution yielded by `unify` is an answer to the query. If we run out of sentences to infer, this means the query was a failure.\n",
        "\n",
        "The function `fol_fc_ask` is a generator which yields all substitutions which validate the query."
      ]
    },
    {
      "cell_type": "code",
      "execution_count": null,
      "metadata": {
        "id": "XPNSA9v4WOXz",
        "outputId": "9d8e59e4-e9b2-4911-f5a8-cffcd57cf75b"
      },
      "outputs": [
        {
          "data": {
            "text/html": [
              "<!DOCTYPE html PUBLIC \"-//W3C//DTD HTML 4.01//EN\"\n",
              "   \"http://www.w3.org/TR/html4/strict.dtd\">\n",
              "\n",
              "<html>\n",
              "<head>\n",
              "  <title></title>\n",
              "  <meta http-equiv=\"content-type\" content=\"text/html; charset=None\">\n",
              "  <style type=\"text/css\">\n",
              "td.linenos { background-color: #f0f0f0; padding-right: 10px; }\n",
              "span.lineno { background-color: #f0f0f0; padding: 0 5px 0 5px; }\n",
              "pre { line-height: 125%; }\n",
              "body .hll { background-color: #ffffcc }\n",
              "body  { background: #f8f8f8; }\n",
              "body .c { color: #408080; font-style: italic } /* Comment */\n",
              "body .err { border: 1px solid #FF0000 } /* Error */\n",
              "body .k { color: #008000; font-weight: bold } /* Keyword */\n",
              "body .o { color: #666666 } /* Operator */\n",
              "body .ch { color: #408080; font-style: italic } /* Comment.Hashbang */\n",
              "body .cm { color: #408080; font-style: italic } /* Comment.Multiline */\n",
              "body .cp { color: #BC7A00 } /* Comment.Preproc */\n",
              "body .cpf { color: #408080; font-style: italic } /* Comment.PreprocFile */\n",
              "body .c1 { color: #408080; font-style: italic } /* Comment.Single */\n",
              "body .cs { color: #408080; font-style: italic } /* Comment.Special */\n",
              "body .gd { color: #A00000 } /* Generic.Deleted */\n",
              "body .ge { font-style: italic } /* Generic.Emph */\n",
              "body .gr { color: #FF0000 } /* Generic.Error */\n",
              "body .gh { color: #000080; font-weight: bold } /* Generic.Heading */\n",
              "body .gi { color: #00A000 } /* Generic.Inserted */\n",
              "body .go { color: #888888 } /* Generic.Output */\n",
              "body .gp { color: #000080; font-weight: bold } /* Generic.Prompt */\n",
              "body .gs { font-weight: bold } /* Generic.Strong */\n",
              "body .gu { color: #800080; font-weight: bold } /* Generic.Subheading */\n",
              "body .gt { color: #0044DD } /* Generic.Traceback */\n",
              "body .kc { color: #008000; font-weight: bold } /* Keyword.Constant */\n",
              "body .kd { color: #008000; font-weight: bold } /* Keyword.Declaration */\n",
              "body .kn { color: #008000; font-weight: bold } /* Keyword.Namespace */\n",
              "body .kp { color: #008000 } /* Keyword.Pseudo */\n",
              "body .kr { color: #008000; font-weight: bold } /* Keyword.Reserved */\n",
              "body .kt { color: #B00040 } /* Keyword.Type */\n",
              "body .m { color: #666666 } /* Literal.Number */\n",
              "body .s { color: #BA2121 } /* Literal.String */\n",
              "body .na { color: #7D9029 } /* Name.Attribute */\n",
              "body .nb { color: #008000 } /* Name.Builtin */\n",
              "body .nc { color: #0000FF; font-weight: bold } /* Name.Class */\n",
              "body .no { color: #880000 } /* Name.Constant */\n",
              "body .nd { color: #AA22FF } /* Name.Decorator */\n",
              "body .ni { color: #999999; font-weight: bold } /* Name.Entity */\n",
              "body .ne { color: #D2413A; font-weight: bold } /* Name.Exception */\n",
              "body .nf { color: #0000FF } /* Name.Function */\n",
              "body .nl { color: #A0A000 } /* Name.Label */\n",
              "body .nn { color: #0000FF; font-weight: bold } /* Name.Namespace */\n",
              "body .nt { color: #008000; font-weight: bold } /* Name.Tag */\n",
              "body .nv { color: #19177C } /* Name.Variable */\n",
              "body .ow { color: #AA22FF; font-weight: bold } /* Operator.Word */\n",
              "body .w { color: #bbbbbb } /* Text.Whitespace */\n",
              "body .mb { color: #666666 } /* Literal.Number.Bin */\n",
              "body .mf { color: #666666 } /* Literal.Number.Float */\n",
              "body .mh { color: #666666 } /* Literal.Number.Hex */\n",
              "body .mi { color: #666666 } /* Literal.Number.Integer */\n",
              "body .mo { color: #666666 } /* Literal.Number.Oct */\n",
              "body .sa { color: #BA2121 } /* Literal.String.Affix */\n",
              "body .sb { color: #BA2121 } /* Literal.String.Backtick */\n",
              "body .sc { color: #BA2121 } /* Literal.String.Char */\n",
              "body .dl { color: #BA2121 } /* Literal.String.Delimiter */\n",
              "body .sd { color: #BA2121; font-style: italic } /* Literal.String.Doc */\n",
              "body .s2 { color: #BA2121 } /* Literal.String.Double */\n",
              "body .se { color: #BB6622; font-weight: bold } /* Literal.String.Escape */\n",
              "body .sh { color: #BA2121 } /* Literal.String.Heredoc */\n",
              "body .si { color: #BB6688; font-weight: bold } /* Literal.String.Interpol */\n",
              "body .sx { color: #008000 } /* Literal.String.Other */\n",
              "body .sr { color: #BB6688 } /* Literal.String.Regex */\n",
              "body .s1 { color: #BA2121 } /* Literal.String.Single */\n",
              "body .ss { color: #19177C } /* Literal.String.Symbol */\n",
              "body .bp { color: #008000 } /* Name.Builtin.Pseudo */\n",
              "body .fm { color: #0000FF } /* Name.Function.Magic */\n",
              "body .vc { color: #19177C } /* Name.Variable.Class */\n",
              "body .vg { color: #19177C } /* Name.Variable.Global */\n",
              "body .vi { color: #19177C } /* Name.Variable.Instance */\n",
              "body .vm { color: #19177C } /* Name.Variable.Magic */\n",
              "body .il { color: #666666 } /* Literal.Number.Integer.Long */\n",
              "\n",
              "  </style>\n",
              "</head>\n",
              "<body>\n",
              "<h2></h2>\n",
              "\n",
              "<div class=\"highlight\"><pre><span></span><span class=\"k\">def</span> <span class=\"nf\">fol_fc_ask</span><span class=\"p\">(</span><span class=\"n\">KB</span><span class=\"p\">,</span> <span class=\"n\">alpha</span><span class=\"p\">):</span>\n",
              "    <span class=\"sd\">&quot;&quot;&quot;A simple forward-chaining algorithm. [Figure 9.3]&quot;&quot;&quot;</span>\n",
              "    <span class=\"c1\"># TODO: Improve efficiency</span>\n",
              "    <span class=\"n\">kb_consts</span> <span class=\"o\">=</span> <span class=\"nb\">list</span><span class=\"p\">({</span><span class=\"n\">c</span> <span class=\"k\">for</span> <span class=\"n\">clause</span> <span class=\"ow\">in</span> <span class=\"n\">KB</span><span class=\"o\">.</span><span class=\"n\">clauses</span> <span class=\"k\">for</span> <span class=\"n\">c</span> <span class=\"ow\">in</span> <span class=\"n\">constant_symbols</span><span class=\"p\">(</span><span class=\"n\">clause</span><span class=\"p\">)})</span>\n",
              "    <span class=\"k\">def</span> <span class=\"nf\">enum_subst</span><span class=\"p\">(</span><span class=\"n\">p</span><span class=\"p\">):</span>\n",
              "        <span class=\"n\">query_vars</span> <span class=\"o\">=</span> <span class=\"nb\">list</span><span class=\"p\">({</span><span class=\"n\">v</span> <span class=\"k\">for</span> <span class=\"n\">clause</span> <span class=\"ow\">in</span> <span class=\"n\">p</span> <span class=\"k\">for</span> <span class=\"n\">v</span> <span class=\"ow\">in</span> <span class=\"n\">variables</span><span class=\"p\">(</span><span class=\"n\">clause</span><span class=\"p\">)})</span>\n",
              "        <span class=\"k\">for</span> <span class=\"n\">assignment_list</span> <span class=\"ow\">in</span> <span class=\"n\">itertools</span><span class=\"o\">.</span><span class=\"n\">product</span><span class=\"p\">(</span><span class=\"n\">kb_consts</span><span class=\"p\">,</span> <span class=\"n\">repeat</span><span class=\"o\">=</span><span class=\"nb\">len</span><span class=\"p\">(</span><span class=\"n\">query_vars</span><span class=\"p\">)):</span>\n",
              "            <span class=\"n\">theta</span> <span class=\"o\">=</span> <span class=\"p\">{</span><span class=\"n\">x</span><span class=\"p\">:</span> <span class=\"n\">y</span> <span class=\"k\">for</span> <span class=\"n\">x</span><span class=\"p\">,</span> <span class=\"n\">y</span> <span class=\"ow\">in</span> <span class=\"nb\">zip</span><span class=\"p\">(</span><span class=\"n\">query_vars</span><span class=\"p\">,</span> <span class=\"n\">assignment_list</span><span class=\"p\">)}</span>\n",
              "            <span class=\"k\">yield</span> <span class=\"n\">theta</span>\n",
              "\n",
              "    <span class=\"c1\"># check if we can answer without new inferences</span>\n",
              "    <span class=\"k\">for</span> <span class=\"n\">q</span> <span class=\"ow\">in</span> <span class=\"n\">KB</span><span class=\"o\">.</span><span class=\"n\">clauses</span><span class=\"p\">:</span>\n",
              "        <span class=\"n\">phi</span> <span class=\"o\">=</span> <span class=\"n\">unify</span><span class=\"p\">(</span><span class=\"n\">q</span><span class=\"p\">,</span> <span class=\"n\">alpha</span><span class=\"p\">,</span> <span class=\"p\">{})</span>\n",
              "        <span class=\"k\">if</span> <span class=\"n\">phi</span> <span class=\"ow\">is</span> <span class=\"ow\">not</span> <span class=\"bp\">None</span><span class=\"p\">:</span>\n",
              "            <span class=\"k\">yield</span> <span class=\"n\">phi</span>\n",
              "\n",
              "    <span class=\"k\">while</span> <span class=\"bp\">True</span><span class=\"p\">:</span>\n",
              "        <span class=\"n\">new</span> <span class=\"o\">=</span> <span class=\"p\">[]</span>\n",
              "        <span class=\"k\">for</span> <span class=\"n\">rule</span> <span class=\"ow\">in</span> <span class=\"n\">KB</span><span class=\"o\">.</span><span class=\"n\">clauses</span><span class=\"p\">:</span>\n",
              "            <span class=\"n\">p</span><span class=\"p\">,</span> <span class=\"n\">q</span> <span class=\"o\">=</span> <span class=\"n\">parse_definite_clause</span><span class=\"p\">(</span><span class=\"n\">rule</span><span class=\"p\">)</span>\n",
              "            <span class=\"k\">for</span> <span class=\"n\">theta</span> <span class=\"ow\">in</span> <span class=\"n\">enum_subst</span><span class=\"p\">(</span><span class=\"n\">p</span><span class=\"p\">):</span>\n",
              "                <span class=\"k\">if</span> <span class=\"nb\">set</span><span class=\"p\">(</span><span class=\"n\">subst</span><span class=\"p\">(</span><span class=\"n\">theta</span><span class=\"p\">,</span> <span class=\"n\">p</span><span class=\"p\">))</span><span class=\"o\">.</span><span class=\"n\">issubset</span><span class=\"p\">(</span><span class=\"nb\">set</span><span class=\"p\">(</span><span class=\"n\">KB</span><span class=\"o\">.</span><span class=\"n\">clauses</span><span class=\"p\">)):</span>\n",
              "                    <span class=\"n\">q_</span> <span class=\"o\">=</span> <span class=\"n\">subst</span><span class=\"p\">(</span><span class=\"n\">theta</span><span class=\"p\">,</span> <span class=\"n\">q</span><span class=\"p\">)</span>\n",
              "                    <span class=\"k\">if</span> <span class=\"nb\">all</span><span class=\"p\">([</span><span class=\"n\">unify</span><span class=\"p\">(</span><span class=\"n\">x</span><span class=\"p\">,</span> <span class=\"n\">q_</span><span class=\"p\">,</span> <span class=\"p\">{})</span> <span class=\"ow\">is</span> <span class=\"bp\">None</span> <span class=\"k\">for</span> <span class=\"n\">x</span> <span class=\"ow\">in</span> <span class=\"n\">KB</span><span class=\"o\">.</span><span class=\"n\">clauses</span> <span class=\"o\">+</span> <span class=\"n\">new</span><span class=\"p\">]):</span>\n",
              "                        <span class=\"n\">new</span><span class=\"o\">.</span><span class=\"n\">append</span><span class=\"p\">(</span><span class=\"n\">q_</span><span class=\"p\">)</span>\n",
              "                        <span class=\"n\">phi</span> <span class=\"o\">=</span> <span class=\"n\">unify</span><span class=\"p\">(</span><span class=\"n\">q_</span><span class=\"p\">,</span> <span class=\"n\">alpha</span><span class=\"p\">,</span> <span class=\"p\">{})</span>\n",
              "                        <span class=\"k\">if</span> <span class=\"n\">phi</span> <span class=\"ow\">is</span> <span class=\"ow\">not</span> <span class=\"bp\">None</span><span class=\"p\">:</span>\n",
              "                            <span class=\"k\">yield</span> <span class=\"n\">phi</span>\n",
              "        <span class=\"k\">if</span> <span class=\"ow\">not</span> <span class=\"n\">new</span><span class=\"p\">:</span>\n",
              "            <span class=\"k\">break</span>\n",
              "        <span class=\"k\">for</span> <span class=\"n\">clause</span> <span class=\"ow\">in</span> <span class=\"n\">new</span><span class=\"p\">:</span>\n",
              "            <span class=\"n\">KB</span><span class=\"o\">.</span><span class=\"n\">tell</span><span class=\"p\">(</span><span class=\"n\">clause</span><span class=\"p\">)</span>\n",
              "    <span class=\"k\">return</span> <span class=\"bp\">None</span>\n",
              "</pre></div>\n",
              "</body>\n",
              "</html>\n"
            ],
            "text/plain": [
              "<IPython.core.display.HTML object>"
            ]
          },
          "metadata": {},
          "output_type": "display_data"
        }
      ],
      "source": [
        "psource(fol_fc_ask)"
      ]
    },
    {
      "cell_type": "markdown",
      "metadata": {
        "id": "M8DRAvi-WOXz"
      },
      "source": [
        "Let's find out all the hostile nations. Note that we only told the `KB` that Nono was an enemy of America, not that it was hostile."
      ]
    },
    {
      "cell_type": "code",
      "execution_count": null,
      "metadata": {
        "id": "YCfIKdD3WOXz",
        "outputId": "a034164e-e182-4bbf-8d35-d93416dbd8a3"
      },
      "outputs": [
        {
          "name": "stdout",
          "output_type": "stream",
          "text": [
            "[{x: Nono}]\n"
          ]
        }
      ],
      "source": [
        "answer = fol_fc_ask(crime_kb, expr('Hostile(x)'))\n",
        "print(list(answer))"
      ]
    },
    {
      "cell_type": "markdown",
      "metadata": {
        "id": "z79hNrioWOXz"
      },
      "source": [
        "The generator returned a single substitution which says that Nono is a hostile nation. See how after adding another enemy nation the generator returns two substitutions."
      ]
    },
    {
      "cell_type": "code",
      "execution_count": null,
      "metadata": {
        "id": "sAigvP7_WOXz",
        "outputId": "c4e02f1d-f3ec-4517-e556-3707e7623d61"
      },
      "outputs": [
        {
          "name": "stdout",
          "output_type": "stream",
          "text": [
            "[{x: Nono}, {x: JaJa}]\n"
          ]
        }
      ],
      "source": [
        "crime_kb.tell(expr('Enemy(JaJa, America)'))\n",
        "answer = fol_fc_ask(crime_kb, expr('Hostile(x)'))\n",
        "print(list(answer))"
      ]
    },
    {
      "cell_type": "markdown",
      "metadata": {
        "id": "pbv7cf0kWOXz"
      },
      "source": [
        "<strong><em>Note</em>:</strong> `fol_fc_ask` makes changes to the `KB` by adding sentences to it."
      ]
    },
    {
      "cell_type": "markdown",
      "metadata": {
        "id": "AmAHa9jxWOXz"
      },
      "source": [
        "### Backward Chaining Algorithm\n",
        "This algorithm works backward from the goal, chaining through rules to find known facts that support the proof. Suppose `goal` is the query we want to find the substitution for. We find rules of the form $\\text{lhs} \\implies \\text{goal}$ in the `KB` and try to prove `lhs`. There may be multiple clauses in the `KB` which give multiple `lhs`. It is sufficient to prove only one of these. But to prove a `lhs` all the conjuncts in the `lhs` of the clause must be proved. This makes it similar to <em>And/Or</em> search."
      ]
    },
    {
      "cell_type": "markdown",
      "metadata": {
        "id": "yATVU-YcWOXz"
      },
      "source": [
        "#### OR\n",
        "The <em>OR</em> part of the algorithm comes from our choice to select any clause of the form $\\text{lhs} \\implies \\text{goal}$. Looking at all rules's `lhs` whose `rhs` unify with the `goal`, we yield a substitution which proves all the conjuncts in the `lhs`. We use `parse_definite_clause` to attain `lhs` and `rhs` from a clause of the form $\\text{lhs} \\implies \\text{rhs}$. For atomic facts the `lhs` is an empty list."
      ]
    },
    {
      "cell_type": "code",
      "execution_count": null,
      "metadata": {
        "id": "vR6NB2bEWOXz",
        "outputId": "a1d99d68-3046-4b08-f58a-5313e52d4394"
      },
      "outputs": [
        {
          "data": {
            "text/html": [
              "<!DOCTYPE html PUBLIC \"-//W3C//DTD HTML 4.01//EN\"\n",
              "   \"http://www.w3.org/TR/html4/strict.dtd\">\n",
              "\n",
              "<html>\n",
              "<head>\n",
              "  <title></title>\n",
              "  <meta http-equiv=\"content-type\" content=\"text/html; charset=None\">\n",
              "  <style type=\"text/css\">\n",
              "td.linenos { background-color: #f0f0f0; padding-right: 10px; }\n",
              "span.lineno { background-color: #f0f0f0; padding: 0 5px 0 5px; }\n",
              "pre { line-height: 125%; }\n",
              "body .hll { background-color: #ffffcc }\n",
              "body  { background: #f8f8f8; }\n",
              "body .c { color: #408080; font-style: italic } /* Comment */\n",
              "body .err { border: 1px solid #FF0000 } /* Error */\n",
              "body .k { color: #008000; font-weight: bold } /* Keyword */\n",
              "body .o { color: #666666 } /* Operator */\n",
              "body .ch { color: #408080; font-style: italic } /* Comment.Hashbang */\n",
              "body .cm { color: #408080; font-style: italic } /* Comment.Multiline */\n",
              "body .cp { color: #BC7A00 } /* Comment.Preproc */\n",
              "body .cpf { color: #408080; font-style: italic } /* Comment.PreprocFile */\n",
              "body .c1 { color: #408080; font-style: italic } /* Comment.Single */\n",
              "body .cs { color: #408080; font-style: italic } /* Comment.Special */\n",
              "body .gd { color: #A00000 } /* Generic.Deleted */\n",
              "body .ge { font-style: italic } /* Generic.Emph */\n",
              "body .gr { color: #FF0000 } /* Generic.Error */\n",
              "body .gh { color: #000080; font-weight: bold } /* Generic.Heading */\n",
              "body .gi { color: #00A000 } /* Generic.Inserted */\n",
              "body .go { color: #888888 } /* Generic.Output */\n",
              "body .gp { color: #000080; font-weight: bold } /* Generic.Prompt */\n",
              "body .gs { font-weight: bold } /* Generic.Strong */\n",
              "body .gu { color: #800080; font-weight: bold } /* Generic.Subheading */\n",
              "body .gt { color: #0044DD } /* Generic.Traceback */\n",
              "body .kc { color: #008000; font-weight: bold } /* Keyword.Constant */\n",
              "body .kd { color: #008000; font-weight: bold } /* Keyword.Declaration */\n",
              "body .kn { color: #008000; font-weight: bold } /* Keyword.Namespace */\n",
              "body .kp { color: #008000 } /* Keyword.Pseudo */\n",
              "body .kr { color: #008000; font-weight: bold } /* Keyword.Reserved */\n",
              "body .kt { color: #B00040 } /* Keyword.Type */\n",
              "body .m { color: #666666 } /* Literal.Number */\n",
              "body .s { color: #BA2121 } /* Literal.String */\n",
              "body .na { color: #7D9029 } /* Name.Attribute */\n",
              "body .nb { color: #008000 } /* Name.Builtin */\n",
              "body .nc { color: #0000FF; font-weight: bold } /* Name.Class */\n",
              "body .no { color: #880000 } /* Name.Constant */\n",
              "body .nd { color: #AA22FF } /* Name.Decorator */\n",
              "body .ni { color: #999999; font-weight: bold } /* Name.Entity */\n",
              "body .ne { color: #D2413A; font-weight: bold } /* Name.Exception */\n",
              "body .nf { color: #0000FF } /* Name.Function */\n",
              "body .nl { color: #A0A000 } /* Name.Label */\n",
              "body .nn { color: #0000FF; font-weight: bold } /* Name.Namespace */\n",
              "body .nt { color: #008000; font-weight: bold } /* Name.Tag */\n",
              "body .nv { color: #19177C } /* Name.Variable */\n",
              "body .ow { color: #AA22FF; font-weight: bold } /* Operator.Word */\n",
              "body .w { color: #bbbbbb } /* Text.Whitespace */\n",
              "body .mb { color: #666666 } /* Literal.Number.Bin */\n",
              "body .mf { color: #666666 } /* Literal.Number.Float */\n",
              "body .mh { color: #666666 } /* Literal.Number.Hex */\n",
              "body .mi { color: #666666 } /* Literal.Number.Integer */\n",
              "body .mo { color: #666666 } /* Literal.Number.Oct */\n",
              "body .sa { color: #BA2121 } /* Literal.String.Affix */\n",
              "body .sb { color: #BA2121 } /* Literal.String.Backtick */\n",
              "body .sc { color: #BA2121 } /* Literal.String.Char */\n",
              "body .dl { color: #BA2121 } /* Literal.String.Delimiter */\n",
              "body .sd { color: #BA2121; font-style: italic } /* Literal.String.Doc */\n",
              "body .s2 { color: #BA2121 } /* Literal.String.Double */\n",
              "body .se { color: #BB6622; font-weight: bold } /* Literal.String.Escape */\n",
              "body .sh { color: #BA2121 } /* Literal.String.Heredoc */\n",
              "body .si { color: #BB6688; font-weight: bold } /* Literal.String.Interpol */\n",
              "body .sx { color: #008000 } /* Literal.String.Other */\n",
              "body .sr { color: #BB6688 } /* Literal.String.Regex */\n",
              "body .s1 { color: #BA2121 } /* Literal.String.Single */\n",
              "body .ss { color: #19177C } /* Literal.String.Symbol */\n",
              "body .bp { color: #008000 } /* Name.Builtin.Pseudo */\n",
              "body .fm { color: #0000FF } /* Name.Function.Magic */\n",
              "body .vc { color: #19177C } /* Name.Variable.Class */\n",
              "body .vg { color: #19177C } /* Name.Variable.Global */\n",
              "body .vi { color: #19177C } /* Name.Variable.Instance */\n",
              "body .vm { color: #19177C } /* Name.Variable.Magic */\n",
              "body .il { color: #666666 } /* Literal.Number.Integer.Long */\n",
              "\n",
              "  </style>\n",
              "</head>\n",
              "<body>\n",
              "<h2></h2>\n",
              "\n",
              "<div class=\"highlight\"><pre><span></span><span class=\"k\">def</span> <span class=\"nf\">fol_bc_or</span><span class=\"p\">(</span><span class=\"n\">KB</span><span class=\"p\">,</span> <span class=\"n\">goal</span><span class=\"p\">,</span> <span class=\"n\">theta</span><span class=\"p\">):</span>\n",
              "    <span class=\"k\">for</span> <span class=\"n\">rule</span> <span class=\"ow\">in</span> <span class=\"n\">KB</span><span class=\"o\">.</span><span class=\"n\">fetch_rules_for_goal</span><span class=\"p\">(</span><span class=\"n\">goal</span><span class=\"p\">):</span>\n",
              "        <span class=\"n\">lhs</span><span class=\"p\">,</span> <span class=\"n\">rhs</span> <span class=\"o\">=</span> <span class=\"n\">parse_definite_clause</span><span class=\"p\">(</span><span class=\"n\">standardize_variables</span><span class=\"p\">(</span><span class=\"n\">rule</span><span class=\"p\">))</span>\n",
              "        <span class=\"k\">for</span> <span class=\"n\">theta1</span> <span class=\"ow\">in</span> <span class=\"n\">fol_bc_and</span><span class=\"p\">(</span><span class=\"n\">KB</span><span class=\"p\">,</span> <span class=\"n\">lhs</span><span class=\"p\">,</span> <span class=\"n\">unify</span><span class=\"p\">(</span><span class=\"n\">rhs</span><span class=\"p\">,</span> <span class=\"n\">goal</span><span class=\"p\">,</span> <span class=\"n\">theta</span><span class=\"p\">)):</span>\n",
              "            <span class=\"k\">yield</span> <span class=\"n\">theta1</span>\n",
              "</pre></div>\n",
              "</body>\n",
              "</html>\n"
            ],
            "text/plain": [
              "<IPython.core.display.HTML object>"
            ]
          },
          "metadata": {},
          "output_type": "display_data"
        }
      ],
      "source": [
        "psource(fol_bc_or)"
      ]
    },
    {
      "cell_type": "markdown",
      "metadata": {
        "id": "iGfeiBTIWOXz"
      },
      "source": [
        "#### AND\n",
        "The <em>AND</em> corresponds to proving all the conjuncts in the `lhs`. We need to find a substitution which proves each <em>and</em> every clause in the list of conjuncts."
      ]
    },
    {
      "cell_type": "code",
      "execution_count": null,
      "metadata": {
        "id": "nHJKvKcBWOXz",
        "outputId": "12bd3ed0-6183-4af0-f272-27475746db79"
      },
      "outputs": [
        {
          "data": {
            "text/html": [
              "<!DOCTYPE html PUBLIC \"-//W3C//DTD HTML 4.01//EN\"\n",
              "   \"http://www.w3.org/TR/html4/strict.dtd\">\n",
              "\n",
              "<html>\n",
              "<head>\n",
              "  <title></title>\n",
              "  <meta http-equiv=\"content-type\" content=\"text/html; charset=None\">\n",
              "  <style type=\"text/css\">\n",
              "td.linenos { background-color: #f0f0f0; padding-right: 10px; }\n",
              "span.lineno { background-color: #f0f0f0; padding: 0 5px 0 5px; }\n",
              "pre { line-height: 125%; }\n",
              "body .hll { background-color: #ffffcc }\n",
              "body  { background: #f8f8f8; }\n",
              "body .c { color: #408080; font-style: italic } /* Comment */\n",
              "body .err { border: 1px solid #FF0000 } /* Error */\n",
              "body .k { color: #008000; font-weight: bold } /* Keyword */\n",
              "body .o { color: #666666 } /* Operator */\n",
              "body .ch { color: #408080; font-style: italic } /* Comment.Hashbang */\n",
              "body .cm { color: #408080; font-style: italic } /* Comment.Multiline */\n",
              "body .cp { color: #BC7A00 } /* Comment.Preproc */\n",
              "body .cpf { color: #408080; font-style: italic } /* Comment.PreprocFile */\n",
              "body .c1 { color: #408080; font-style: italic } /* Comment.Single */\n",
              "body .cs { color: #408080; font-style: italic } /* Comment.Special */\n",
              "body .gd { color: #A00000 } /* Generic.Deleted */\n",
              "body .ge { font-style: italic } /* Generic.Emph */\n",
              "body .gr { color: #FF0000 } /* Generic.Error */\n",
              "body .gh { color: #000080; font-weight: bold } /* Generic.Heading */\n",
              "body .gi { color: #00A000 } /* Generic.Inserted */\n",
              "body .go { color: #888888 } /* Generic.Output */\n",
              "body .gp { color: #000080; font-weight: bold } /* Generic.Prompt */\n",
              "body .gs { font-weight: bold } /* Generic.Strong */\n",
              "body .gu { color: #800080; font-weight: bold } /* Generic.Subheading */\n",
              "body .gt { color: #0044DD } /* Generic.Traceback */\n",
              "body .kc { color: #008000; font-weight: bold } /* Keyword.Constant */\n",
              "body .kd { color: #008000; font-weight: bold } /* Keyword.Declaration */\n",
              "body .kn { color: #008000; font-weight: bold } /* Keyword.Namespace */\n",
              "body .kp { color: #008000 } /* Keyword.Pseudo */\n",
              "body .kr { color: #008000; font-weight: bold } /* Keyword.Reserved */\n",
              "body .kt { color: #B00040 } /* Keyword.Type */\n",
              "body .m { color: #666666 } /* Literal.Number */\n",
              "body .s { color: #BA2121 } /* Literal.String */\n",
              "body .na { color: #7D9029 } /* Name.Attribute */\n",
              "body .nb { color: #008000 } /* Name.Builtin */\n",
              "body .nc { color: #0000FF; font-weight: bold } /* Name.Class */\n",
              "body .no { color: #880000 } /* Name.Constant */\n",
              "body .nd { color: #AA22FF } /* Name.Decorator */\n",
              "body .ni { color: #999999; font-weight: bold } /* Name.Entity */\n",
              "body .ne { color: #D2413A; font-weight: bold } /* Name.Exception */\n",
              "body .nf { color: #0000FF } /* Name.Function */\n",
              "body .nl { color: #A0A000 } /* Name.Label */\n",
              "body .nn { color: #0000FF; font-weight: bold } /* Name.Namespace */\n",
              "body .nt { color: #008000; font-weight: bold } /* Name.Tag */\n",
              "body .nv { color: #19177C } /* Name.Variable */\n",
              "body .ow { color: #AA22FF; font-weight: bold } /* Operator.Word */\n",
              "body .w { color: #bbbbbb } /* Text.Whitespace */\n",
              "body .mb { color: #666666 } /* Literal.Number.Bin */\n",
              "body .mf { color: #666666 } /* Literal.Number.Float */\n",
              "body .mh { color: #666666 } /* Literal.Number.Hex */\n",
              "body .mi { color: #666666 } /* Literal.Number.Integer */\n",
              "body .mo { color: #666666 } /* Literal.Number.Oct */\n",
              "body .sa { color: #BA2121 } /* Literal.String.Affix */\n",
              "body .sb { color: #BA2121 } /* Literal.String.Backtick */\n",
              "body .sc { color: #BA2121 } /* Literal.String.Char */\n",
              "body .dl { color: #BA2121 } /* Literal.String.Delimiter */\n",
              "body .sd { color: #BA2121; font-style: italic } /* Literal.String.Doc */\n",
              "body .s2 { color: #BA2121 } /* Literal.String.Double */\n",
              "body .se { color: #BB6622; font-weight: bold } /* Literal.String.Escape */\n",
              "body .sh { color: #BA2121 } /* Literal.String.Heredoc */\n",
              "body .si { color: #BB6688; font-weight: bold } /* Literal.String.Interpol */\n",
              "body .sx { color: #008000 } /* Literal.String.Other */\n",
              "body .sr { color: #BB6688 } /* Literal.String.Regex */\n",
              "body .s1 { color: #BA2121 } /* Literal.String.Single */\n",
              "body .ss { color: #19177C } /* Literal.String.Symbol */\n",
              "body .bp { color: #008000 } /* Name.Builtin.Pseudo */\n",
              "body .fm { color: #0000FF } /* Name.Function.Magic */\n",
              "body .vc { color: #19177C } /* Name.Variable.Class */\n",
              "body .vg { color: #19177C } /* Name.Variable.Global */\n",
              "body .vi { color: #19177C } /* Name.Variable.Instance */\n",
              "body .vm { color: #19177C } /* Name.Variable.Magic */\n",
              "body .il { color: #666666 } /* Literal.Number.Integer.Long */\n",
              "\n",
              "  </style>\n",
              "</head>\n",
              "<body>\n",
              "<h2></h2>\n",
              "\n",
              "<div class=\"highlight\"><pre><span></span><span class=\"k\">def</span> <span class=\"nf\">fol_bc_and</span><span class=\"p\">(</span><span class=\"n\">KB</span><span class=\"p\">,</span> <span class=\"n\">goals</span><span class=\"p\">,</span> <span class=\"n\">theta</span><span class=\"p\">):</span>\n",
              "    <span class=\"k\">if</span> <span class=\"n\">theta</span> <span class=\"ow\">is</span> <span class=\"bp\">None</span><span class=\"p\">:</span>\n",
              "        <span class=\"k\">pass</span>\n",
              "    <span class=\"k\">elif</span> <span class=\"ow\">not</span> <span class=\"n\">goals</span><span class=\"p\">:</span>\n",
              "        <span class=\"k\">yield</span> <span class=\"n\">theta</span>\n",
              "    <span class=\"k\">else</span><span class=\"p\">:</span>\n",
              "        <span class=\"n\">first</span><span class=\"p\">,</span> <span class=\"n\">rest</span> <span class=\"o\">=</span> <span class=\"n\">goals</span><span class=\"p\">[</span><span class=\"mi\">0</span><span class=\"p\">],</span> <span class=\"n\">goals</span><span class=\"p\">[</span><span class=\"mi\">1</span><span class=\"p\">:]</span>\n",
              "        <span class=\"k\">for</span> <span class=\"n\">theta1</span> <span class=\"ow\">in</span> <span class=\"n\">fol_bc_or</span><span class=\"p\">(</span><span class=\"n\">KB</span><span class=\"p\">,</span> <span class=\"n\">subst</span><span class=\"p\">(</span><span class=\"n\">theta</span><span class=\"p\">,</span> <span class=\"n\">first</span><span class=\"p\">),</span> <span class=\"n\">theta</span><span class=\"p\">):</span>\n",
              "            <span class=\"k\">for</span> <span class=\"n\">theta2</span> <span class=\"ow\">in</span> <span class=\"n\">fol_bc_and</span><span class=\"p\">(</span><span class=\"n\">KB</span><span class=\"p\">,</span> <span class=\"n\">rest</span><span class=\"p\">,</span> <span class=\"n\">theta1</span><span class=\"p\">):</span>\n",
              "                <span class=\"k\">yield</span> <span class=\"n\">theta2</span>\n",
              "</pre></div>\n",
              "</body>\n",
              "</html>\n"
            ],
            "text/plain": [
              "<IPython.core.display.HTML object>"
            ]
          },
          "metadata": {},
          "output_type": "display_data"
        }
      ],
      "source": [
        "psource(fol_bc_and)"
      ]
    },
    {
      "cell_type": "markdown",
      "metadata": {
        "id": "w_XAXJuFWOXz"
      },
      "source": [
        "Now the main function `fl_bc_ask` calls `fol_bc_or` with substitution initialized as empty. The `ask` method of `FolKB` uses `fol_bc_ask` and fetches the first substitution returned by the generator to answer query. Let's query the knowledge base we created from `clauses` to find hostile nations."
      ]
    },
    {
      "cell_type": "code",
      "execution_count": null,
      "metadata": {
        "collapsed": true,
        "id": "szc2ll_ZWOXz"
      },
      "outputs": [],
      "source": [
        "# Rebuild KB because running fol_fc_ask would add new facts to the KB\n",
        "crime_kb = FolKB(clauses)"
      ]
    },
    {
      "cell_type": "code",
      "execution_count": null,
      "metadata": {
        "id": "8RmlB3tMWOXz",
        "outputId": "8b05182c-7b37-4661-ab81-810d5ecde452"
      },
      "outputs": [
        {
          "data": {
            "text/plain": [
              "{v_5: x, x: Nono}"
            ]
          },
          "execution_count": 90,
          "metadata": {},
          "output_type": "execute_result"
        }
      ],
      "source": [
        "crime_kb.ask(expr('Hostile(x)'))"
      ]
    },
    {
      "cell_type": "markdown",
      "metadata": {
        "id": "6SwUV8pdWOXz"
      },
      "source": [
        "You may notice some new variables in the substitution. They are introduced to standardize the variable names to prevent naming problems as discussed in the [Unification section](#Unification)"
      ]
    },
    {
      "cell_type": "markdown",
      "metadata": {
        "id": "XlnOZqZnWOXz"
      },
      "source": [
        "## Appendix: The Implementation of `|'==>'|`\n",
        "\n",
        "Consider the `Expr` formed by this syntax:"
      ]
    },
    {
      "cell_type": "code",
      "execution_count": null,
      "metadata": {
        "id": "Y2a1CPNwWOX0",
        "outputId": "47de72db-bed9-46b3-97f9-71f7831c23e4"
      },
      "outputs": [
        {
          "data": {
            "text/plain": [
              "(P ==> ~Q)"
            ]
          },
          "execution_count": 91,
          "metadata": {},
          "output_type": "execute_result"
        }
      ],
      "source": [
        "P |'==>'| ~Q"
      ]
    },
    {
      "cell_type": "markdown",
      "metadata": {
        "id": "WYAhDj8ZWOX0"
      },
      "source": [
        "What is the funny `|'==>'|` syntax? The trick is that \"`|`\" is just the regular Python or-operator, and so is exactly equivalent to this:"
      ]
    },
    {
      "cell_type": "code",
      "execution_count": null,
      "metadata": {
        "id": "krd-0UDCWOX0",
        "outputId": "b70fccc4-9135-4204-87bd-54dbeb1876bc"
      },
      "outputs": [
        {
          "data": {
            "text/plain": [
              "(P ==> ~Q)"
            ]
          },
          "execution_count": 92,
          "metadata": {},
          "output_type": "execute_result"
        }
      ],
      "source": [
        "(P | '==>') | ~Q"
      ]
    },
    {
      "cell_type": "markdown",
      "metadata": {
        "id": "30FnSFS0WOX0"
      },
      "source": [
        "In other words, there are two applications of or-operators. Here's the first one:"
      ]
    },
    {
      "cell_type": "code",
      "execution_count": null,
      "metadata": {
        "id": "kTAVcopUWOX0",
        "outputId": "b272d81c-9dc0-4250-d6ec-22908d3c9195"
      },
      "outputs": [
        {
          "data": {
            "text/plain": [
              "PartialExpr('==>', P)"
            ]
          },
          "execution_count": 93,
          "metadata": {},
          "output_type": "execute_result"
        }
      ],
      "source": [
        "P | '==>'"
      ]
    },
    {
      "cell_type": "markdown",
      "metadata": {
        "id": "UbS_NkKwWOX0"
      },
      "source": [
        "What is going on here is that the `__or__` method of `Expr` serves a dual purpose. If the right-hand-side is another `Expr` (or a number), then the result is an `Expr`, as in `(P | Q)`. But if the right-hand-side is a string, then the string is taken to be an operator, and we create a node in the abstract syntax tree corresponding to a partially-filled  `Expr`, one where we know the left-hand-side is `P` and the operator is `==>`, but we don't yet know the right-hand-side.\n",
        "\n",
        "The `PartialExpr` class has an `__or__` method that says to create an `Expr` node with the right-hand-side filled in. Here we can see the combination of the `PartialExpr` with `Q` to create a complete `Expr`:"
      ]
    },
    {
      "cell_type": "code",
      "execution_count": null,
      "metadata": {
        "id": "YWMQXkfZWOX0",
        "outputId": "20fb4bf4-c7dc-4256-c766-708fb7131458"
      },
      "outputs": [
        {
          "data": {
            "text/plain": [
              "(P ==> ~Q)"
            ]
          },
          "execution_count": 94,
          "metadata": {},
          "output_type": "execute_result"
        }
      ],
      "source": [
        "partial = PartialExpr('==>', P)\n",
        "partial | ~Q"
      ]
    },
    {
      "cell_type": "markdown",
      "metadata": {
        "id": "3cjYiFd-WOX0"
      },
      "source": [
        "This  [trick](http://code.activestate.com/recipes/384122-infix-operators/) is due to [Ferdinand Jamitzky](http://code.activestate.com/recipes/users/98863/), with a modification by [C. G. Vedant](https://github.com/Chipe1),\n",
        "who suggested using a string inside the or-bars.\n",
        "\n",
        "## Appendix: The Implementation of `expr`\n",
        "\n",
        "How does `expr` parse a string into an `Expr`? It turns out there are two tricks (besides the Jamitzky/Vedant trick):\n",
        "\n",
        "1. We do a string substitution, replacing \"`==>`\" with \"`|'==>'|`\" (and likewise for other operators).\n",
        "2. We `eval` the resulting string in an environment in which every identifier\n",
        "is bound to a symbol with that identifier as the `op`.\n",
        "\n",
        "In other words,"
      ]
    },
    {
      "cell_type": "code",
      "execution_count": null,
      "metadata": {
        "id": "NxPxQCaHWOX0",
        "outputId": "3e9d226c-e116-49a9-b8ab-4406738d1cd0"
      },
      "outputs": [
        {
          "data": {
            "text/plain": [
              "(~(P & Q) ==> (~P | ~Q))"
            ]
          },
          "execution_count": 95,
          "metadata": {},
          "output_type": "execute_result"
        }
      ],
      "source": [
        "expr('~(P & Q)  ==>  (~P | ~Q)')"
      ]
    },
    {
      "cell_type": "markdown",
      "metadata": {
        "id": "0cgPVKuDWOX0"
      },
      "source": [
        "is equivalent to doing:"
      ]
    },
    {
      "cell_type": "code",
      "execution_count": null,
      "metadata": {
        "id": "K-79OIwPWOX0",
        "outputId": "d5c18505-3a79-4f78-e13b-d693719c8b19"
      },
      "outputs": [
        {
          "data": {
            "text/plain": [
              "(~(P & Q) ==> (~P | ~Q))"
            ]
          },
          "execution_count": 96,
          "metadata": {},
          "output_type": "execute_result"
        }
      ],
      "source": [
        "P, Q = symbols('P, Q')\n",
        "~(P & Q)  |'==>'|  (~P | ~Q)"
      ]
    },
    {
      "cell_type": "markdown",
      "metadata": {
        "id": "-RRWQ2meWOX0"
      },
      "source": [
        "One thing to beware of: this puts `==>` at the same precedence level as `\"|\"`, which is not quite right. For example, we get this:"
      ]
    },
    {
      "cell_type": "code",
      "execution_count": null,
      "metadata": {
        "id": "8IvcDveNWOX0",
        "outputId": "300a99bd-4189-426f-fa29-bd9a47f9b1eb"
      },
      "outputs": [
        {
          "data": {
            "text/plain": [
              "(((P & Q) ==> P) | Q)"
            ]
          },
          "execution_count": 97,
          "metadata": {},
          "output_type": "execute_result"
        }
      ],
      "source": [
        "P & Q  |'==>'|  P | Q"
      ]
    },
    {
      "cell_type": "markdown",
      "metadata": {
        "id": "bAynatLyWOX0"
      },
      "source": [
        "which is probably not what we meant; when in doubt, put in extra parens:"
      ]
    },
    {
      "cell_type": "code",
      "execution_count": null,
      "metadata": {
        "id": "SwN3gKcSWOX0",
        "outputId": "798b2eb3-8927-403b-d2fe-20a0b344794b"
      },
      "outputs": [
        {
          "data": {
            "text/plain": [
              "((P & Q) ==> (P | Q))"
            ]
          },
          "execution_count": 98,
          "metadata": {},
          "output_type": "execute_result"
        }
      ],
      "source": [
        "(P & Q)  |'==>'|  (P | Q)"
      ]
    },
    {
      "cell_type": "markdown",
      "metadata": {
        "id": "EnhXRJ6oWOX0"
      },
      "source": [
        "## Examples"
      ]
    },
    {
      "cell_type": "code",
      "execution_count": null,
      "metadata": {
        "id": "Y4sSxjJaWOX0",
        "outputId": "642d670b-5ad6-4fb4-8d87-e606ee8c508d"
      },
      "outputs": [
        {
          "data": {
            "text/html": [
              "\n",
              "<script type=\"text/javascript\" src=\"./js/canvas.js\"></script>\n",
              "<div>\n",
              "<canvas id=\"canvas_bc_ask\" width=\"800\" height=\"600\" style=\"background:rgba(158, 167, 184, 0.2);\" onclick='click_callback(this, event, \"canvas_bc_ask\")'></canvas>\n",
              "</div>\n",
              "\n",
              "<script> var canvas_bc_ask_canvas_object = new Canvas(\"canvas_bc_ask\");</script>\n"
            ],
            "text/plain": [
              "<IPython.core.display.HTML object>"
            ]
          },
          "metadata": {},
          "output_type": "display_data"
        },
        {
          "data": {
            "text/html": [
              "<script>\n",
              "canvas_bc_ask_canvas_object.clear();\n",
              "canvas_bc_ask_canvas_object.strokeWidth(3);\n",
              "canvas_bc_ask_canvas_object.stroke(0, 0, 0);\n",
              "canvas_bc_ask_canvas_object.font(\"12px Arial\");\n",
              "canvas_bc_ask_canvas_object.fill(200, 200, 200);\n",
              "canvas_bc_ask_canvas_object.rect(340, 85, 120, 30);\n",
              "canvas_bc_ask_canvas_object.line(340, 85, 460, 85);\n",
              "canvas_bc_ask_canvas_object.line(340, 85, 340, 115);\n",
              "canvas_bc_ask_canvas_object.line(460, 85, 460, 115);\n",
              "canvas_bc_ask_canvas_object.line(340, 115, 460, 115);\n",
              "canvas_bc_ask_canvas_object.fill(0, 0, 0);\n",
              "canvas_bc_ask_canvas_object.fill_text(\"Criminal(West)\", 348, 109);\n",
              "canvas_bc_ask_canvas_object.fill(200, 200, 200);\n",
              "canvas_bc_ask_canvas_object.rect(55, 255, 120, 30);\n",
              "canvas_bc_ask_canvas_object.line(55, 255, 175, 255);\n",
              "canvas_bc_ask_canvas_object.line(55, 255, 55, 285);\n",
              "canvas_bc_ask_canvas_object.line(175, 255, 175, 285);\n",
              "canvas_bc_ask_canvas_object.line(55, 285, 175, 285);\n",
              "canvas_bc_ask_canvas_object.fill(0, 0, 0);\n",
              "canvas_bc_ask_canvas_object.fill_text(\"American(West)\", 63, 279);\n",
              "canvas_bc_ask_canvas_object.fill(200, 200, 200);\n",
              "canvas_bc_ask_canvas_object.rect(245, 255, 120, 30);\n",
              "canvas_bc_ask_canvas_object.line(245, 255, 365, 255);\n",
              "canvas_bc_ask_canvas_object.line(245, 255, 245, 285);\n",
              "canvas_bc_ask_canvas_object.line(365, 255, 365, 285);\n",
              "canvas_bc_ask_canvas_object.line(245, 285, 365, 285);\n",
              "canvas_bc_ask_canvas_object.fill(0, 0, 0);\n",
              "canvas_bc_ask_canvas_object.fill_text(\"Weapon(M1)\", 253, 279);\n",
              "canvas_bc_ask_canvas_object.fill(200, 200, 200);\n",
              "canvas_bc_ask_canvas_object.rect(435, 255, 120, 30);\n",
              "canvas_bc_ask_canvas_object.line(435, 255, 555, 255);\n",
              "canvas_bc_ask_canvas_object.line(435, 255, 435, 285);\n",
              "canvas_bc_ask_canvas_object.line(555, 255, 555, 285);\n",
              "canvas_bc_ask_canvas_object.line(435, 285, 555, 285);\n",
              "canvas_bc_ask_canvas_object.fill(0, 0, 0);\n",
              "canvas_bc_ask_canvas_object.fill_text(\"Sells(West, M1, Nono)\", 443, 279);\n",
              "canvas_bc_ask_canvas_object.fill(200, 200, 200);\n",
              "canvas_bc_ask_canvas_object.rect(625, 255, 120, 30);\n",
              "canvas_bc_ask_canvas_object.line(625, 255, 745, 255);\n",
              "canvas_bc_ask_canvas_object.line(625, 255, 625, 285);\n",
              "canvas_bc_ask_canvas_object.line(745, 255, 745, 285);\n",
              "canvas_bc_ask_canvas_object.line(625, 285, 745, 285);\n",
              "canvas_bc_ask_canvas_object.fill(0, 0, 0);\n",
              "canvas_bc_ask_canvas_object.fill_text(\"Hostile(Nono)\", 633, 279);\n",
              "canvas_bc_ask_canvas_object.fill(200, 200, 200);\n",
              "canvas_bc_ask_canvas_object.rect(55, 425, 120, 30);\n",
              "canvas_bc_ask_canvas_object.line(55, 425, 175, 425);\n",
              "canvas_bc_ask_canvas_object.line(55, 425, 55, 455);\n",
              "canvas_bc_ask_canvas_object.line(175, 425, 175, 455);\n",
              "canvas_bc_ask_canvas_object.line(55, 455, 175, 455);\n",
              "canvas_bc_ask_canvas_object.fill(0, 0, 0);\n",
              "canvas_bc_ask_canvas_object.fill_text(\"Missile(M1)\", 63, 449);\n",
              "canvas_bc_ask_canvas_object.fill(200, 200, 200);\n",
              "canvas_bc_ask_canvas_object.rect(245, 425, 120, 30);\n",
              "canvas_bc_ask_canvas_object.line(245, 425, 365, 425);\n",
              "canvas_bc_ask_canvas_object.line(245, 425, 245, 455);\n",
              "canvas_bc_ask_canvas_object.line(365, 425, 365, 455);\n",
              "canvas_bc_ask_canvas_object.line(245, 455, 365, 455);\n",
              "canvas_bc_ask_canvas_object.fill(0, 0, 0);\n",
              "canvas_bc_ask_canvas_object.fill_text(\"Missile(M1)\", 253, 449);\n",
              "canvas_bc_ask_canvas_object.fill(200, 200, 200);\n",
              "canvas_bc_ask_canvas_object.rect(435, 425, 120, 30);\n",
              "canvas_bc_ask_canvas_object.line(435, 425, 555, 425);\n",
              "canvas_bc_ask_canvas_object.line(435, 425, 435, 455);\n",
              "canvas_bc_ask_canvas_object.line(555, 425, 555, 455);\n",
              "canvas_bc_ask_canvas_object.line(435, 455, 555, 455);\n",
              "canvas_bc_ask_canvas_object.fill(0, 0, 0);\n",
              "canvas_bc_ask_canvas_object.fill_text(\"Owns(Nono, M1)\", 443, 449);\n",
              "canvas_bc_ask_canvas_object.fill(200, 200, 200);\n",
              "canvas_bc_ask_canvas_object.rect(625, 425, 120, 30);\n",
              "canvas_bc_ask_canvas_object.line(625, 425, 745, 425);\n",
              "canvas_bc_ask_canvas_object.line(625, 425, 625, 455);\n",
              "canvas_bc_ask_canvas_object.line(745, 425, 745, 455);\n",
              "canvas_bc_ask_canvas_object.line(625, 455, 745, 455);\n",
              "canvas_bc_ask_canvas_object.fill(0, 0, 0);\n",
              "canvas_bc_ask_canvas_object.fill_text(\"Enemy(Nono, America)\", 633, 449);\n",
              "canvas_bc_ask_canvas_object.line(400, 115, 495, 255);\n",
              "canvas_bc_ask_canvas_object.line(305, 285, 115, 425);\n",
              "canvas_bc_ask_canvas_object.line(495, 285, 305, 425);\n",
              "canvas_bc_ask_canvas_object.line(685, 285, 685, 425);\n",
              "canvas_bc_ask_canvas_object.line(400, 115, 685, 255);\n",
              "canvas_bc_ask_canvas_object.line(400, 115, 305, 255);\n",
              "canvas_bc_ask_canvas_object.line(400, 115, 115, 255);\n",
              "canvas_bc_ask_canvas_object.line(495, 285, 495, 425);\n",
              "canvas_bc_ask_canvas_object.fill(255, 255, 255);\n",
              "canvas_bc_ask_canvas_object.rect(0, 540, 800, 60);\n",
              "canvas_bc_ask_canvas_object.strokeWidth(5);\n",
              "canvas_bc_ask_canvas_object.stroke(0, 0, 0);\n",
              "canvas_bc_ask_canvas_object.line(0, 540, 800, 540);\n",
              "canvas_bc_ask_canvas_object.font(\"22px Arial\");\n",
              "canvas_bc_ask_canvas_object.fill(0, 0, 0);\n",
              "canvas_bc_ask_canvas_object.fill_text(\"Click for text\", 20, 585);\n",
              "</script>"
            ],
            "text/plain": [
              "<IPython.core.display.HTML object>"
            ]
          },
          "metadata": {},
          "output_type": "display_data"
        }
      ],
      "source": [
        "from notebook import Canvas_fol_bc_ask\n",
        "canvas_bc_ask = Canvas_fol_bc_ask('canvas_bc_ask', crime_kb, expr('Criminal(x)'))"
      ]
    },
    {
      "cell_type": "markdown",
      "metadata": {
        "collapsed": true,
        "id": "sPAPllbNWOX0"
      },
      "source": [
        "# Authors\n",
        "\n",
        "This notebook by [Chirag Vartak](https://github.com/chiragvartak) and [Peter Norvig](https://github.com/norvig).\n",
        "\n"
      ]
    }
  ],
  "metadata": {
    "kernelspec": {
      "display_name": "Python 3",
      "language": "python",
      "name": "python3"
    },
    "language_info": {
      "codemirror_mode": {
        "name": "ipython",
        "version": 3
      },
      "file_extension": ".py",
      "mimetype": "text/x-python",
      "name": "python",
      "nbconvert_exporter": "python",
      "pygments_lexer": "ipython3",
      "version": "3.6.1"
    },
    "colab": {
      "provenance": [],
      "toc_visible": true
    }
  },
  "nbformat": 4,
  "nbformat_minor": 0
}