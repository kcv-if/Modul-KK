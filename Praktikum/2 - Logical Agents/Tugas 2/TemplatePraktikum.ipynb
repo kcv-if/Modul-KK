{
  "cells": [
    {
      "cell_type": "markdown",
      "metadata": {
        "id": "b9ajJ8A9wCMy"
      },
      "source": [
        "# Prakitkum Kecerdasan Komputasional 🤖\n",
        "<b>Notebook ini hanya berupa template, silahkan bisa dijadikan referensi. Soalnya di file pdf sebelumnya ya 💐</b>\n",
        "\n",
        "Written by: Dipo & Farhan\n",
        "\n",
        "Special Thanks to: Faiz "
      ]
    },
    {
      "cell_type": "markdown",
      "metadata": {
        "id": "vfyddv7V2pCq"
      },
      "source": [
        "## Project Setup 📐"
      ]
    },
    {
      "cell_type": "code",
      "execution_count": null,
      "metadata": {
        "colab": {
          "base_uri": "https://localhost:8080/"
        },
        "id": "PQVsTolW4kzn",
        "outputId": "7a3c5535-0386-4b8a-8fe6-805fdb194ae0"
      },
      "outputs": [
        {
          "name": "stdout",
          "output_type": "stream",
          "text": [
            "Reading package lists... Done\n",
            "Building dependency tree... Done\n",
            "Reading state information... Done\n",
            "git is already the newest version (1:2.34.1-1ubuntu1.15).\n",
            "0 upgraded, 0 newly installed, 0 to remove and 35 not upgraded.\n"
          ]
        }
      ],
      "source": [
        "!sudo apt install git"
      ]
    },
    {
      "cell_type": "code",
      "execution_count": null,
      "metadata": {
        "colab": {
          "base_uri": "https://localhost:8080/"
        },
        "id": "Du--G3YV4m7h",
        "outputId": "c9a7b208-0330-4a76-e6a7-c8ffc4b4345b"
      },
      "outputs": [
        {
          "name": "stdout",
          "output_type": "stream",
          "text": [
            "Collecting ipythonblocks\n",
            "  Downloading ipythonblocks-1.9.1-py2.py3-none-any.whl.metadata (4.4 kB)\n",
            "Requirement already satisfied: ipython>=4.0 in /usr/local/lib/python3.12/dist-packages (from ipythonblocks) (7.34.0)\n",
            "Requirement already satisfied: notebook>=4.0 in /usr/local/lib/python3.12/dist-packages (from ipythonblocks) (6.5.7)\n",
            "Requirement already satisfied: requests>=1.0 in /usr/local/lib/python3.12/dist-packages (from ipythonblocks) (2.32.4)\n",
            "Requirement already satisfied: setuptools>=18.5 in /usr/local/lib/python3.12/dist-packages (from ipython>=4.0->ipythonblocks) (75.2.0)\n",
            "Collecting jedi>=0.16 (from ipython>=4.0->ipythonblocks)\n",
            "  Downloading jedi-0.19.2-py2.py3-none-any.whl.metadata (22 kB)\n",
            "Requirement already satisfied: decorator in /usr/local/lib/python3.12/dist-packages (from ipython>=4.0->ipythonblocks) (4.4.2)\n",
            "Requirement already satisfied: pickleshare in /usr/local/lib/python3.12/dist-packages (from ipython>=4.0->ipythonblocks) (0.7.5)\n",
            "Requirement already satisfied: traitlets>=4.2 in /usr/local/lib/python3.12/dist-packages (from ipython>=4.0->ipythonblocks) (5.7.1)\n",
            "Requirement already satisfied: prompt-toolkit!=3.0.0,!=3.0.1,<3.1.0,>=2.0.0 in /usr/local/lib/python3.12/dist-packages (from ipython>=4.0->ipythonblocks) (3.0.52)\n",
            "Requirement already satisfied: pygments in /usr/local/lib/python3.12/dist-packages (from ipython>=4.0->ipythonblocks) (2.19.2)\n",
            "Requirement already satisfied: backcall in /usr/local/lib/python3.12/dist-packages (from ipython>=4.0->ipythonblocks) (0.2.0)\n",
            "Requirement already satisfied: matplotlib-inline in /usr/local/lib/python3.12/dist-packages (from ipython>=4.0->ipythonblocks) (0.1.7)\n",
            "Requirement already satisfied: pexpect>4.3 in /usr/local/lib/python3.12/dist-packages (from ipython>=4.0->ipythonblocks) (4.9.0)\n",
            "Requirement already satisfied: jinja2 in /usr/local/lib/python3.12/dist-packages (from notebook>=4.0->ipythonblocks) (3.1.6)\n",
            "Requirement already satisfied: tornado>=6.1 in /usr/local/lib/python3.12/dist-packages (from notebook>=4.0->ipythonblocks) (6.4.2)\n",
            "Requirement already satisfied: pyzmq>=17 in /usr/local/lib/python3.12/dist-packages (from notebook>=4.0->ipythonblocks) (26.2.1)\n",
            "Requirement already satisfied: argon2-cffi in /usr/local/lib/python3.12/dist-packages (from notebook>=4.0->ipythonblocks) (25.1.0)\n",
            "Requirement already satisfied: jupyter-core>=4.6.1 in /usr/local/lib/python3.12/dist-packages (from notebook>=4.0->ipythonblocks) (5.8.1)\n",
            "Requirement already satisfied: jupyter-client<8,>=5.3.4 in /usr/local/lib/python3.12/dist-packages (from notebook>=4.0->ipythonblocks) (7.4.9)\n",
            "Requirement already satisfied: ipython-genutils in /usr/local/lib/python3.12/dist-packages (from notebook>=4.0->ipythonblocks) (0.2.0)\n",
            "Requirement already satisfied: nbformat in /usr/local/lib/python3.12/dist-packages (from notebook>=4.0->ipythonblocks) (5.10.4)\n",
            "Requirement already satisfied: nbconvert>=5 in /usr/local/lib/python3.12/dist-packages (from notebook>=4.0->ipythonblocks) (7.16.6)\n",
            "Requirement already satisfied: nest-asyncio>=1.5 in /usr/local/lib/python3.12/dist-packages (from notebook>=4.0->ipythonblocks) (1.6.0)\n",
            "Requirement already satisfied: ipykernel in /usr/local/lib/python3.12/dist-packages (from notebook>=4.0->ipythonblocks) (6.17.1)\n",
            "Requirement already satisfied: Send2Trash>=1.8.0 in /usr/local/lib/python3.12/dist-packages (from notebook>=4.0->ipythonblocks) (1.8.3)\n",
            "Requirement already satisfied: terminado>=0.8.3 in /usr/local/lib/python3.12/dist-packages (from notebook>=4.0->ipythonblocks) (0.18.1)\n",
            "Requirement already satisfied: prometheus-client in /usr/local/lib/python3.12/dist-packages (from notebook>=4.0->ipythonblocks) (0.22.1)\n",
            "Requirement already satisfied: nbclassic>=0.4.7 in /usr/local/lib/python3.12/dist-packages (from notebook>=4.0->ipythonblocks) (1.3.2)\n",
            "Requirement already satisfied: charset_normalizer<4,>=2 in /usr/local/lib/python3.12/dist-packages (from requests>=1.0->ipythonblocks) (3.4.3)\n",
            "Requirement already satisfied: idna<4,>=2.5 in /usr/local/lib/python3.12/dist-packages (from requests>=1.0->ipythonblocks) (3.10)\n",
            "Requirement already satisfied: urllib3<3,>=1.21.1 in /usr/local/lib/python3.12/dist-packages (from requests>=1.0->ipythonblocks) (2.5.0)\n",
            "Requirement already satisfied: certifi>=2017.4.17 in /usr/local/lib/python3.12/dist-packages (from requests>=1.0->ipythonblocks) (2025.8.3)\n",
            "Requirement already satisfied: parso<0.9.0,>=0.8.4 in /usr/local/lib/python3.12/dist-packages (from jedi>=0.16->ipython>=4.0->ipythonblocks) (0.8.5)\n",
            "Requirement already satisfied: entrypoints in /usr/local/lib/python3.12/dist-packages (from jupyter-client<8,>=5.3.4->notebook>=4.0->ipythonblocks) (0.4)\n",
            "Requirement already satisfied: python-dateutil>=2.8.2 in /usr/local/lib/python3.12/dist-packages (from jupyter-client<8,>=5.3.4->notebook>=4.0->ipythonblocks) (2.9.0.post0)\n",
            "Requirement already satisfied: platformdirs>=2.5 in /usr/local/lib/python3.12/dist-packages (from jupyter-core>=4.6.1->notebook>=4.0->ipythonblocks) (4.4.0)\n",
            "Requirement already satisfied: notebook-shim>=0.2.3 in /usr/local/lib/python3.12/dist-packages (from nbclassic>=0.4.7->notebook>=4.0->ipythonblocks) (0.2.4)\n",
            "Requirement already satisfied: beautifulsoup4 in /usr/local/lib/python3.12/dist-packages (from nbconvert>=5->notebook>=4.0->ipythonblocks) (4.13.5)\n",
            "Requirement already satisfied: bleach!=5.0.0 in /usr/local/lib/python3.12/dist-packages (from bleach[css]!=5.0.0->nbconvert>=5->notebook>=4.0->ipythonblocks) (6.2.0)\n",
            "Requirement already satisfied: defusedxml in /usr/local/lib/python3.12/dist-packages (from nbconvert>=5->notebook>=4.0->ipythonblocks) (0.7.1)\n",
            "Requirement already satisfied: jupyterlab-pygments in /usr/local/lib/python3.12/dist-packages (from nbconvert>=5->notebook>=4.0->ipythonblocks) (0.3.0)\n",
            "Requirement already satisfied: markupsafe>=2.0 in /usr/local/lib/python3.12/dist-packages (from nbconvert>=5->notebook>=4.0->ipythonblocks) (3.0.2)\n",
            "Requirement already satisfied: mistune<4,>=2.0.3 in /usr/local/lib/python3.12/dist-packages (from nbconvert>=5->notebook>=4.0->ipythonblocks) (3.1.4)\n",
            "Requirement already satisfied: nbclient>=0.5.0 in /usr/local/lib/python3.12/dist-packages (from nbconvert>=5->notebook>=4.0->ipythonblocks) (0.10.2)\n",
            "Requirement already satisfied: packaging in /usr/local/lib/python3.12/dist-packages (from nbconvert>=5->notebook>=4.0->ipythonblocks) (25.0)\n",
            "Requirement already satisfied: pandocfilters>=1.4.1 in /usr/local/lib/python3.12/dist-packages (from nbconvert>=5->notebook>=4.0->ipythonblocks) (1.5.1)\n",
            "Requirement already satisfied: fastjsonschema>=2.15 in /usr/local/lib/python3.12/dist-packages (from nbformat->notebook>=4.0->ipythonblocks) (2.21.2)\n",
            "Requirement already satisfied: jsonschema>=2.6 in /usr/local/lib/python3.12/dist-packages (from nbformat->notebook>=4.0->ipythonblocks) (4.25.1)\n",
            "Requirement already satisfied: ptyprocess>=0.5 in /usr/local/lib/python3.12/dist-packages (from pexpect>4.3->ipython>=4.0->ipythonblocks) (0.7.0)\n",
            "Requirement already satisfied: wcwidth in /usr/local/lib/python3.12/dist-packages (from prompt-toolkit!=3.0.0,!=3.0.1,<3.1.0,>=2.0.0->ipython>=4.0->ipythonblocks) (0.2.13)\n",
            "Requirement already satisfied: argon2-cffi-bindings in /usr/local/lib/python3.12/dist-packages (from argon2-cffi->notebook>=4.0->ipythonblocks) (25.1.0)\n",
            "Requirement already satisfied: debugpy>=1.0 in /usr/local/lib/python3.12/dist-packages (from ipykernel->notebook>=4.0->ipythonblocks) (1.8.15)\n",
            "Requirement already satisfied: psutil in /usr/local/lib/python3.12/dist-packages (from ipykernel->notebook>=4.0->ipythonblocks) (5.9.5)\n",
            "Requirement already satisfied: webencodings in /usr/local/lib/python3.12/dist-packages (from bleach!=5.0.0->bleach[css]!=5.0.0->nbconvert>=5->notebook>=4.0->ipythonblocks) (0.5.1)\n",
            "Requirement already satisfied: tinycss2<1.5,>=1.1.0 in /usr/local/lib/python3.12/dist-packages (from bleach[css]!=5.0.0->nbconvert>=5->notebook>=4.0->ipythonblocks) (1.4.0)\n",
            "Requirement already satisfied: attrs>=22.2.0 in /usr/local/lib/python3.12/dist-packages (from jsonschema>=2.6->nbformat->notebook>=4.0->ipythonblocks) (25.3.0)\n",
            "Requirement already satisfied: jsonschema-specifications>=2023.03.6 in /usr/local/lib/python3.12/dist-packages (from jsonschema>=2.6->nbformat->notebook>=4.0->ipythonblocks) (2025.4.1)\n",
            "Requirement already satisfied: referencing>=0.28.4 in /usr/local/lib/python3.12/dist-packages (from jsonschema>=2.6->nbformat->notebook>=4.0->ipythonblocks) (0.36.2)\n",
            "Requirement already satisfied: rpds-py>=0.7.1 in /usr/local/lib/python3.12/dist-packages (from jsonschema>=2.6->nbformat->notebook>=4.0->ipythonblocks) (0.27.1)\n",
            "Requirement already satisfied: jupyter-server<3,>=1.8 in /usr/local/lib/python3.12/dist-packages (from notebook-shim>=0.2.3->nbclassic>=0.4.7->notebook>=4.0->ipythonblocks) (2.14.0)\n",
            "Requirement already satisfied: six>=1.5 in /usr/local/lib/python3.12/dist-packages (from python-dateutil>=2.8.2->jupyter-client<8,>=5.3.4->notebook>=4.0->ipythonblocks) (1.17.0)\n",
            "Requirement already satisfied: cffi>=1.0.1 in /usr/local/lib/python3.12/dist-packages (from argon2-cffi-bindings->argon2-cffi->notebook>=4.0->ipythonblocks) (1.17.1)\n",
            "Requirement already satisfied: soupsieve>1.2 in /usr/local/lib/python3.12/dist-packages (from beautifulsoup4->nbconvert>=5->notebook>=4.0->ipythonblocks) (2.8)\n",
            "Requirement already satisfied: typing-extensions>=4.0.0 in /usr/local/lib/python3.12/dist-packages (from beautifulsoup4->nbconvert>=5->notebook>=4.0->ipythonblocks) (4.15.0)\n",
            "Requirement already satisfied: pycparser in /usr/local/lib/python3.12/dist-packages (from cffi>=1.0.1->argon2-cffi-bindings->argon2-cffi->notebook>=4.0->ipythonblocks) (2.22)\n",
            "Requirement already satisfied: anyio>=3.1.0 in /usr/local/lib/python3.12/dist-packages (from jupyter-server<3,>=1.8->notebook-shim>=0.2.3->nbclassic>=0.4.7->notebook>=4.0->ipythonblocks) (4.10.0)\n",
            "Requirement already satisfied: jupyter-events>=0.9.0 in /usr/local/lib/python3.12/dist-packages (from jupyter-server<3,>=1.8->notebook-shim>=0.2.3->nbclassic>=0.4.7->notebook>=4.0->ipythonblocks) (0.12.0)\n",
            "Requirement already satisfied: jupyter-server-terminals>=0.4.4 in /usr/local/lib/python3.12/dist-packages (from jupyter-server<3,>=1.8->notebook-shim>=0.2.3->nbclassic>=0.4.7->notebook>=4.0->ipythonblocks) (0.5.3)\n",
            "Requirement already satisfied: overrides>=5.0 in /usr/local/lib/python3.12/dist-packages (from jupyter-server<3,>=1.8->notebook-shim>=0.2.3->nbclassic>=0.4.7->notebook>=4.0->ipythonblocks) (7.7.0)\n",
            "Requirement already satisfied: websocket-client>=1.7 in /usr/local/lib/python3.12/dist-packages (from jupyter-server<3,>=1.8->notebook-shim>=0.2.3->nbclassic>=0.4.7->notebook>=4.0->ipythonblocks) (1.8.0)\n",
            "Requirement already satisfied: sniffio>=1.1 in /usr/local/lib/python3.12/dist-packages (from anyio>=3.1.0->jupyter-server<3,>=1.8->notebook-shim>=0.2.3->nbclassic>=0.4.7->notebook>=4.0->ipythonblocks) (1.3.1)\n",
            "Requirement already satisfied: python-json-logger>=2.0.4 in /usr/local/lib/python3.12/dist-packages (from jupyter-events>=0.9.0->jupyter-server<3,>=1.8->notebook-shim>=0.2.3->nbclassic>=0.4.7->notebook>=4.0->ipythonblocks) (3.3.0)\n",
            "Requirement already satisfied: pyyaml>=5.3 in /usr/local/lib/python3.12/dist-packages (from jupyter-events>=0.9.0->jupyter-server<3,>=1.8->notebook-shim>=0.2.3->nbclassic>=0.4.7->notebook>=4.0->ipythonblocks) (6.0.2)\n",
            "Requirement already satisfied: rfc3339-validator in /usr/local/lib/python3.12/dist-packages (from jupyter-events>=0.9.0->jupyter-server<3,>=1.8->notebook-shim>=0.2.3->nbclassic>=0.4.7->notebook>=4.0->ipythonblocks) (0.1.4)\n",
            "Requirement already satisfied: rfc3986-validator>=0.1.1 in /usr/local/lib/python3.12/dist-packages (from jupyter-events>=0.9.0->jupyter-server<3,>=1.8->notebook-shim>=0.2.3->nbclassic>=0.4.7->notebook>=4.0->ipythonblocks) (0.1.1)\n",
            "Requirement already satisfied: fqdn in /usr/local/lib/python3.12/dist-packages (from jsonschema[format-nongpl]>=4.18.0->jupyter-events>=0.9.0->jupyter-server<3,>=1.8->notebook-shim>=0.2.3->nbclassic>=0.4.7->notebook>=4.0->ipythonblocks) (1.5.1)\n",
            "Requirement already satisfied: isoduration in /usr/local/lib/python3.12/dist-packages (from jsonschema[format-nongpl]>=4.18.0->jupyter-events>=0.9.0->jupyter-server<3,>=1.8->notebook-shim>=0.2.3->nbclassic>=0.4.7->notebook>=4.0->ipythonblocks) (20.11.0)\n",
            "Requirement already satisfied: jsonpointer>1.13 in /usr/local/lib/python3.12/dist-packages (from jsonschema[format-nongpl]>=4.18.0->jupyter-events>=0.9.0->jupyter-server<3,>=1.8->notebook-shim>=0.2.3->nbclassic>=0.4.7->notebook>=4.0->ipythonblocks) (3.0.0)\n",
            "Requirement already satisfied: rfc3987-syntax>=1.1.0 in /usr/local/lib/python3.12/dist-packages (from jsonschema[format-nongpl]>=4.18.0->jupyter-events>=0.9.0->jupyter-server<3,>=1.8->notebook-shim>=0.2.3->nbclassic>=0.4.7->notebook>=4.0->ipythonblocks) (1.1.0)\n",
            "Requirement already satisfied: uri-template in /usr/local/lib/python3.12/dist-packages (from jsonschema[format-nongpl]>=4.18.0->jupyter-events>=0.9.0->jupyter-server<3,>=1.8->notebook-shim>=0.2.3->nbclassic>=0.4.7->notebook>=4.0->ipythonblocks) (1.3.0)\n",
            "Requirement already satisfied: webcolors>=24.6.0 in /usr/local/lib/python3.12/dist-packages (from jsonschema[format-nongpl]>=4.18.0->jupyter-events>=0.9.0->jupyter-server<3,>=1.8->notebook-shim>=0.2.3->nbclassic>=0.4.7->notebook>=4.0->ipythonblocks) (24.11.1)\n",
            "Requirement already satisfied: lark>=1.2.2 in /usr/local/lib/python3.12/dist-packages (from rfc3987-syntax>=1.1.0->jsonschema[format-nongpl]>=4.18.0->jupyter-events>=0.9.0->jupyter-server<3,>=1.8->notebook-shim>=0.2.3->nbclassic>=0.4.7->notebook>=4.0->ipythonblocks) (1.2.2)\n",
            "Requirement already satisfied: arrow>=0.15.0 in /usr/local/lib/python3.12/dist-packages (from isoduration->jsonschema[format-nongpl]>=4.18.0->jupyter-events>=0.9.0->jupyter-server<3,>=1.8->notebook-shim>=0.2.3->nbclassic>=0.4.7->notebook>=4.0->ipythonblocks) (1.3.0)\n",
            "Requirement already satisfied: types-python-dateutil>=2.8.10 in /usr/local/lib/python3.12/dist-packages (from arrow>=0.15.0->isoduration->jsonschema[format-nongpl]>=4.18.0->jupyter-events>=0.9.0->jupyter-server<3,>=1.8->notebook-shim>=0.2.3->nbclassic>=0.4.7->notebook>=4.0->ipythonblocks) (2.9.0.20250822)\n",
            "Downloading ipythonblocks-1.9.1-py2.py3-none-any.whl (14 kB)\n",
            "Downloading jedi-0.19.2-py2.py3-none-any.whl (1.6 MB)\n",
            "\u001b[2K   \u001b[90m━━━━━━━━━━━━━━━━━━━━━━━━━━━━━━━━━━━━━━━━\u001b[0m \u001b[32m1.6/1.6 MB\u001b[0m \u001b[31m21.8 MB/s\u001b[0m eta \u001b[36m0:00:00\u001b[0m\n",
            "\u001b[?25hInstalling collected packages: jedi, ipythonblocks\n",
            "Successfully installed ipythonblocks-1.9.1 jedi-0.19.2\n",
            "Collecting qpsolvers\n",
            "  Downloading qpsolvers-4.8.1-py3-none-any.whl.metadata (12 kB)\n",
            "Requirement already satisfied: numpy>=1.15.4 in /usr/local/lib/python3.12/dist-packages (from qpsolvers) (2.0.2)\n",
            "Requirement already satisfied: scipy>=1.2.0 in /usr/local/lib/python3.12/dist-packages (from qpsolvers) (1.16.1)\n",
            "Downloading qpsolvers-4.8.1-py3-none-any.whl (92 kB)\n",
            "\u001b[2K   \u001b[90m━━━━━━━━━━━━━━━━━━━━━━━━━━━━━━━━━━━━━━━━\u001b[0m \u001b[32m92.1/92.1 kB\u001b[0m \u001b[31m2.6 MB/s\u001b[0m eta \u001b[36m0:00:00\u001b[0m\n",
            "\u001b[?25hInstalling collected packages: qpsolvers\n",
            "Successfully installed qpsolvers-4.8.1\n",
            "Collecting catppuccin\n",
            "  Downloading catppuccin-2.5.0-py3-none-any.whl.metadata (4.7 kB)\n",
            "Downloading catppuccin-2.5.0-py3-none-any.whl (19 kB)\n",
            "Installing collected packages: catppuccin\n",
            "Successfully installed catppuccin-2.5.0\n",
            "Requirement already satisfied: catppuccin[pygments] in /usr/local/lib/python3.12/dist-packages (2.5.0)\n",
            "Requirement already satisfied: pygments>=2.17.2 in /usr/local/lib/python3.12/dist-packages (from catppuccin[pygments]) (2.19.2)\n",
            "Requirement already satisfied: tabulate in /usr/local/lib/python3.12/dist-packages (0.9.0)\n"
          ]
        }
      ],
      "source": [
        "!pip install ipythonblocks\n",
        "!pip install qpsolvers\n",
        "!pip install catppuccin\n",
        "!pip install catppuccin[pygments]\n",
        "!pip install tabulate"
      ]
    },
    {
      "cell_type": "code",
      "execution_count": null,
      "metadata": {
        "colab": {
          "base_uri": "https://localhost:8080/"
        },
        "id": "GahT-9zr4pPL",
        "outputId": "6c451379-d036-41f4-a99b-cdb062fa397b"
      },
      "outputs": [
        {
          "name": "stdout",
          "output_type": "stream",
          "text": [
            "/content\n",
            "Cloning into 'Praktikum-Kecerdasan-Komputasional'...\n",
            "remote: Enumerating objects: 494, done.\u001b[K\n",
            "remote: Counting objects: 100% (45/45), done.\u001b[K\n",
            "remote: Compressing objects: 100% (37/37), done.\u001b[K\n",
            "remote: Total 494 (delta 19), reused 24 (delta 8), pack-reused 449 (from 1)\u001b[K\n",
            "Receiving objects: 100% (494/494), 52.87 MiB | 10.82 MiB/s, done.\n",
            "Resolving deltas: 100% (122/122), done.\n",
            "Updating files: 100% (186/186), done.\n"
          ]
        }
      ],
      "source": [
        "%cd /content\n",
        "!git clone https://github.com/bscpnu/Praktikum-Kecerdasan-Komputasional"
      ]
    },
    {
      "cell_type": "code",
      "execution_count": null,
      "metadata": {
        "colab": {
          "base_uri": "https://localhost:8080/"
        },
        "id": "Ne1V-NOw4q6b",
        "outputId": "05b606c3-3afb-40c2-b3cd-0195ebc21e8a"
      },
      "outputs": [
        {
          "name": "stdout",
          "output_type": "stream",
          "text": [
            "/content/Praktikum-Kecerdasan-Komputasional/Praktikum/2 - Logical Agents\n"
          ]
        }
      ],
      "source": [
        "%cd \"/content/Praktikum-Kecerdasan-Komputasional/Praktikum/2 - Logical Agents\""
      ]
    },
    {
      "cell_type": "code",
      "execution_count": null,
      "metadata": {
        "id": "kXOg3H9U4sth"
      },
      "outputs": [],
      "source": [
        "!mv \"/content/Praktikum-Kecerdasan-Komputasional/aima-data\" \"/content/Praktikum-Kecerdasan-Komputasional/Praktikum/2 - Logical Agents\""
      ]
    },
    {
      "cell_type": "code",
      "execution_count": null,
      "metadata": {
        "colab": {
          "base_uri": "https://localhost:8080/"
        },
        "id": "fKeL9aDB4uH_",
        "outputId": "8c562a80-723d-4bea-cb8d-34dc4cd3e2d3"
      },
      "outputs": [
        {
          "name": "stderr",
          "output_type": "stream",
          "text": [
            "/content/Praktikum-Kecerdasan-Komputasional/Praktikum/2 - Logical Agents/logic.py:682: SyntaxWarning: invalid escape sequence '\\s'\n",
            "  For each literal compute J(l) = \\sum{l in clause c} 2^{-|c|}\n",
            "/content/Praktikum-Kecerdasan-Komputasional/Praktikum/2 - Logical Agents/csp.py:642: SyntaxWarning: invalid escape sequence '\\ '\n",
            "  downs[i]     Number of queens in the \\ diagonal\n"
          ]
        }
      ],
      "source": [
        "from utils import *\n",
        "from logic import *\n",
        "import agents\n",
        "import math\n",
        "from inspect import getsource\n",
        "from IPython.display import HTML\n",
        "from tabulate import tabulate"
      ]
    },
    {
      "cell_type": "code",
      "execution_count": null,
      "metadata": {
        "id": "_LQlqffK6YrH"
      },
      "outputs": [],
      "source": [
        "def psource(*functions):\n",
        "    \"\"\"Print the source code for the given function(s).\"\"\"\n",
        "    source_code = '\\n\\n'.join(getsource(fn) for fn in functions)\n",
        "    try:\n",
        "        from pygments.formatters import HtmlFormatter\n",
        "        from pygments.lexers import PythonLexer\n",
        "        from pygments import highlight\n",
        "\n",
        "        formatter = HtmlFormatter(\n",
        "            full=True,\n",
        "            style='catppuccin-mocha',\n",
        "            noclasses=True,\n",
        "        )\n",
        "        display(HTML(highlight(source_code, PythonLexer(), formatter)))\n",
        "\n",
        "    except ImportError:\n",
        "        print(source_code)"
      ]
    },
    {
      "cell_type": "markdown",
      "metadata": {
        "id": "7cT1IqFb2wwM"
      },
      "source": [
        "## Template Map"
      ]
    },
    {
      "cell_type": "code",
      "execution_count": null,
      "metadata": {
        "id": "CeyBdMcJqqFg"
      },
      "outputs": [],
      "source": [
        "\"\"\"\n",
        "Cuman template, boleh diedit, pokoknya bebas, yang penting selesaikan dengan method yang diberikan\n",
        "Mau di visualisasiin atau ngga juga bebas \\\n",
        "Kalau bisa tambahkan %%timeit, biar bisa keliatan waktunya\n",
        "\"\"\"\n",
        "\n",
        "# Diambil dari AIMA-DATA\n",
        "class WumpusAgent:\n",
        "    def __init__(self, world, initial_pos=(1,1)):\n",
        "        self.world = world\n",
        "        self.kb = PropKB()\n",
        "        self.visited = set()\n",
        "        self.position = initial_pos\n",
        "\n",
        "        # Cell Agent pertama kali\n",
        "        self.kb.tell(expr(f\"Safe({initial_pos[0]},{initial_pos[1]})\"))\n",
        "        self.visited.add(initial_pos)\n",
        "\n",
        "        # Update KB berdasarkan percepts\n",
        "        self.update_kb(*initial_pos)\n",
        "\n",
        "    def get_percepts(self, x, y):\n",
        "        \"\"\"\n",
        "        Ambil percept dari koordinat (x,y) sesuai world\n",
        "        \"\"\"\n",
        "        world_x = len(self.world) - y\n",
        "        world_y = x - 1\n",
        "        if 0 <= world_x < len(self.world) and 0 <= world_y < len(self.world[0]):\n",
        "            return set(self.world[world_x][world_y])\n",
        "        return set()\n",
        "\n",
        "    def update_kb(self, x, y):\n",
        "        \"\"\"\n",
        "        Update KB dengan percepts dari posisi (x,y). ini contohnya:\n",
        "        \"\"\"\n",
        "        percepts = self.get_percepts(x, y)\n",
        "        for p in percepts:\n",
        "            self.kb.tell(expr(f\"{p}({x},{y})\"))  # contohnya => Breeze(1,2)\n"
      ]
    },
    {
      "cell_type": "code",
      "execution_count": null,
      "metadata": {
        "colab": {
          "base_uri": "https://localhost:8080/"
        },
        "id": "KJGGDgyA4d2b",
        "outputId": "c4f2b69d-77d5-4207-ca7e-07864f5ede15"
      },
      "outputs": [
        {
          "name": "stdout",
          "output_type": "stream",
          "text": [
            "KB sekarang:\n",
            "[Safe(1, 1)]\n",
            "Percepts di (1,2): {'B'}\n"
          ]
        }
      ],
      "source": [
        "world = [\n",
        "    [[\"B\"], [\"P\"], [\"B\"], [\"P\"], [\"G\"]],\n",
        "    [[\"S\"], [\"B\"], [], [\"B\"], []],\n",
        "    [[\"P\"], [], [\"S\"], [], []],\n",
        "    [[\"B\"], [\"S\"], [\"W\"], [\"S\", \"B\"], []],\n",
        "    [[], [], [\"S\", \"B\"], [\"P\"], [\"B\"]]\n",
        "]\n",
        "\n",
        "agent = WumpusAgent(world, initial_pos=(1,1))\n",
        "\n",
        "print(\"KB sekarang:\")\n",
        "print(agent.kb.clauses)\n",
        "\n",
        "print(\"Percepts di (1,2):\", agent.get_percepts(1,2))"
      ]
    }
  ],
  "metadata": {
    "colab": {
      "provenance": []
    },
    "kernelspec": {
      "display_name": "Python 3",
      "name": "python3"
    },
    "language_info": {
      "name": "python"
    }
  },
  "nbformat": 4,
  "nbformat_minor": 0
}
