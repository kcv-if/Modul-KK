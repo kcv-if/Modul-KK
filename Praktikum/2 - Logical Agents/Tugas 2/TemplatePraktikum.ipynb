{
  "cells": [
    {
      "cell_type": "markdown",
      "metadata": {
        "id": "b9ajJ8A9wCMy"
      },
      "source": [
        "# Prakitkum Kecerdasan Komputasional 🤖\n",
        "<b>Notebook ini hanya berupa template, silahkan bisa dijadikan referensi. Soalnya di file pdf sebelumnya ya 💐</b>\n",
        "\n",
        "Written by: Dipo & Farhan\n",
        "\n",
        "Special Thanks to: Faiz "
      ]
    },
    {
      "cell_type": "markdown",
      "metadata": {
        "id": "vfyddv7V2pCq"
      },
      "source": [
        "## Project Setup 📐"
      ]
    },
    {
      "cell_type": "code",
      "execution_count": null,
      "metadata": {
        "colab": {
          "base_uri": "https://localhost:8080/"
        },
        "id": "PQVsTolW4kzn",
        "outputId": "7a3c5535-0386-4b8a-8fe6-805fdb194ae0"
      },
      "outputs": [
        {
          "name": "stdout",
          "output_type": "stream",
          "text": [
            "Reading package lists... Done\n",
            "Building dependency tree... Done\n",
            "Reading state information... Done\n",
            "git is already the newest version (1:2.34.1-1ubuntu1.15).\n",
            "0 upgraded, 0 newly installed, 0 to remove and 35 not upgraded.\n"
          ]
        }
      ],
      "source": [
        "!sudo apt install git"
      ]
    },
    {
      "cell_type": "code",
      "execution_count": null,
      "metadata": {
        "colab": {
          "base_uri": "https://localhost:8080/"
        },
        "id": "Du--G3YV4m7h",
        "outputId": "c9a7b208-0330-4a76-e6a7-c8ffc4b4345b"
      },
      "outputs": [],
      "source": [
        "!pip install ipythonblocks\n",
        "!pip install qpsolvers\n",
        "!pip install catppuccin\n",
        "!pip install catppuccin[pygments]\n",
        "!pip install tabulate"
      ]
    },
    {
      "cell_type": "code",
      "execution_count": null,
      "metadata": {
        "colab": {
          "base_uri": "https://localhost:8080/"
        },
        "id": "GahT-9zr4pPL",
        "outputId": "6c451379-d036-41f4-a99b-cdb062fa397b"
      },
      "outputs": [],
      "source": [
        "%cd /content\n",
        "!git clone https://github.com/bscpnu/Praktikum-Kecerdasan-Komputasional"
      ]
    },
    {
      "cell_type": "code",
      "execution_count": null,
      "metadata": {
        "colab": {
          "base_uri": "https://localhost:8080/"
        },
        "id": "Ne1V-NOw4q6b",
        "outputId": "05b606c3-3afb-40c2-b3cd-0195ebc21e8a"
      },
      "outputs": [],
      "source": [
        "%cd \"/content/Praktikum-Kecerdasan-Komputasional/Praktikum/2 - Logical Agents\""
      ]
    },
    {
      "cell_type": "code",
      "execution_count": null,
      "metadata": {
        "id": "kXOg3H9U4sth"
      },
      "outputs": [],
      "source": [
        "!mv \"/content/Praktikum-Kecerdasan-Komputasional/aima-data\" \"/content/Praktikum-Kecerdasan-Komputasional/Praktikum/2 - Logical Agents\""
      ]
    },
    {
      "cell_type": "code",
      "execution_count": null,
      "metadata": {
        "colab": {
          "base_uri": "https://localhost:8080/"
        },
        "id": "fKeL9aDB4uH_",
        "outputId": "8c562a80-723d-4bea-cb8d-34dc4cd3e2d3"
      },
      "outputs": [],
      "source": [
        "from utils import *\n",
        "from logic import *\n",
        "import agents\n",
        "import math\n",
        "from inspect import getsource\n",
        "from IPython.display import HTML\n",
        "from tabulate import tabulate"
      ]
    },
    {
      "cell_type": "code",
      "execution_count": null,
      "metadata": {
        "id": "_LQlqffK6YrH"
      },
      "outputs": [],
      "source": [
        "def psource(*functions):\n",
        "    \"\"\"Print the source code for the given function(s).\"\"\"\n",
        "    source_code = '\\n\\n'.join(getsource(fn) for fn in functions)\n",
        "    try:\n",
        "        from pygments.formatters import HtmlFormatter\n",
        "        from pygments.lexers import PythonLexer\n",
        "        from pygments import highlight\n",
        "\n",
        "        formatter = HtmlFormatter(\n",
        "            full=True,\n",
        "            style='catppuccin-mocha',\n",
        "            noclasses=True,\n",
        "        )\n",
        "        display(HTML(highlight(source_code, PythonLexer(), formatter)))\n",
        "\n",
        "    except ImportError:\n",
        "        print(source_code)"
      ]
    },
    {
      "cell_type": "markdown",
      "metadata": {
        "id": "7cT1IqFb2wwM"
      },
      "source": [
        "## Template Map"
      ]
    },
    {
      "cell_type": "code",
      "execution_count": null,
      "metadata": {
        "id": "CeyBdMcJqqFg"
      },
      "outputs": [],
      "source": [
        "\"\"\"\n",
        "Cuman template, boleh diedit, pokoknya bebas, yang penting selesaikan dengan method yang diberikan\n",
        "Mau di visualisasiin atau ngga juga bebas \\\n",
        "Kalau bisa tambahkan %%timeit, biar bisa keliatan waktunya\n",
        "\"\"\"\n",
        "\n",
        "# Diambil dari AIMA-DATA\n",
        "class WumpusAgent:\n",
        "    def __init__(self, world, initial_pos=(1,1)):\n",
        "        self.world = world\n",
        "        self.kb = PropKB()\n",
        "        self.visited = set()\n",
        "        self.position = initial_pos\n",
        "\n",
        "        # Cell Agent pertama kali\n",
        "        self.kb.tell(expr(f\"Safe({initial_pos[0]},{initial_pos[1]})\"))\n",
        "        self.visited.add(initial_pos)\n",
        "\n",
        "        # Update KB berdasarkan percepts\n",
        "        self.update_kb(*initial_pos)\n",
        "\n",
        "    def get_percepts(self, x, y):\n",
        "        \"\"\"\n",
        "        Ambil percept dari koordinat (x,y) sesuai world\n",
        "        \"\"\"\n",
        "        world_x = len(self.world) - y\n",
        "        world_y = x - 1\n",
        "        if 0 <= world_x < len(self.world) and 0 <= world_y < len(self.world[0]):\n",
        "            return set(self.world[world_x][world_y])\n",
        "        return set()\n",
        "\n",
        "    def update_kb(self, x, y):\n",
        "        \"\"\"\n",
        "        Update KB dengan percepts dari posisi (x,y). ini contohnya:\n",
        "        \"\"\"\n",
        "        percepts = self.get_percepts(x, y)\n",
        "        for p in percepts:\n",
        "            self.kb.tell(expr(f\"{p}({x},{y})\"))  # contohnya => Breeze(1,2)\n"
      ]
    },
    {
      "cell_type": "code",
      "execution_count": null,
      "metadata": {
        "colab": {
          "base_uri": "https://localhost:8080/"
        },
        "id": "KJGGDgyA4d2b",
        "outputId": "c4f2b69d-77d5-4207-ca7e-07864f5ede15"
      },
      "outputs": [
        {
          "name": "stdout",
          "output_type": "stream",
          "text": [
            "KB sekarang:\n",
            "[Safe(1, 1)]\n",
            "Percepts di (1,2): {'B'}\n"
          ]
        }
      ],
      "source": [
        "world = [\n",
        "    [[\"B\"], [\"P\"], [\"B\"], [\"P\"], [\"G\"]],\n",
        "    [[\"S\"], [\"B\"], [], [\"B\"], []],\n",
        "    [[\"P\"], [], [\"S\"], [], []],\n",
        "    [[\"B\"], [\"S\"], [\"W\"], [\"S\", \"B\"], []],\n",
        "    [[], [], [\"S\", \"B\"], [\"P\"], [\"B\"]]\n",
        "]\n",
        "\n",
        "agent = WumpusAgent(world, initial_pos=(1,1))\n",
        "\n",
        "print(\"KB sekarang:\")\n",
        "print(agent.kb.clauses)\n",
        "\n",
        "print(\"Percepts di (1,2):\", agent.get_percepts(1,2))"
      ]
    }
  ],
  "metadata": {
    "colab": {
      "provenance": []
    },
    "kernelspec": {
      "display_name": "Python 3",
      "name": "python3"
    },
    "language_info": {
      "name": "python"
    }
  },
  "nbformat": 4,
  "nbformat_minor": 0
}
